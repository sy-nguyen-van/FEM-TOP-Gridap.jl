{
 "cells": [
  {
   "cell_type": "markdown",
   "id": "bdf6cfaf",
   "metadata": {},
   "source": [
    "## Linear Elasticity for Cantilever Beam"
   ]
  },
  {
   "cell_type": "code",
   "execution_count": 15,
   "id": "5af4ef94",
   "metadata": {},
   "outputs": [],
   "source": [
    "using Gridap, Gridap.CellData, SparseArrays\n",
    "using NearestNeighbors, Printf  # make sure this is at the top of your file\n",
    "using Makie,GLMakie, LaTeXStrings, Makie.GeometryBasics\n",
    "using CSV, DataFrames"
   ]
  },
  {
   "cell_type": "code",
   "execution_count": 16,
   "id": "3e01102d",
   "metadata": {},
   "outputs": [
    {
     "data": {
      "text/plain": [
       "run_finite_difference_check (generic function with 1 method)"
      ]
     },
     "metadata": {},
     "output_type": "display_data"
    }
   ],
   "source": [
    "push!(LOAD_PATH, \"utilities\")\n",
    "include(\"utilities/plot_design.jl\")\n",
    "include(\"utilities/OC.jl\")\n",
    "include(\"utilities/SIMP_Inter.jl\")\n",
    "include(\"utilities/filters.jl\")\n",
    "include(\"utilities/Surface_Vec.jl\")\n",
    "push!(LOAD_PATH, \"FD_check\")\n",
    "include(\"FD_check/run_finite_difference_check.jl\")"
   ]
  },
  {
   "cell_type": "code",
   "execution_count": 17,
   "id": "23042dba",
   "metadata": {},
   "outputs": [],
   "source": [
    "L = 20 # Length\n",
    "W = 10 # Width and Height\n",
    "domain = (0, L, 0, W, 0, W) # sizes along X, Y, Z\n",
    "partition = (20, 10, 10) # mesh sizes\n",
    "model = CartesianDiscreteModel(domain, partition);\n",
    "# Tag the left face (x = 0); right face (x = L)\n",
    "labels = get_face_labeling(model)\n",
    "add_tag_from_tags!(labels,\"left\", [1,3,5,7,13,15,17,19,25]); # left face: corners (1,3,5,7); edges (13,15,17,19); others (25) \n",
    "add_tag_from_tags!(labels, \"right\", [2,4,6,8,14,16,18,20,26]); # Right face: corners (2,4,6,8); edges (14,16,18,20); others (26) "
   ]
  },
  {
   "cell_type": "code",
   "execution_count": 29,
   "id": "cda3eae2",
   "metadata": {},
   "outputs": [
    {
     "name": "stdout",
     "output_type": "stream",
     "text": [
      "Compliance 1: 1.0910693971823717\n"
     ]
    }
   ],
   "source": [
    "# Integrating on the domain Ω\n",
    "degree = 2\n",
    "Ω = Triangulation(model)\n",
    "dΩ = Measure(Ω,degree)\n",
    "# neumann boundaries\n",
    "Γ = BoundaryTriangulation(model,tags = \"right\")\n",
    "dΓ = Measure(Γ,degree)\n",
    "# Vector-valued FE space\n",
    "order = 1\n",
    "reffe = ReferenceFE(lagrangian, VectorValue{3,Float64}, order)\n",
    "V = TestFESpace(Ω, reffe; conformity=:H1, dirichlet_tags = \"left\")\n",
    "U = TrialFESpace(V)\n",
    "# Homogenized material properties\n",
    "ν₀ = 0.3   # Poisson's ratio of based material\n",
    "E₀ = 119e3 # Young's modulus of based material\n",
    "G₀ = E₀ / (2 * (1 + 0.2)) # 0.2 is minimum \\nu\n",
    "\n",
    "ρ = 0.5    # density \n",
    "# Compute elastic constants using the provided formulas\n",
    "Coeffs = Matrix(CSV.read(\"utilities/\"*\"Coeffs.csv\", DataFrame, header=false))[1:3,:]\n",
    "degree_x, degree_y = 3, 1\n",
    "# Interpolation law\n",
    "Coeffs_E, Coeffs_nu, Coeffs_G = Coeffs[1, :], Coeffs[2, :], Coeffs[3, :]\n",
    "Pred_Vec, ∂_Pred_∂ρ = Surface_Vec(ρ, ν₀, degree_x, degree_y)\n",
    "# =======================================================================\n",
    "E = E₀ * dot(Pred_Vec ,Coeffs_E)\n",
    "ν = dot(Pred_Vec, Coeffs_nu)\n",
    "λ = (E*ν)/((1+ν)*(1-2*ν)) # C12\n",
    "μ = G₀* dot(Pred_Vec, Coeffs_G)\n",
    "\n",
    "∂E∂ρ = E₀ * dot(∂_Pred_∂ρ ,Coeffs_E)\n",
    "∂λ∂ρ = (∂E∂ρ*ν)/((1+ν)*(1-2*ν)) \n",
    "∂μ∂ρ = G₀* dot(∂_Pred_∂ρ, Coeffs_G)\n",
    "# -------------------------------\n",
    "ε₀(u) = 0.5 * ( ∇(u) + transpose(∇(u))) # Strain; In Gridap this can be automatically defined in Gridap.ε\n",
    "σ(ε₀) = λ * tr(ε₀) * one(ε₀) + 2μ * ε₀; # Stress\n",
    "# The weak form\n",
    "F(x) = VectorValue(0.0, -1, 0.0) # A unit load along Y axis applies to each node on the right face\n",
    "a(u,v) = ∫((σ∘ε₀(u)) ⊙ ε₀(v)) *dΩ # Left-hand size; (∘) Composite functions\n",
    "l(v) = ∫(F ⋅ v) * dΓ # Right-hand size\n",
    "# Solution of the FE problem\n",
    "op = AffineFEOperator(a,l,U,V)\n",
    "uh = solve(op)\n",
    "\n",
    "\n",
    "# Method 1\n",
    "C1 = sum(∫((σ ∘ ε₀(uh)) ⊙ ε₀(uh)) * dΩ) # Compliance\n",
    "println(\"Compliance 1: \", C1)"
   ]
  },
  {
   "cell_type": "code",
   "execution_count": null,
   "id": "712f8774",
   "metadata": {},
   "outputs": [],
   "source": [
    "typeof()"
   ]
  },
  {
   "cell_type": "code",
   "execution_count": 19,
   "id": "fbc92333",
   "metadata": {},
   "outputs": [
    {
     "name": "stdout",
     "output_type": "stream",
     "text": [
      "Compliance 1: 1.0910353873837233\n"
     ]
    },
    {
     "data": {
      "text/plain": [
       "3.4009798648426677"
      ]
     },
     "metadata": {},
     "output_type": "display_data"
    }
   ],
   "source": [
    "δ = 1e-5\n",
    "ρ = 0.5  + δ  # density \n",
    "# Compute elastic constants using the provided formulas\n",
    "Coeffs = Matrix(CSV.read(\"utilities/\"*\"Coeffs.csv\", DataFrame, header=false))[1:3,:]\n",
    "degree_x, degree_y = 3, 1\n",
    "# Interpolation law\n",
    "Coeffs_E, Coeffs_nu, Coeffs_G = Coeffs[1, :], Coeffs[2, :], Coeffs[3, :]\n",
    "Pred_Vec, ∂_Pred_∂ρ = Surface_Vec(ρ, ν₀, degree_x, degree_y)\n",
    "# =======================================================================\n",
    "E = E₀ * dot(Pred_Vec ,Coeffs_E)\n",
    "ν = dot(Pred_Vec, Coeffs_nu)\n",
    "λ = (E*ν)/((1+ν)*(1-2*ν)) # C12\n",
    "μ = G₀* dot(Pred_Vec, Coeffs_G)\n",
    "\n",
    "∂E∂ρ = E₀ * dot(∂_Pred_∂ρ ,Coeffs_E)\n",
    "∂λ∂ρ = (∂E∂ρ*ν)/((1+ν)*(1-2*ν)) \n",
    "∂μ∂ρ = G₀* dot(∂_Pred_∂ρ, Coeffs_G)\n",
    "# -------------------------------\n",
    "ε₀(u) = 0.5 * ( ∇(u) + transpose(∇(u))) # Strain; In Gridap this can be automatically defined in Gridap.ε\n",
    "σ(ε₀) = λ * tr(ε₀) * one(ε₀) + 2μ * ε₀; # Stress\n",
    "# The weak form\n",
    "F(x) = VectorValue(0.0, -1, 0.0) # A unit load along Y axis applies to each node on the right face\n",
    "\n",
    "a(u,v) = ∫((σ∘ε₀(u)) ⊙ ε₀(v)) *dΩ # Left-hand size; (∘) Composite functions\n",
    "\n",
    "l(v) = ∫(F ⋅ v) * dΓ # Right-hand size\n",
    "# Solution of the FE problem\n",
    "op = AffineFEOperator(a,l,U,V)\n",
    "uh = solve(op)\n",
    "# Method 1\n",
    "C2 = sum(∫((σ ∘ ε₀(uh)) ⊙ ε₀(uh)) * dΩ) # Compliance\n",
    "println(\"Compliance 1: \", C2)\n",
    "dC_dρ_1 = (C1-C2)/ δ"
   ]
  },
  {
   "cell_type": "code",
   "execution_count": 20,
   "id": "2bbc4a89",
   "metadata": {},
   "outputs": [
    {
     "name": "stdout",
     "output_type": "stream",
     "text": [
      "dC/dρ: 3.4692731386696205\n"
     ]
    }
   ],
   "source": [
    "∂σ∂ρ(ε) = ∂λ∂ρ * tr(ε) * one(ε) + 2 * ∂μ∂ρ * ε\n",
    "\n",
    "dC_dρ = sum( ∫( (∂σ∂ρ ∘ ε₀(uh)) ⊙ ε₀(uh) ) * dΩ )\n",
    "\n",
    "println(\"dC/dρ: \", dC_dρ)"
   ]
  },
  {
   "cell_type": "code",
   "execution_count": 21,
   "id": "7afa26b3",
   "metadata": {},
   "outputs": [
    {
     "data": {
      "text/plain": [
       "7623×7623 SparseMatrixCSC{Float64, Int64} with 527589 stored entries:\n",
       "⎡⠻⣦⡀⠘⢷⣄⠀⠀⠀⠀⠀⠀⠀⠀⠀⠀⠀⠀⠀⠀⠀⠀⠀⠀⠀⠀⠀⠀⠀⠀⠀⠀⠀⠀⠀⠀⠀⠀⠀⠀⎤\n",
       "⎢⣀⠈⠻⣦⡀⠙⢷⣄⠀⠀⠀⠀⠀⠀⠀⠀⠀⠀⠀⠀⠀⠀⠀⠀⠀⠀⠀⠀⠀⠀⠀⠀⠀⠀⠀⠀⠀⠀⠀⠀⎥\n",
       "⎢⠙⢷⣄⠈⠻⣦⡀⠙⢷⣄⠀⠀⠀⠀⠀⠀⠀⠀⠀⠀⠀⠀⠀⠀⠀⠀⠀⠀⠀⠀⠀⠀⠀⠀⠀⠀⠀⠀⠀⠀⎥\n",
       "⎢⠀⠀⠙⢷⣄⠈⠻⣦⡀⠙⠷⣄⠀⠀⠀⠀⠀⠀⠀⠀⠀⠀⠀⠀⠀⠀⠀⠀⠀⠀⠀⠀⠀⠀⠀⠀⠀⠀⠀⠀⎥\n",
       "⎢⠀⠀⠀⠀⠙⢷⣄⠈⠻⣦⡀⠙⢷⣄⠀⠀⠀⠀⠀⠀⠀⠀⠀⠀⠀⠀⠀⠀⠀⠀⠀⠀⠀⠀⠀⠀⠀⠀⠀⠀⎥\n",
       "⎢⠀⠀⠀⠀⠀⠀⠙⢧⣄⠈⠻⣦⡀⠙⢷⣄⠀⠀⠀⠀⠀⠀⠀⠀⠀⠀⠀⠀⠀⠀⠀⠀⠀⠀⠀⠀⠀⠀⠀⠀⎥\n",
       "⎢⠀⠀⠀⠀⠀⠀⠀⠀⠙⢷⣄⠈⠻⣦⡀⠙⢷⣄⠀⠀⠀⠀⠀⠀⠀⠀⠀⠀⠀⠀⠀⠀⠀⠀⠀⠀⠀⠀⠀⠀⎥\n",
       "⎢⠀⠀⠀⠀⠀⠀⠀⠀⠀⠀⠙⢷⣄⠈⠻⣦⡀⠙⢷⣄⠀⠀⠀⠀⠀⠀⠀⠀⠀⠀⠀⠀⠀⠀⠀⠀⠀⠀⠀⠀⎥\n",
       "⎢⠀⠀⠀⠀⠀⠀⠀⠀⠀⠀⠀⠀⠙⢷⣄⠈⠻⣦⡀⠙⢷⣄⠀⠀⠀⠀⠀⠀⠀⠀⠀⠀⠀⠀⠀⠀⠀⠀⠀⠀⎥\n",
       "⎢⠀⠀⠀⠀⠀⠀⠀⠀⠀⠀⠀⠀⠀⠀⠙⢷⣄⠈⠻⣦⡀⠙⢷⣄⠀⠀⠀⠀⠀⠀⠀⠀⠀⠀⠀⠀⠀⠀⠀⠀⎥\n",
       "⎢⠀⠀⠀⠀⠀⠀⠀⠀⠀⠀⠀⠀⠀⠀⠀⠀⠙⢷⣄⠈⠻⣦⡀⠙⢷⣄⠀⠀⠀⠀⠀⠀⠀⠀⠀⠀⠀⠀⠀⠀⎥\n",
       "⎢⠀⠀⠀⠀⠀⠀⠀⠀⠀⠀⠀⠀⠀⠀⠀⠀⠀⠀⠙⢷⣄⠈⠻⣦⡀⠙⢷⣄⠀⠀⠀⠀⠀⠀⠀⠀⠀⠀⠀⠀⎥\n",
       "⎢⠀⠀⠀⠀⠀⠀⠀⠀⠀⠀⠀⠀⠀⠀⠀⠀⠀⠀⠀⠀⠙⢷⣄⠈⠻⣦⡀⠙⢷⣄⠀⠀⠀⠀⠀⠀⠀⠀⠀⠀⎥\n",
       "⎢⠀⠀⠀⠀⠀⠀⠀⠀⠀⠀⠀⠀⠀⠀⠀⠀⠀⠀⠀⠀⠀⠀⠙⢷⣄⠈⠻⣦⡀⠙⢷⣄⠀⠀⠀⠀⠀⠀⠀⠀⎥\n",
       "⎢⠀⠀⠀⠀⠀⠀⠀⠀⠀⠀⠀⠀⠀⠀⠀⠀⠀⠀⠀⠀⠀⠀⠀⠀⠙⢷⣄⠈⠻⣦⡀⠙⢳⣄⠀⠀⠀⠀⠀⠀⎥\n",
       "⎢⠀⠀⠀⠀⠀⠀⠀⠀⠀⠀⠀⠀⠀⠀⠀⠀⠀⠀⠀⠀⠀⠀⠀⠀⠀⠀⠙⢷⣄⠈⠻⣦⡀⠙⢷⣄⠀⠀⠀⠀⎥\n",
       "⎢⠀⠀⠀⠀⠀⠀⠀⠀⠀⠀⠀⠀⠀⠀⠀⠀⠀⠀⠀⠀⠀⠀⠀⠀⠀⠀⠀⠀⠙⢶⣄⠈⠻⣦⡀⠙⢷⣄⠀⠀⎥\n",
       "⎢⠀⠀⠀⠀⠀⠀⠀⠀⠀⠀⠀⠀⠀⠀⠀⠀⠀⠀⠀⠀⠀⠀⠀⠀⠀⠀⠀⠀⠀⠀⠙⢷⣄⠈⠻⣦⡀⠙⢷⣄⎥\n",
       "⎢⠀⠀⠀⠀⠀⠀⠀⠀⠀⠀⠀⠀⠀⠀⠀⠀⠀⠀⠀⠀⠀⠀⠀⠀⠀⠀⠀⠀⠀⠀⠀⠀⠙⢷⣄⠈⠻⣦⡀⠉⎥\n",
       "⎣⠀⠀⠀⠀⠀⠀⠀⠀⠀⠀⠀⠀⠀⠀⠀⠀⠀⠀⠀⠀⠀⠀⠀⠀⠀⠀⠀⠀⠀⠀⠀⠀⠀⠀⠙⢷⡄⠈⠻⣦⎦"
      ]
     },
     "metadata": {},
     "output_type": "display_data"
    }
   ],
   "source": [
    "L = 20 # Length\n",
    "W = 10 # Width and Height\n",
    "domain = (0, L, 0, W, 0, W) # sizes along X, Y, Z\n",
    "partition = (20, 10, 10) # mesh sizes\n",
    "model = CartesianDiscreteModel(domain, partition);\n",
    "# Tag the left face (x = 0); right face (x = L)\n",
    "labels = get_face_labeling(model)\n",
    "add_tag_from_tags!(labels,\"left\", [1,3,5,7,13,15,17,19,25]); # left face: corners (1,3,5,7); edges (13,15,17,19); others (25) \n",
    "add_tag_from_tags!(labels, \"right\", [2,4,6,8,14,16,18,20,26]); # Right face: corners (2,4,6,8); edges (14,16,18,20); others (26) \n",
    "\n",
    "degree = 2\n",
    "Ω = Triangulation(model)\n",
    "dΩ = Measure(Ω,degree)\n",
    "Γ = BoundaryTriangulation(model)\n",
    "dΓ = Measure(Γ,degree)\n",
    "# Vector-valued FE space\n",
    "order = 1\n",
    "reffe = ReferenceFE(lagrangian, VectorValue{3,Float64}, order)\n",
    "\n",
    "V = TestFESpace(Ω, reffe; conformity=:H1)\n",
    "U = TrialFESpace(V)\n",
    "\n",
    "RHS = assemble_vector(V) do v ∫(F ⋅ v) * dΓ end\n",
    "\n",
    "LHS = assemble_matrix(U,V) do u,v  ∫((σ∘ε₀(u)) ⊙ ε₀(v)) *dΩ end\n"
   ]
  },
  {
   "cell_type": "code",
   "execution_count": 22,
   "id": "fc60e825",
   "metadata": {},
   "outputs": [],
   "source": []
  },
  {
   "cell_type": "code",
   "execution_count": 23,
   "id": "098de2de",
   "metadata": {},
   "outputs": [
    {
     "data": {
      "text/plain": [
       "8-element Vector{VectorValue{3, Float64}}:\n",
       "  VectorValue{3, Float64}(0.0, 0.0, 9.0)\n",
       "  VectorValue{3, Float64}(1.0, 0.0, 9.0)\n",
       "  VectorValue{3, Float64}(0.0, 1.0, 9.0)\n",
       "  VectorValue{3, Float64}(1.0, 1.0, 9.0)\n",
       " VectorValue{3, Float64}(0.0, 0.0, 10.0)\n",
       " VectorValue{3, Float64}(1.0, 0.0, 10.0)\n",
       " VectorValue{3, Float64}(0.0, 1.0, 10.0)\n",
       " VectorValue{3, Float64}(1.0, 1.0, 10.0)"
      ]
     },
     "metadata": {},
     "output_type": "display_data"
    }
   ],
   "source": [
    "# Compute centroids of elements and store in a matrix\n",
    "cell_coords = get_cell_coordinates(Ω) # Get coordinates of vertices for each cell\n",
    "cell_coords[1,1,10]"
   ]
  },
  {
   "cell_type": "code",
   "execution_count": 24,
   "id": "3b204309",
   "metadata": {},
   "outputs": [
    {
     "data": {
      "text/plain": [
       "3×16000 Matrix{Float64}:\n",
       " 0.0  1.0  0.0  1.0  0.0  1.0  0.0  …  19.0  20.0  19.0  20.0  19.0  20.0\n",
       " 0.0  0.0  1.0  1.0  0.0  0.0  1.0     10.0  10.0   9.0   9.0  10.0  10.0\n",
       " 0.0  0.0  0.0  0.0  1.0  1.0  1.0      9.0   9.0  10.0  10.0  10.0  10.0"
      ]
     },
     "metadata": {},
     "output_type": "display_data"
    }
   ],
   "source": [
    "data=cell_coords[:]\n",
    "flat_coords = reduce(vcat, data)\n",
    "coors = hcat(map(x -> collect(x), Tuple.(flat_coords))...)\n",
    "\n"
   ]
  },
  {
   "cell_type": "code",
   "execution_count": 25,
   "id": "931d6167",
   "metadata": {},
   "outputs": [
    {
     "ename": "UndefVarError",
     "evalue": "UndefVarError: `disp_dirs4` not defined",
     "output_type": "error",
     "traceback": [
      "UndefVarError: `disp_dirs4` not defined\n",
      "\n",
      "Stacktrace:\n",
      " [1] top-level scope\n",
      "   @ c:\\Users\\snv22002\\Documents\\GitHub\\Finite-Element-Method-with-Gridap.jl\\jl_notebook_cell_df34fa98e69747e1a8f8a730347b8e2f_X14sZmlsZQ==.jl:18"
     ]
    }
   ],
   "source": [
    "# y-coordinates are in the 2nd row\n",
    "y_vals = coors[2, :]\n",
    "\n",
    "# Find indices where y == 0\n",
    "idx_bottom = findall(==(minimum(y_vals)), y_vals)'\n",
    "# Find indices where y == 0\n",
    "idx_top = findall(==(maximum(y_vals)), y_vals)'\n",
    "\n",
    "disp_region = vec([idx_bottom; idx_top])\n",
    "\n",
    "disp_dirs = 1*ones(length(disp_region)) # Along x-axis\n",
    "\n",
    " disp_mag = zeros(1, length(disp_region))\n",
    "    disp_dirs1 = ones(1, length(disp_region))\n",
    "    disp_dirs2 = 2 * ones(1, length(disp_region))\n",
    "    disp_dirs3 = 3 * ones(1, length(disp_region))\n",
    "\n",
    "  disp_dirs = vec([vec(idx_bottom); vec(disp_dirs2); vec(disp_dirs3); vec(disp_dirs4)])\n",
    "    disp_mag = vec([vec(disp_mag); vec(disp_mag); vec(disp_mag); vec(disp_mag2)])\n"
   ]
  },
  {
   "cell_type": "code",
   "execution_count": 26,
   "id": "61053db7",
   "metadata": {},
   "outputs": [
    {
     "ename": "UndefVarError",
     "evalue": "UndefVarError: `FE_dim` not defined",
     "output_type": "error",
     "traceback": [
      "UndefVarError: `FE_dim` not defined\n",
      "\n",
      "Stacktrace:\n",
      " [1] top-level scope\n",
      "   @ c:\\Users\\snv22002\\Documents\\GitHub\\Finite-Element-Method-with-Gridap.jl\\jl_notebook_cell_df34fa98e69747e1a8f8a730347b8e2f_X15sZmlsZQ==.jl:3"
     ]
    }
   ],
   "source": [
    "    FE_n_global_dof = size(RHS,1)\n",
    "    FE_fixeddofs = vec(zeros(1, FE_n_global_dof))\n",
    "    if FE_dim == 2\n",
    "        FE_fixeddofs[Int.(2 * FE_BC.disp_node[FE_BC.disp_dof.==1] .- 1)] .= 1 # set prescribed x1 DOFs \n",
    "        FE_fixeddofs[Int.(2 * FE_BC.disp_node[FE_BC.disp_dof.==2])] .= 1   # set prescribed x2 DOFs \n",
    "    else\n",
    "        FE_fixeddofs[Int.(3 * FE_BC.disp_node[FE_BC.disp_dof.==1] .- 2)] .= 1 # set prescribed x1 DOFs \n",
    "        FE_fixeddofs[Int.(3 * FE_BC.disp_node[FE_BC.disp_dof.==2] .- 1)] .= 1 # set prescribed x2 DOFs \n",
    "        FE_fixeddofs[Int.(3 * FE_BC.disp_node[FE_BC.disp_dof.==3])] .= 1   # set prescribed x3 DOFs \n",
    "    end\n",
    "    FE_freedofs = Int.(.!(FE_fixeddofs .== 1))\n",
    "\n",
    "    # by calling find() once to these functions to get the indices, the \n",
    "    # overhead of logical indexing may be removed.\n",
    "    FE_fixeddofs_ind = findall(FE_fixeddofs .== 1)\n",
    "    FE_freedofs_ind = findall(FE_freedofs .== 1)\n",
    "    FE_n_free_dof = length(FE_freedofs) # the number of free DOFs\n"
   ]
  },
  {
   "cell_type": "code",
   "execution_count": 27,
   "id": "9abac8f1",
   "metadata": {},
   "outputs": [
    {
     "data": {
      "text/plain": [
       "1×24 adjoint(::Vector{Int32}) with eltype Int32:\n",
       " 1  4  64  67  694  697  757  760  2  5  …  3  6  66  69  696  699  759  762"
      ]
     },
     "metadata": {},
     "output_type": "display_data"
    }
   ],
   "source": [
    "DOF = get_cell_dof_ids(U) # Get coordinates of vertices for each cell\n",
    "DOF[1]'"
   ]
  },
  {
   "cell_type": "code",
   "execution_count": 28,
   "id": "cff28e7a",
   "metadata": {},
   "outputs": [
    {
     "data": {
      "text/plain": [
       "7623"
      ]
     },
     "metadata": {},
     "output_type": "display_data"
    }
   ],
   "source": [
    "size(RHS,1)"
   ]
  }
 ],
 "metadata": {
  "kernelspec": {
   "display_name": "Julia 1.10.4",
   "language": "julia",
   "name": "julia-1.10"
  },
  "language_info": {
   "file_extension": ".jl",
   "mimetype": "application/julia",
   "name": "julia",
   "version": "1.10.4"
  }
 },
 "nbformat": 4,
 "nbformat_minor": 5
}
