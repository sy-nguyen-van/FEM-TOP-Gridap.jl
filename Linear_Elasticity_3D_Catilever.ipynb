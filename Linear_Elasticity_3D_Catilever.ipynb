{
 "cells": [
  {
   "cell_type": "markdown",
   "id": "bdf6cfaf",
   "metadata": {},
   "source": [
    "## Linear Elasticity for Cantilever Beam"
   ]
  },
  {
   "cell_type": "code",
   "execution_count": 1,
   "id": "5af4ef94",
   "metadata": {},
   "outputs": [],
   "source": [
    "using Gridap, Gridap.CellData, SparseArrays, BenchmarkTools\n",
    "using NearestNeighbors, Printf  # make sure this is at the top of your file\n",
    "using Makie,GLMakie, LaTeXStrings, Makie.GeometryBasics"
   ]
  },
  {
   "cell_type": "markdown",
   "id": "e83be394",
   "metadata": {},
   "source": [
    "## 1. Problem\n",
    "### Let's consider the 3D cantilever beam as follows:\n",
    "<img src=\"imagines/3D_Cantilever.png\" style=\"width:400px;height:250px\"/>"
   ]
  },
  {
   "cell_type": "markdown",
   "id": "77c9588f",
   "metadata": {},
   "source": [
    "The dimensions of beam are $L$ and $W$. \n",
    "\n",
    "This beam is fixed at $x=0$ and is applied a uniformly distributed load at $x=L$. The magnitude of the distributed load is $\\mathbf{F} = [0, -1, 0]^T$. "
   ]
  },
  {
   "cell_type": "markdown",
   "id": "808c9209",
   "metadata": {},
   "source": [
    "## Strong Form\n",
    "\n",
    "**Equilibrium equation:**\n",
    "$$\n",
    "\\nabla \\cdot \\boldsymbol{\\sigma} + \\mathbf{b} = \\mathbf{0} \\text{ in } \\Omega,\n",
    "$$\n",
    "\n",
    "**Kinematics equation (strain–displacement relation):**\n",
    "$$\n",
    "\\boldsymbol{\\varepsilon} = \\nabla_S \\mathbf{u} = \\frac{1}{2} \\Big[ \\nabla \\mathbf{u} + (\\nabla \\mathbf{u})^T \\Big].\n",
    "$$\n",
    "\n",
    "**Constitutive equation (stress–strain relation):**\n",
    "$$\n",
    "\\boldsymbol{\\sigma} = \\mathbf{C} \\boldsymbol{\\varepsilon} \n",
    "\\quad \\text{or} \\quad \n",
    "\\boldsymbol{\\sigma} = \\lambda \\, \\text{tr}(\\boldsymbol{\\varepsilon})\\, \\mathbf{I} + 2\\mu\\, \\boldsymbol{\\varepsilon}.\n",
    "$$\n",
    "\n",
    "At the face with $x=L$ which is a boundary condition denoted by $\\Gamma$, we have:\n",
    "\n",
    "$$\n",
    "\\boldsymbol{\\sigma} \\cdot \\mathbf{n} = \\mathbf{F} = \\begin{bmatrix}\n",
    "0 & -1 & 0\n",
    "\\end{bmatrix}^T\n",
    " \\text{ on } \\Gamma,\n",
    "$$\n",
    "\n",
    "where $\\boldsymbol{\\sigma}$ is the stress tensor, $\\mathbf{b}$ is the body force, $\\mathbf{F}$ is the applied traction, and $\\mathbf{n}$ is the outward unit normal.\n"
   ]
  },
  {
   "cell_type": "markdown",
   "id": "dab67038",
   "metadata": {},
   "source": [
    "## Derivation of the Weak Form from the Strong Form\n",
    "\n",
    "### Step 1: Multiply by a Test Function\n",
    "To derive the weak form, multiply the strong form by a test function $\\mathbf{v} \\in H^1(\\Omega)$ (with $\\mathbf{v} = \\mathbf{0}$ on Dirichlet boundaries) and integrate over the domain $\\Omega$:\n",
    "\n",
    "$$\n",
    "\\int_{\\Omega} (\\nabla \\cdot \\boldsymbol{\\sigma}) \\cdot \\mathbf{v} \\, d\\Omega = -\\int_{\\Omega} \\mathbf{b} \\cdot \\mathbf{v} \\, d\\Omega.\n",
    "$$\n",
    "In this example, we assume that $\\mathbf{b} = \\mathbf{0}$, the we have:\n",
    "\n",
    "$$\n",
    "\\int_{\\Omega} (\\nabla \\cdot \\boldsymbol{\\sigma}) \\cdot \\mathbf{v} \\, d\\Omega = 0.\n",
    "$$"
   ]
  },
  {
   "cell_type": "markdown",
   "id": "e005f994",
   "metadata": {},
   "source": [
    "\n",
    "### Step 2: Apply the Divergence Theorem\n",
    "We have the equivalent form of $(\\nabla \\cdot \\boldsymbol{\\sigma}) \\cdot \\mathbf{v} $ as follows:\n",
    "\n",
    "$$\n",
    "(\\nabla \\cdot \\boldsymbol{\\sigma}) \\cdot \\mathbf{v} = \\nabla \\cdot (\\boldsymbol{\\sigma} \\cdot \\mathbf{v}) - \\boldsymbol{\\sigma} : \\nabla \\mathbf{v}.\n",
    "$$\n",
    "Then we have,\n",
    "$$\n",
    "\\int_{\\Omega} (\\nabla_S^T \\boldsymbol{\\sigma}) \\cdot \\mathbf{v} \\, d\\Omega = \\int_{\\Omega} \\left[ \\nabla \\cdot (\\boldsymbol{\\sigma} \\cdot \\mathbf{v}) - \\boldsymbol{\\sigma} : \\nabla \\mathbf{v} \\right] \\, d\\Omega.\n",
    "$$\n",
    "\n",
    "Note that $\\{\\cdot\\}$ is the dot product and $\\{:\\}$ is the inner product.\n",
    "\n",
    "Apply the divergence theorem to $ \\int_{\\Omega} \\nabla \\cdot (\\boldsymbol{\\sigma} \\cdot \\mathbf{v}) \\, d\\Omega$:\n",
    "\n",
    "$$\n",
    "\\int_{\\Omega} \\nabla \\cdot (\\boldsymbol{\\sigma} \\cdot \\mathbf{v}) \\, d\\Omega = \\int_{\\partial \\Omega} (\\boldsymbol{\\sigma} \\cdot \\mathbf{v}) \\cdot \\mathbf{n} \\, d\\Gamma = \\int_{\\partial \\Omega} (\\boldsymbol{\\sigma} \\cdot \\mathbf{n}) \\cdot \\mathbf{v} \\, d\\Gamma.\n",
    "$$\n",
    "\n",
    "Because, we set the boundary condition $\\boldsymbol{\\sigma} \\cdot \\mathbf{n} = \\mathbf{F}$ on $\\Gamma$, then we have:\n",
    "\n",
    "$$\n",
    "\\int_{\\partial \\Omega} (\\boldsymbol{\\sigma} \\cdot \\mathbf{n}) \\cdot \\mathbf{v} \\, d\\Gamma = \\int_{\\Gamma} \\mathbf{F} \\cdot \\mathbf{v} \\, d\\Gamma.\n",
    "$$\n",
    "\n",
    "Thus:\n",
    "\n",
    "$$\n",
    "\\int_{\\Omega} (\\nabla_S^T \\boldsymbol{\\sigma}) \\cdot \\mathbf{v} \\, d\\Omega = \\int_{\\Gamma} \\mathbf{F} \\cdot \\mathbf{v} \\, d\\Gamma - \\int_{\\Omega} \\boldsymbol{\\sigma} : \\nabla \\mathbf{v} \\, d\\Omega = 0.\n",
    "$$\n"
   ]
  },
  {
   "cell_type": "markdown",
   "id": "a3787de3",
   "metadata": {},
   "source": [
    "#### Important notes\n",
    "It should be noted that the very crucial step here is applying \"DIVERGENCE THEOREM\" to remove Gradient of Stress Tensor, there by reducing the order of the partial differential equation. Readers interested in a deeper understanding are encourged to read Chapter 6 of the book: \"Fish, Jacob, and Ted Belytschko. A first course in finite elements. Vol. 1. New York: Wiley, 2007.\". Here is a screenshot of the \"DIVERGENCE THEOREM\" from Chapter 6 of that book.\n",
    "\n",
    "<img src=\"imagines/divergence_theorem.png\" />"
   ]
  },
  {
   "cell_type": "markdown",
   "id": "b7c19832",
   "metadata": {},
   "source": [
    "\n",
    "### Step 3: Relation between Stress and Strain\n",
    "The stress $\\boldsymbol{\\sigma}$ depends on the strain $\\boldsymbol{\\varepsilon}(\\mathbf{u})$, where the strain tensor is:\n",
    "\n",
    "$$\n",
    "\\boldsymbol{\\varepsilon}(\\mathbf{u}) = \\frac{1}{2} \\left( \\nabla \\mathbf{u} + (\\nabla \\mathbf{u})^T \\right).\n",
    "$$\n",
    "\n",
    "Similarly, for the test function:\n",
    "\n",
    "$$\n",
    "\\boldsymbol{\\varepsilon}(\\mathbf{v}) = \\frac{1}{2} \\left( \\nabla \\mathbf{v} + (\\nabla \\mathbf{v})^T \\right).\n",
    "$$\n",
    "\n",
    "$$\n",
    "\\nabla \\mathbf{v} = \\boldsymbol{\\varepsilon}(\\mathbf{v}) + \\frac{1}{2} \\left( \\nabla \\mathbf{v} - (\\nabla \\mathbf{v})^T \\right).\n",
    "$$\n",
    "\n",
    "$$\\nabla \\mathbf{v} = \\boldsymbol{\\varepsilon}(\\mathbf{v}) + \\boldsymbol{\\omega}(\\mathbf{v})$$\n",
    "\n",
    "where $\\boldsymbol{\\omega}(\\mathbf{v}) = \\frac{1}{2} \\left( \\nabla \\mathbf{v} - (\\nabla \\mathbf{v})^T \\right)$, then we have:\n",
    "\n",
    "$$\n",
    "\\boldsymbol{\\sigma} : \\nabla \\mathbf{v} = \\boldsymbol{\\sigma} : \\boldsymbol{\\varepsilon}(\\mathbf{v}) + \\boldsymbol{\\sigma} : \\boldsymbol{\\omega}(\\mathbf{v}),\n",
    "$$\n",
    "because $\\boldsymbol{\\omega}(\\mathbf{v}) $ is skew-symmetric and $\\boldsymbol{\\sigma}$ is symmetric, then $\\boldsymbol{\\sigma} : \\boldsymbol{\\omega}(\\mathbf{v}) = 0$ (you can verify by yoursefl). Thus:\n",
    "\n",
    "$$\n",
    "\\int_{\\Omega} \\boldsymbol{\\sigma} : \\nabla \\mathbf{v} \\, d\\Omega = \\int_{\\Omega} \\boldsymbol{\\sigma} : \\boldsymbol{\\varepsilon}(\\mathbf{v}) \\, d\\Omega.\n",
    "$$\n"
   ]
  },
  {
   "cell_type": "markdown",
   "id": "158e0964",
   "metadata": {},
   "source": [
    "#### Julia code to verify that: $\\mathbf{A} : \\mathbf{B} = \\text{tr}\\left( \\mathbf{A}^T \\mathbf{B} \\right)=0$. Where $\\mathbf{A}$ is symmetric and $\\mathbf{B}$ is  skew-symmetric."
   ]
  },
  {
   "cell_type": "code",
   "execution_count": 2,
   "id": "1b8d4362",
   "metadata": {},
   "outputs": [
    {
     "name": "stdout",
     "output_type": "stream",
     "text": [
      "0\n"
     ]
    }
   ],
   "source": [
    "using LinearAlgebra\n",
    "# Define the parameters\n",
    "a1 = 1;b1 = 2;c1 = 3;d1 = 4;e1 = 5;f1 = 6;\n",
    "# Build the symmetric matrix\n",
    "A = [a1 d1 e1;\n",
    "      d1 b1 f1;\n",
    "      e1 f1 c1]\n",
    "# Build the skew-symmetric matrix\n",
    "B = [0 -a1 -b1;\n",
    "      a1 0 -c1;\n",
    "      b1 c1 0]\n",
    "# Compute sum of dot product of B' and A\n",
    "inner_product = tr(transpose(A) * B)\n",
    "println(inner_product)"
   ]
  },
  {
   "cell_type": "markdown",
   "id": "ea36e6a5",
   "metadata": {},
   "source": [
    "\n",
    "### Step 4: Formulate the Weak Form\n",
    "Now, we have the weak form as follows:\n",
    "$$\n",
    "\\int_{\\Omega} \\boldsymbol{\\sigma}(\\boldsymbol{\\varepsilon}(\\mathbf{u})) : \\boldsymbol{\\varepsilon}(\\mathbf{v}) \\, d\\Omega = \\int_{\\Gamma} \\mathbf{F} \\cdot \\mathbf{v} \\, d\\Gamma.\n",
    "$$"
   ]
  },
  {
   "cell_type": "markdown",
   "id": "5b788af1",
   "metadata": {},
   "source": [
    "\n",
    "Then, before using Gridap.jl, we define the bilinear form. Find $\\mathbf{u}$ such that for all test functions $\\mathbf{v}$:\n",
    "\n",
    "$$\n",
    "a(\\mathbf{u}, \\mathbf{v}) = l(\\mathbf{v}),\n",
    "$$\n",
    "\n",
    "where:\n",
    "\n",
    "$$\n",
    "a(\\mathbf{u}, \\mathbf{v}) = \\int_{\\Omega} \\big[ \\boldsymbol{\\sigma}(\\boldsymbol{\\varepsilon}(\\mathbf{u})) : \\boldsymbol{\\varepsilon}(\\mathbf{v}) \\big] \\, d\\Omega,\n",
    "\\quad\n",
    "l(\\mathbf{v}) = \\int_{\\Gamma} \\mathbf{F} \\cdot \\mathbf{v} \\, d\\Gamma.\n",
    "$$"
   ]
  },
  {
   "cell_type": "markdown",
   "id": "9c2120e9",
   "metadata": {},
   "source": [
    "## Inputs"
   ]
  },
  {
   "cell_type": "code",
   "execution_count": 3,
   "id": "4f76a4d7",
   "metadata": {},
   "outputs": [
    {
     "data": {
      "text/plain": [
       "(20, 10, 10)"
      ]
     },
     "metadata": {},
     "output_type": "display_data"
    }
   ],
   "source": [
    "L = 20 # Length\n",
    "W = 10 # Width and Height\n",
    "domain = (0, L, 0, W, 0, W) # sizes along X, Y, Z\n",
    "partition = (20, 10, 10) # mesh sizes"
   ]
  },
  {
   "cell_type": "code",
   "execution_count": 4,
   "id": "d3acc802",
   "metadata": {},
   "outputs": [
    {
     "name": "stdout",
     "output_type": "stream",
     "text": [
      "  9.310 ms (15492 allocations: 2.49 MiB)\n"
     ]
    }
   ],
   "source": [
    "@btime CartesianDiscreteModel(domain, partition);"
   ]
  },
  {
   "cell_type": "markdown",
   "id": "1631c20f",
   "metadata": {},
   "source": [
    "### Add labels to left and right faces for boundary conditions"
   ]
  },
  {
   "cell_type": "code",
   "execution_count": 5,
   "id": "23042dba",
   "metadata": {},
   "outputs": [
    {
     "data": {
      "text/plain": [
       "30-element Vector{String}:\n",
       " \"tag_01\"\n",
       " \"tag_02\"\n",
       " \"tag_03\"\n",
       " \"tag_04\"\n",
       " \"tag_05\"\n",
       " \"tag_06\"\n",
       " \"tag_07\"\n",
       " \"tag_08\"\n",
       " \"tag_09\"\n",
       " \"tag_10\"\n",
       " ⋮\n",
       " \"tag_22\"\n",
       " \"tag_23\"\n",
       " \"tag_24\"\n",
       " \"tag_25\"\n",
       " \"tag_26\"\n",
       " \"interior\"\n",
       " \"boundary\"\n",
       " \"left\"\n",
       " \"right\""
      ]
     },
     "metadata": {},
     "output_type": "display_data"
    }
   ],
   "source": [
    "model = CartesianDiscreteModel(domain, partition);\n",
    "# Tag the left face (x = 0); right face (x = L)\n",
    "labels = get_face_labeling(model)\n",
    "add_tag_from_tags!(labels,\"left\", [1,3,5,7,13,15,17,19,25]); # left face: corners (1,3,5,7); edges (13,15,17,19); others (25) \n",
    "add_tag_from_tags!(labels, \"right\", [2,4,6,8,14,16,18,20,26]); # Right face: corners (2,4,6,8); edges (14,16,18,20); others (26) \n",
    "# writevtk(Ω,\"Cantilever_Beam_3D\")"
   ]
  },
  {
   "cell_type": "code",
   "execution_count": 6,
   "id": "788ed275",
   "metadata": {},
   "outputs": [],
   "source": []
  },
  {
   "cell_type": "markdown",
   "id": "57d3da5b",
   "metadata": {},
   "source": [
    "### Construct weak form in Gridap.jl"
   ]
  },
  {
   "cell_type": "code",
   "execution_count": 7,
   "id": "cda3eae2",
   "metadata": {},
   "outputs": [
    {
     "name": "stdout",
     "output_type": "stream",
     "text": [
      "  183.746 ns (1 allocation: 336 bytes)\n",
      "  14.500 μs (143 allocations: 10.25 KiB)\n"
     ]
    }
   ],
   "source": [
    "# Integrating on the domain Ω\n",
    "degree = 2\n",
    "\n",
    " Ω = Triangulation(model)\n",
    " dΩ = Measure(Ω, degree)\n",
    "@btime   Triangulation(model)\n",
    "@btime   Measure(Ω, degree)\n",
    "# neumann boundaries\n",
    "Γ = BoundaryTriangulation(model,tags = \"right\")\n",
    "dΓ = Measure(Γ,degree)\n",
    "# Vector-valued FE space\n",
    "order = 1\n",
    "reffe = ReferenceFE(lagrangian, VectorValue{3,Float64}, order)\n",
    "\n",
    "V = TestFESpace(Ω, reffe; conformity=:H1, dirichlet_tags = \"left\")\n",
    "U = TrialFESpace(V)\n",
    "\n",
    "# Constitutive law for LINEAR ELASTICITY \n",
    "const ν = 0.3   # Poisson's ratio\n",
    "const E = 119e3 # Young's modulus\n",
    "\n",
    "const λ = (E*ν)/((1+ν)*(1-2*ν)) # C12\n",
    "const μ = E/(2*(1+ν)) # Shear modulus\n",
    "ε₀(u) = 0.5 * ( ∇(u) + transpose(∇(u))) # Strain; In Gridap this can be automatically defined in Gridap.ε\n",
    "σ(ε₀) = λ * tr(ε₀) * one(ε₀) + 2μ * ε₀; # Stress"
   ]
  },
  {
   "cell_type": "markdown",
   "id": "ae9426b3",
   "metadata": {},
   "source": [
    "## Run finite element analysis"
   ]
  },
  {
   "cell_type": "code",
   "execution_count": 8,
   "id": "05fff696",
   "metadata": {},
   "outputs": [
    {
     "name": "stdout",
     "output_type": "stream",
     "text": [
      "  46.309 ns (1 allocation: 48 bytes)\n"
     ]
    },
    {
     "data": {
      "text/plain": [
       "7260×7260 SparseMatrixCSC{Float64, Int64} with 501642 stored entries:\n",
       "⎡⠻⣦⡀⠘⢷⣄⠀⠀⠀⠀⠀⠀⠀⠀⠀⠀⠀⠀⠀⠀⠀⠀⠀⠀⠀⠀⠀⠀⠀⠀⠀⠀⠀⠀⠀⠀⠀⠀⠀⠀⎤\n",
       "⎢⣀⠈⠻⣦⡀⠙⢷⣄⠀⠀⠀⠀⠀⠀⠀⠀⠀⠀⠀⠀⠀⠀⠀⠀⠀⠀⠀⠀⠀⠀⠀⠀⠀⠀⠀⠀⠀⠀⠀⠀⎥\n",
       "⎢⠙⢷⣄⠈⠻⣦⡀⠙⢷⣄⠀⠀⠀⠀⠀⠀⠀⠀⠀⠀⠀⠀⠀⠀⠀⠀⠀⠀⠀⠀⠀⠀⠀⠀⠀⠀⠀⠀⠀⠀⎥\n",
       "⎢⠀⠀⠙⢷⣄⠈⠻⣦⡀⠙⠷⣄⠀⠀⠀⠀⠀⠀⠀⠀⠀⠀⠀⠀⠀⠀⠀⠀⠀⠀⠀⠀⠀⠀⠀⠀⠀⠀⠀⠀⎥\n",
       "⎢⠀⠀⠀⠀⠙⢷⣄⠈⠻⣦⡀⠙⢷⣄⠀⠀⠀⠀⠀⠀⠀⠀⠀⠀⠀⠀⠀⠀⠀⠀⠀⠀⠀⠀⠀⠀⠀⠀⠀⠀⎥\n",
       "⎢⠀⠀⠀⠀⠀⠀⠙⢧⣄⠈⠻⣦⡀⠙⢷⣄⠀⠀⠀⠀⠀⠀⠀⠀⠀⠀⠀⠀⠀⠀⠀⠀⠀⠀⠀⠀⠀⠀⠀⠀⎥\n",
       "⎢⠀⠀⠀⠀⠀⠀⠀⠀⠙⢷⣄⠈⠻⣦⡀⠙⢷⣄⠀⠀⠀⠀⠀⠀⠀⠀⠀⠀⠀⠀⠀⠀⠀⠀⠀⠀⠀⠀⠀⠀⎥\n",
       "⎢⠀⠀⠀⠀⠀⠀⠀⠀⠀⠀⠙⢷⣄⠈⠻⣦⡀⠙⢷⣄⠀⠀⠀⠀⠀⠀⠀⠀⠀⠀⠀⠀⠀⠀⠀⠀⠀⠀⠀⠀⎥\n",
       "⎢⠀⠀⠀⠀⠀⠀⠀⠀⠀⠀⠀⠀⠙⢷⣄⠈⠻⣦⡀⠙⢷⣄⠀⠀⠀⠀⠀⠀⠀⠀⠀⠀⠀⠀⠀⠀⠀⠀⠀⠀⎥\n",
       "⎢⠀⠀⠀⠀⠀⠀⠀⠀⠀⠀⠀⠀⠀⠀⠙⢷⣄⠈⠻⣦⡀⠙⢷⣄⠀⠀⠀⠀⠀⠀⠀⠀⠀⠀⠀⠀⠀⠀⠀⠀⎥\n",
       "⎢⠀⠀⠀⠀⠀⠀⠀⠀⠀⠀⠀⠀⠀⠀⠀⠀⠙⢷⣄⠈⠻⣦⡀⠙⢷⣄⠀⠀⠀⠀⠀⠀⠀⠀⠀⠀⠀⠀⠀⠀⎥\n",
       "⎢⠀⠀⠀⠀⠀⠀⠀⠀⠀⠀⠀⠀⠀⠀⠀⠀⠀⠀⠙⢷⣄⠈⠻⣦⡀⠙⢷⣄⠀⠀⠀⠀⠀⠀⠀⠀⠀⠀⠀⠀⎥\n",
       "⎢⠀⠀⠀⠀⠀⠀⠀⠀⠀⠀⠀⠀⠀⠀⠀⠀⠀⠀⠀⠀⠙⢷⣄⠈⠻⣦⡀⠙⢷⣄⠀⠀⠀⠀⠀⠀⠀⠀⠀⠀⎥\n",
       "⎢⠀⠀⠀⠀⠀⠀⠀⠀⠀⠀⠀⠀⠀⠀⠀⠀⠀⠀⠀⠀⠀⠀⠙⢷⣄⠈⠻⣦⡀⠙⢷⣄⠀⠀⠀⠀⠀⠀⠀⠀⎥\n",
       "⎢⠀⠀⠀⠀⠀⠀⠀⠀⠀⠀⠀⠀⠀⠀⠀⠀⠀⠀⠀⠀⠀⠀⠀⠀⠙⢷⣄⠈⠻⣦⡀⠙⢳⣄⠀⠀⠀⠀⠀⠀⎥\n",
       "⎢⠀⠀⠀⠀⠀⠀⠀⠀⠀⠀⠀⠀⠀⠀⠀⠀⠀⠀⠀⠀⠀⠀⠀⠀⠀⠀⠙⢷⣄⠈⠻⣦⡀⠙⢷⣄⠀⠀⠀⠀⎥\n",
       "⎢⠀⠀⠀⠀⠀⠀⠀⠀⠀⠀⠀⠀⠀⠀⠀⠀⠀⠀⠀⠀⠀⠀⠀⠀⠀⠀⠀⠀⠙⢶⣄⠈⠻⣦⡀⠙⢷⣄⠀⠀⎥\n",
       "⎢⠀⠀⠀⠀⠀⠀⠀⠀⠀⠀⠀⠀⠀⠀⠀⠀⠀⠀⠀⠀⠀⠀⠀⠀⠀⠀⠀⠀⠀⠀⠙⢷⣄⠈⠻⣦⡀⠙⢷⣄⎥\n",
       "⎢⠀⠀⠀⠀⠀⠀⠀⠀⠀⠀⠀⠀⠀⠀⠀⠀⠀⠀⠀⠀⠀⠀⠀⠀⠀⠀⠀⠀⠀⠀⠀⠀⠙⢷⣄⠈⠻⣦⡀⠉⎥\n",
       "⎣⠀⠀⠀⠀⠀⠀⠀⠀⠀⠀⠀⠀⠀⠀⠀⠀⠀⠀⠀⠀⠀⠀⠀⠀⠀⠀⠀⠀⠀⠀⠀⠀⠀⠀⠙⢷⡄⠈⠻⣦⎦"
      ]
     },
     "metadata": {},
     "output_type": "display_data"
    }
   ],
   "source": [
    "# The weak form\n",
    "F(x) = VectorValue(0.0, -1, 0.0) # A unit load along Y axis applies to each node on the right face\n",
    "a(u,v) = ∫((σ∘ε₀(u)) ⊙ ε₀(v)) *dΩ # Left-hand size; (∘) Composite functions\n",
    "l(v) = ∫(F ⋅ v) * dΓ # Right-hand size\n",
    "# Solution of the FE problem\n",
    "op = AffineFEOperator(a,l,U,V)\n",
    "uh = solve(op)\n",
    "# writevtk(Ω,\"Cantilever_Beam_3D_uh\",cellfields=[\"uh\"=>uh,\"epsi\"=>ε₀(uh),\"sigma\"=>σ∘ε₀(uh)])\n",
    "@btime get_matrix(op)"
   ]
  },
  {
   "cell_type": "markdown",
   "id": "dff049c0",
   "metadata": {},
   "source": [
    "### Compute the compliance"
   ]
  },
  {
   "cell_type": "code",
   "execution_count": null,
   "id": "da87b7de",
   "metadata": {},
   "outputs": [
    {
     "name": "stdout",
     "output_type": "stream",
     "text": [
      "Compliance 1: 0.30855010386860376\n",
      "Compliance 2: 0.30855010386853077\n",
      "Compliance 3: 0.30855010386865317\n",
      "Compliance 4: 0.30855010386887693\n"
     ]
    }
   ],
   "source": [
    "# Method 1\n",
    "C1 = sum(∫((σ ∘ ε₀(uh)) ⊙ ε₀(uh)) * dΩ) # Compliance\n",
    "println(\"Compliance 1: \", C1)\n",
    "# Method 2\n",
    "C2 = sum(∫(F ⋅ uh) * dΓ) # Compliance\n",
    "println(\"Compliance 2: \", C2)\n",
    "# Method 3\n",
    "U = get_free_dof_values(uh) # displacement vector\n",
    "K = get_matrix(op) # stiffness matrix\n",
    "C3 = dot(U, K * U)\n",
    "println(\"Compliance 3: \", C3)\n",
    "# Method 4 using for loop to compute sum(ue^T*ke*ue)\n",
    "\n",
    "\n",
    "using Gridap.FESpaces\n",
    "cell_dofs = get_cell_dof_values(uh)\n",
    "using Gridap.Arrays\n",
    "u = get_trial_fe_basis(V)\n",
    "v = get_fe_basis(V)\n",
    "K_e = get_array(∫((σ ∘ ε₀(u)) ⊙ ε₀(v)) * dΩ)\n",
    "\n",
    "numele = num_cells(Ω) # Number of elements\n",
    "\n",
    "C4 = 0.0 # Comliance\n",
    "for e=1:numele\n",
    "    ue = cell_dofs[e]    # element displacement\n",
    "    ke = K_e[e] # element stiffness matrix\n",
    "    C4 = C4 + transpose(ue)*ke*ue\n",
    "end\n",
    "println(\"Compliance 4: \", C4)"
   ]
  },
  {
   "cell_type": "code",
   "execution_count": 15,
   "id": "953444d0",
   "metadata": {},
   "outputs": [
    {
     "data": {
      "text/plain": [
       "2000-element LazyArray{FillArrays.Fill{Broadcasting{PosNegReindex{Vector{Float64}, Vector{Float64}}}, 1, Tuple{Base.OneTo{Int64}}}, Vector{Float64}, 1, Tuple{Table{Int32, Vector{Int32}, Vector{Int32}}}}:\n",
       " [0.0, -0.00011387182042781587, 0.0, -7.805379263516091e-5, 0.0, -9.628275169810548e-5, 0.0, -6.084372086951238e-5, 0.0, -5.6924146593548694e-5  …  0.0, -3.790205816828376e-5, 0.0, -7.1428903078533e-5, 0.0, -5.654961508551006e-5, 0.0, -4.222616755845123e-5, 0.0, -3.370055061252635e-5]\n",
       " [-0.00011387182042781587, -0.00020121582991187485, -7.805379263516091e-5, -0.00014874972877963687, -9.628275169810548e-5, -0.00018959708134364775, -6.084372086951238e-5, -0.00013710794837557135, -5.6924146593548694e-5, -9.904499791513338e-5  …  -3.790205816828376e-5, -9.195853879873363e-5, -7.1428903078533e-5, -9.349515657275712e-5, -5.654961508551006e-5, -7.561241167677022e-5, -4.222616755845123e-5, -6.929511016972387e-5, -3.370055061252635e-5, -5.602070134901073e-5]\n",
       " [-0.00020121582991187485, -0.0002807633608507246, -0.00014874972877963687, -0.00021224956161429423, -0.00018959708134364775, -0.0002751168989336661, -0.00013710794837557135, -0.00020675511124793101, -9.904499791513338e-5, -0.00016193262581017486  …  -9.195853879873363e-5, -0.00015803501433193115, -9.349515657275712e-5, -0.00010496704790695894, -7.561241167677022e-5, -8.414147340797458e-5, -6.929511016972387e-5, -8.089566185742843e-5, -5.602070134901073e-5, -6.531897755355025e-5]\n",
       " [-0.0002807633608507246, -0.00035735313603033205, -0.00021224956161429423, -0.00027284115642124283, -0.0002751168989336661, -0.00035576581347897913, -0.00020675511124793101, -0.00027129517435225687, -0.00016193262581017486, -0.00024214343330203466  …  -0.00015803501433193115, -0.00024032731499958908, -0.00010496704790695894, -0.00010795425793910497, -8.414147340797458e-5, -8.64190641315331e-5, -8.089566185742843e-5, -8.49840493556315e-5, -6.531897755355025e-5, -6.845661241089754e-5]\n",
       " [-0.00035735313603033205, -0.0004307818419747535, -0.00027284115642124283, -0.00033082948771852555, -0.00035576581347897913, -0.00043180639722465987, -0.00027129517435225687, -0.0003318230944266434, -0.00024214343330203466, -0.0003395853794833791  …  -0.00024032731499958908, -0.00033877734669252735, -0.00010795425793910497, -0.00010646405146527176, -8.64190641315331e-5, -8.51528013031284e-5, -8.49840493556315e-5, -8.456722180257702e-5, -6.845661241089754e-5, -6.801228890872363e-5]\n",
       " [-0.0004307818419747535, -0.0005006593511494378, -0.00033082948771852555, -0.0003860887281577833, -0.00043180639722465987, -0.0005033121815540752, -0.0003318230944266434, -0.00038866445979943875, -0.0003395853794833791, -0.0004529675444566195  …  -0.00033877734669252735, -0.000452685719164978, -0.00010646405146527176, -0.00010228303999941697, -8.51528013031284e-5, -8.178043345612579e-5, -8.456722180257702e-5, -8.160656034426855e-5, -6.801228890872363e-5, -6.554225797701225e-5]\n",
       " [-0.0005006593511494378, -0.0005665410890351219, -0.0003860887281577833, -0.0004383165399659165, -0.0005033121815540752, -0.0005701900243642351, -0.00038866445979943875, -0.00044186033740036153, -0.0004529675444566195, -0.0005810545114463333  …  -0.000452685719164978, -0.0005810271820483353, -0.00010228303999941697, -9.655559969268487e-5, -8.178043345612579e-5, -7.718312878918113e-5, -8.160656034426855e-5, -7.719218768277446e-5, -6.554225797701225e-5, -6.192872802477326e-5]\n",
       " [-0.0005665410890351219, -0.0006280932491786509, -0.0004383165399659165, -0.00048723085365891266, -0.0005701900243642351, -0.0006323343634361584, -0.00044186033740036153, -0.0004913510326358187, -0.0005810545114463333, -0.0007226177168995727  …  -0.0005810271820483353, -0.000722705282397913, -9.655559969268487e-5, -8.99528281066703e-5, -7.718312878918113e-5, -7.189172224002823e-5, -7.719218768277446e-5, -7.197440431586749e-5, -6.192872802477326e-5, -5.769066957743971e-5]\n",
       " [-0.0006280932491786509, -0.0006850758378411112, -0.00048723085365891266, -0.0005326074214155509, -0.0006323343634361584, -0.0006896562734739942, -0.0004913510326358187, -0.0005370584249212908, -0.0007226177168995727, -0.0008764874936778644  …  -0.000722705282397913, -0.0008766205844601318, -8.99528281066703e-5, -8.287653367604488e-5, -7.189172224002823e-5, -6.62247419337761e-5, -7.197440431586749e-5, -6.633132631599502e-5, -5.769066957743971e-5, -5.3128582956902664e-5]\n",
       " [-0.0006850758378411112, -0.0007373255726931104, -0.0005326074214155509, -0.0005742828931092048, -0.0006896562734739942, -0.0007420896945140556, -0.0005370584249212908, -0.0005789133386650979, -0.0008764874936778644, -0.0010415436626894372  …  -0.0008766205844601318, -0.0010416927437892798, -8.287653367604488e-5, -7.556196809121908e-5, -6.62247419337761e-5, -6.036955136028572e-5, -6.633132631599502e-5, -6.048129945020544e-5, -5.3128582956902664e-5, -4.8413686403846304e-5]\n",
       " ⋮\n",
       " [0.0006168627043795588, 0.0006508693196247043, 0.0007895885365010633, 0.000832124063686392, 0.0006121446883239762, 0.0006461185987998399, 0.0007847350020870995, 0.000827237459835156, -0.0012168608804903431, -0.0014010775584125882  …  -0.0012167021433430994, -0.001400899382293876, -4.3641883247453974e-5, -3.8866735818539986e-5, -5.454963746240436e-5, -4.861060361732734e-5, -5.443494407348051e-5, -4.848445223464137e-5, -6.814690864109393e-5, -6.0715380536953e-5]\n",
       " [0.0006508693196247043, 0.0006809100257036503, 0.000832124063686392, 0.0008696867193622313, 0.0006461185987998399, 0.0006761576906077214, 0.000827237459835156, 0.000864799435723634, -0.0014010775584125882, -0.0015933023811833728  …  -0.001400899382293876, -0.001593079523687183, -3.8866735818539986e-5, -3.411840102297491e-5, -4.861060361732734e-5, -4.271299713819115e-5, -4.848445223464137e-5, -4.255638362033591e-5, -6.0715380536953e-5, -5.332603117082901e-5]\n",
       " [0.0006809100257036503, 0.0007069746296105994, 0.0008696867193622313, 0.0009022967967219058, 0.0006761576906077214, 0.0007022332372976709, 0.000864799435723634, 0.0008974232896046966, -0.0015933023811833728, -0.0017925000759676174  …  -0.001593079523687183, -0.0017921876990803203, -3.411840102297491e-5, -2.9412312688450604e-5, -4.271299713819115e-5, -3.6894512863741014e-5, -4.255638362033591e-5, -3.66733933390297e-5, -5.332603117082901e-5, -4.603023499133424e-5]\n",
       " [0.0007069746296105994, 0.0007290656105292595, 0.0009022967967219058, 0.000930030262036666, 0.0007022332372976709, 0.0007243260570439353, 0.0008974232896046966, 0.0009251647535190769, -0.0017925000759676174, -0.001997652057555202  …  -0.0017921876990803203, -0.001997178097169166, -2.9412312688450604e-5, -2.47486234404972e-5, -3.6894512863741014e-5, -3.118666781348699e-5, -3.66733933390297e-5, -3.084150704630309e-5, -4.603023499133424e-5, -3.88813644810403e-5]\n",
       " [0.0007290656105292595, 0.000747194192893091, 0.000930030262036666, 0.0009530683469244187, 0.0007243260570439353, 0.0007424125958026898, 0.0009251647535190769, 0.0009481725871592978, -0.001997652057555202, -0.0022078021670838372  …  -0.001997178097169166, -0.00220706280214732, -2.47486234404972e-5, -2.010207383126084e-5, -3.118666781348699e-5, -2.560664719603194e-5, -3.084150704630309e-5, -2.5033071738306687e-5, -3.88813644810403e-5, -3.193291430166365e-5]\n",
       " [0.000747194192893091, 0.0007613589678798378, 0.0009530683469244187, 0.0009717692498418327, 0.0007424125958026898, 0.0007564332239440526, 0.0009481725871592978, 0.0009667490899715892, -0.0022078021670838372, -0.0024221903285048564  …  -0.00220706280214732, -0.002421055932926233, -2.010207383126084e-5, -1.539973447247307e-5, -2.560664719603194e-5, -2.0135116370503758e-5, -2.5033071738306687e-5, -1.9148981845854423e-5, -3.193291430166365e-5, -2.519785493587552e-5]\n",
       " [0.0007613589678798378, 0.0007714679683923294, 0.0009717692498418327, 0.0009867308301160541, 0.0007564332239440526, 0.0007662470049598002, 0.0009667490899715892, 0.0009814150851831154, -0.0024221903285048564, -0.002640564534387735  …  -0.002421055932926233, -0.0026390341654587224, -1.539973447247307e-5, -1.051635426755116e-5, -2.0135116370503758e-5, -1.4644883280558642e-5, -1.9148981845854423e-5, -1.2925250855627321e-5, -2.519785493587552e-5, -1.858059763549385e-5]\n",
       " [0.0007714679683923294, 0.0007772930009454394, 0.0009867308301160541, 0.0009982914548520086, 0.0007662470049598002, 0.0007716755922674287, 0.0009814150851831154, 0.000992622648265256, -0.002640564534387735, -0.002864062439308268  …  -0.0026390341654587224, -0.002862405329331226, -1.051635426755116e-5, -5.395398457875964e-6, -1.4644883280558642e-5, -9.02506396761522e-6, -1.2925250855627321e-5, -6.115632594937665e-6, -1.858059763549385e-5, -1.1265543678361245e-5]\n",
       " [0.0007772930009454394, 0.0007806154374872434, 0.0009982914548520086, 0.0010042984876056946, 0.0007716755922674287, 0.0007745864289023357, 0.000992622648265256, 0.0009984129110867336, -0.002864062439308268, -0.00309568175352964  …  -0.002862405329331226, -0.0030979000428616324, -5.395398457875964e-6, -4.10062991054858e-7, -9.02506396761522e-6, -3.83078023779797e-6, -6.115632594937665e-6, 1.3631732376187755e-6, -1.1265543678361245e-5, -3.732367425277562e-6]"
      ]
     },
     "metadata": {},
     "output_type": "display_data"
    }
   ],
   "source": [
    "cell_dofs"
   ]
  },
  {
   "cell_type": "code",
   "execution_count": 14,
   "id": "4bb42f48",
   "metadata": {},
   "outputs": [
    {
     "data": {
      "text/plain": [
       "24×24 Matrix{Float64}:\n",
       "  27970.1    -12713.7      6356.84   …   -9535.26     -953.526   -4767.63\n",
       " -12713.7     27970.1    -10170.9         1907.05     4767.63      953.526\n",
       "   6356.84   -10170.9     27970.1        -4767.63    -1907.05    -9535.26\n",
       " -10170.9      6356.84   -12713.7          953.526    9535.26     1907.05\n",
       "   6356.84   -10170.9      -635.684      -1907.05    -4767.63     -953.526\n",
       " -10170.9      6356.84    -6992.52   …    9535.26      953.526    4767.63\n",
       "   -635.684   -6992.52     6356.84        -953.526   -9535.26    -1907.05\n",
       "  -6992.52     -635.684  -10170.9         4767.63     1907.05     9535.26\n",
       "   9535.26    -1907.05     1907.05        -953.526   -9535.26    -4767.63\n",
       "   1907.05    -9535.26     9535.26       -1907.05    -4767.63    -9535.26\n",
       "      ⋮                              ⋱                          \n",
       "  -4767.63      953.526    -953.526  …    1907.05     4767.63     9535.26\n",
       "   9535.26    -1907.05     4767.63      -10170.9    -10170.9     -6992.52\n",
       "   1907.05    -9535.26      953.526     -12713.7     -6992.52   -10170.9\n",
       "   4767.63     -953.526    9535.26       -6992.52   -12713.7    -10170.9\n",
       "    953.526   -4767.63     1907.05      -10170.9    -10170.9    -12713.7\n",
       "  -1907.05     9535.26     -953.526  …    6356.84     6356.84     -635.684\n",
       "  -9535.26     1907.05    -4767.63       27970.1      -635.684    6356.84\n",
       "   -953.526    4767.63    -1907.05        -635.684   27970.1      6356.84\n",
       "  -4767.63      953.526   -9535.26        6356.84     6356.84    27970.1"
      ]
     },
     "metadata": {},
     "output_type": "display_data"
    }
   ],
   "source": [
    "K_e[1]"
   ]
  }
 ],
 "metadata": {
  "kernelspec": {
   "display_name": "Julia 1.10.4",
   "language": "julia",
   "name": "julia-1.10"
  },
  "language_info": {
   "file_extension": ".jl",
   "mimetype": "application/julia",
   "name": "julia",
   "version": "1.10.4"
  }
 },
 "nbformat": 4,
 "nbformat_minor": 5
}
