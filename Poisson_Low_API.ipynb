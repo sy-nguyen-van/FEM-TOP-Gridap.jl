{
 "cells": [
  {
   "cell_type": "markdown",
   "metadata": {},
   "source": [
    "\n",
    "This tutorial is advanced and you only need to go through this if you want to know the internals of `Gridap` and what it does under the hood. Even though you will likely want to use the high-level APIs in `Gridap`, this tutorial will (hopefully) help if you want to become a `Gridap` developer, not just a user. We also consider that this tutorial shows how powerful and expressive the `Gridap` kernel is, and how mastering it you can implement new algorithms not currently provided by the library.\n",
    "\n",
    "As any other Gridap tutorial, this tutorial is primarily designed to be executed in a Jupyter notebook environment. However, the usage of a Julia debugger (typically outside of a Jupyter notebook environment), such as, e.g., the Julia REPL-based [`Debugger.jl`](https://github.com/JuliaDebug/Debugger.jl) package, or the one which comes along with the Visual Studio Code (VSCode) extension for the Julia programming language, may help the reader eager to understand the full detail of the explanations given. Some of the observations that come along with the code snippets are quite subtle/technical and may require a deeper exploration of the underlying code using a debugger.\n",
    "\n",
    "Let us start including `Gridap` and some of its submodules, to have access to a rich set of not so high-level methods. Note that the module `Gridap` provides the high-level API, whereas the submodules such as, e.g., `Gridap.FESpaces`, provide access to the different parts of the low-level API.\n",
    "\n"
   ]
  },
  {
   "cell_type": "code",
   "execution_count": 66,
   "metadata": {},
   "outputs": [],
   "source": [
    "\n",
    "using Gridap\n",
    "using Gridap.FESpaces\n",
    "using Gridap.ReferenceFEs\n",
    "using Gridap.Arrays\n",
    "using Gridap.Geometry\n",
    "using Gridap.Fields\n",
    "using Gridap.CellData\n",
    "using FillArrays\n",
    "using Test\n",
    "using InteractiveUtils"
   ]
  },
  {
   "cell_type": "markdown",
   "metadata": {},
   "source": [
    "## Discrete model and FE spaces set up using high-level API\n",
    "\n",
    "We first create the geometry model and FE spaces using the high-level API. In this tutorial, we are not going to describe the geometrical machinery in detail, only what is relevant for the discussion. To simplify the analysis of the outputs, you can consider a 2D mesh, i.e., `D=2` (everything below works for any spatial dimension without any extra complication). In order to make things slightly more interesting, i.e., having non-constant Jacobians, we have considered a mesh that is a stretching of an equal-sized structured mesh.\n"
   ]
  },
  {
   "cell_type": "code",
   "execution_count": 67,
   "metadata": {},
   "outputs": [
    {
     "data": {
      "text/plain": [
       "CartesianDiscreteModel()"
      ]
     },
     "metadata": {},
     "output_type": "display_data"
    }
   ],
   "source": [
    "L = 2 # Domain length in each space dimension\n",
    "D = 2 # Number of spatial dimensions\n",
    "n = 4 # Partition (i.e., number of cells per space dimension)\n",
    "\n",
    "function stretching(x::Point)\n",
    "   m = zeros(length(x))\n",
    "   m[1] = x[1]^2\n",
    "   for i in 2:D\n",
    "     m[i] = x[i]\n",
    "   end\n",
    "   Point(m)\n",
    "end\n",
    "\n",
    "pmin = Point(Fill(0,D))\n",
    "pmax = Point(Fill(L,D))\n",
    "partition = Tuple(Fill(n,D))\n",
    "model = CartesianDiscreteModel(pmin,pmax,partition,map=stretching)"
   ]
  },
  {
   "cell_type": "markdown",
   "metadata": {},
   "source": [
    "The next step is to build the global FE space of functions from which we are going to extract the unknown function of the differential problem at hand. This tutorial explores the Galerkin discretization of the scalar Poisson equation. Thus, we need to build H1-conforming global FE spaces. This can be achieved using $C^0$ continuous functions made of piece(cell)-wise polynomials. This is precisely the purpose of the following lines of code.\n",
    "\n",
    "First, we build a scalar-valued (`T = Float64`) Lagrangian reference FE of order `order` atop a reference n-cube of dimension `D`. To this end, we first need to create a `Polytope` using an array of dimension `D` with the parameter `HEX_AXIS`, which encodes the reference representation of the cells in the mesh. Then, we create the Lagrangian reference FE using the reference geometry just created in the previous step. It is not the purpose of this tutorial to describe the (key) abstract concept of `ReferenceFE` in Gridap.\n"
   ]
  },
  {
   "cell_type": "code",
   "execution_count": 68,
   "metadata": {},
   "outputs": [
    {
     "data": {
      "text/plain": [
       "QUAD"
      ]
     },
     "metadata": {},
     "output_type": "display_data"
    }
   ],
   "source": [
    "T = Float64\n",
    "order = 1\n",
    "pol = Polytope(Fill(HEX_AXIS,D)...) # Quad element\n",
    "reffe = LagrangianRefFE(T,pol,order)\n",
    "@which LagrangianRefFE(T, pol, order)\n",
    "# ref_fe = LagrangianRefFE(Float64, QUAD, 1)\n",
    "get_node_coordinates(reffe::LagrangianRefFE) \n",
    "get_polytope(reffe::LagrangianRefFE)\n",
    "\n",
    "\n"
   ]
  },
  {
   "cell_type": "markdown",
   "metadata": {},
   "source": [
    "Second, we build the test (Vₕ) and trial (Uₕ) global finite element (FE) spaces out of `model` and `reffe`. At this point we also specify the notion of conformity that we are willing to satisfy, i.e., H1-conformity, and the region of the domain in which we want to (strongly) impose Dirichlet boundary conditions, the whole boundary of the box in this case.\n"
   ]
  },
  {
   "cell_type": "code",
   "execution_count": 69,
   "metadata": {},
   "outputs": [
    {
     "data": {
      "text/plain": [
       "TrialFESpace()"
      ]
     },
     "metadata": {},
     "output_type": "display_data"
    }
   ],
   "source": [
    "Vₕ = FESpace(model,reffe;conformity=:H1,dirichlet_tags=\"boundary\")\n",
    "u(x) = x[1]            # Analytical solution (for Dirichlet data)\n",
    "Uₕ = TrialFESpace(Vₕ,u)\n"
   ]
  },
  {
   "cell_type": "markdown",
   "metadata": {},
   "source": [
    "We also want to extract the triangulation out of the model and create a numerical quadrature. We use a quadrature rule with a higher number integration points than those strictly needed to integrate a mass matrix exactly, i.e., `4*order`, instead of `2*order` We do so in order to help the reader distinguish the axis used for quadrature points, and the one used for DoFs in multi-dimensional arrays, which contain the result of evaluating fields (or a differential operator acting on these) in a set of quadrature rule evaluation points.\n"
   ]
  },
  {
   "cell_type": "code",
   "execution_count": 70,
   "metadata": {},
   "outputs": [
    {
     "data": {
      "text/plain": [
       "CellQuadrature()"
      ]
     },
     "metadata": {},
     "output_type": "display_data"
    }
   ],
   "source": [
    "Tₕ = Triangulation(model)\n",
    "Qₕ = CellQuadrature(Tₕ,2*order)"
   ]
  },
  {
   "cell_type": "markdown",
   "metadata": {},
   "source": [
    "`CellDatum` is the root of one out of three main type hierarchies in Gridap (along with the ones rooted at the abstract types `Map` and `Field`) on which the evaluation of variational methods in finite-dimensional spaces is grounded on. Any developer of Gridap should familiarize with these three hierarchies to some extent. Along this tutorial we will give some insight on the rationale underlying these, with some examples, but more effort in the form of self-research is expected from the reader as well.\n",
    "\n",
    "Conceptually, an instance of a `CellDatum` represents a collection of quantities (e.g., points in a reference system, or scalar-, vector- or tensor-valued fields, or arrays made of these), once per each cell of a triangulation. Using the `get_data` generic function one can extract an array with such quantities. For example, in the case of Qₕ, we get an array of quadrature rules for numerical integration.\n"
   ]
  },
  {
   "cell_type": "code",
   "execution_count": 71,
   "metadata": {},
   "outputs": [
    {
     "data": {
      "text/plain": [
       "16-element Fill{GenericQuadrature{2, Float64, Vector{VectorValue{2, Float64}}, Vector{Float64}}}, with entries equal to GenericQuadrature()"
      ]
     },
     "metadata": {},
     "output_type": "display_data"
    }
   ],
   "source": [
    "Qₕ_cell_data = get_data(Qₕ)\n",
    "#\n",
    "# @test length(Qₕ_cell_data) == num_cells(Tₕ)"
   ]
  },
  {
   "cell_type": "markdown",
   "metadata": {},
   "source": [
    "In this case we get the same quadrature rule in all cells (note that the returned array is of type `Fill`). Gridap also supports different quadrature rules to be used in different cells. Exploring such feature is out of scope of the present tutorial.\n",
    "\n",
    "Any `CellDatum` has a trait, the so-called `DomainStyle` trait. This information is consumed by `Gridap` in different parts of the code. It specifies whether the quantities in it are either expressed in the reference (`ReferenceDomain`) or the physical (`PhysicalDomain`) domain. We can indeed check the `DomainStyle` of a `CellDatum` using the `DomainStyle` generic function:\n"
   ]
  },
  {
   "cell_type": "code",
   "execution_count": 72,
   "metadata": {},
   "outputs": [
    {
     "data": {
      "text/plain": [
       "false"
      ]
     },
     "metadata": {},
     "output_type": "display_data"
    }
   ],
   "source": [
    "DomainStyle(Qₕ) == ReferenceDomain()\n",
    "#\n",
    "DomainStyle(Qₕ) == PhysicalDomain()"
   ]
  },
  {
   "cell_type": "markdown",
   "metadata": {},
   "source": [
    "If we evaluate the two expressions above, we can see that the `DomainStyle` trait of Qₕ is `ReferenceDomain`. This means that the local FE space in the physical space in which our problem is posed is expressed in terms of the composition of a space in a reference FE in a parametric space (which is being shared by many or all FEs in the physical space) and the inverse of the geometrical map (from the parametric to the physical space).\n",
    "\n",
    "In practise, the integration in the physical space is transformed into a numerical integration in the reference space (via a change of variables) using a quadrature. We can exploit this property for `ReferenceDomain` FE spaces to reduce computations, i.e., to avoid applying the geometrical map to the quadrature points within Qₕ and its inverse at the shape functions in the physical space.\n",
    "\n",
    "We note that, while finite elements may not be defined in this parametric space (it is though standard practice with Lagrangian FEs, and other FEs, because of performance reasons), finite element functions are always integrated in such a parametric space. However, for FE spaces that are genuinely defined in the physical space, i.e., the ones with the `PhysicalDomain` trait, the transformation of quadrature points from the reference to the physical space is required.\n",
    "\n",
    "In fact, the `DomainStyle` metadata of `CellDatum` allows `Gridap` to do the right thing (as soon as it is implemented) for all combinations of points and FE spaces (both either expressed in the reference or physical space). This is accomplished by the `change_domain` function in the API of `CellDatum`.\n",
    "\n",
    "Using the array of quadrature rules `Qₕ_cell_data`, we can access specific entries. The object retrieved provides an array of points (`Point` data type in `Gridap`) in the cell reference parametric space $[0,1]^d$ and their corresponding weights.\n"
   ]
  },
  {
   "cell_type": "code",
   "execution_count": 73,
   "metadata": {},
   "outputs": [
    {
     "data": {
      "text/plain": [
       "4-element Vector{VectorValue{2, Float64}}:\n",
       " VectorValue{2, Float64}(0.21132486540518708, 0.21132486540518708)\n",
       "  VectorValue{2, Float64}(0.7886751345948129, 0.21132486540518708)\n",
       "  VectorValue{2, Float64}(0.21132486540518708, 0.7886751345948129)\n",
       "   VectorValue{2, Float64}(0.7886751345948129, 0.7886751345948129)"
      ]
     },
     "metadata": {},
     "output_type": "display_data"
    }
   ],
   "source": [
    "q = Qₕ_cell_data[rand(1:num_cells(Tₕ))]\n",
    "#\n",
    "p = get_coordinates(q)\n",
    "#\n",
    "# w = get_weights(q)\n"
   ]
  },
  {
   "cell_type": "markdown",
   "metadata": {},
   "source": [
    "However, there is a more convenient way (for reasons made clear above) to work with the evaluation points of quadratures rules in Gridap. Namely, using the get_cell_points function we can extract a CellPoint object out of a CellQuadrature."
   ]
  },
  {
   "cell_type": "code",
   "execution_count": 74,
   "metadata": {},
   "outputs": [
    {
     "data": {
      "text/plain": [
       "16-element Fill{Vector{VectorValue{2, Float64}}}, with entries equal to VectorValue{2, Float64}[(0.21132486540518708, 0.21132486540518708), (0.7886751345948129, 0.21132486540518708), (0.21132486540518708, 0.7886751345948129), (0.7886751345948129, 0.7886751345948129)]"
      ]
     },
     "metadata": {},
     "output_type": "display_data"
    }
   ],
   "source": [
    "Qₕ_cell_point = get_cell_points(Qₕ)\n",
    "qₖ = get_data(Qₕ_cell_point)"
   ]
  },
  {
   "cell_type": "markdown",
   "metadata": {},
   "source": [
    "Not surprisingly, the DomainStyle trait of the CellPoint object is ReferenceDomain, and we get a (cell) array with an array of Points per each cell out of a CellPoint. As seen in the sequel, CellPoints are relevant objects because they are the ones that one can use in order to evaluate the so-called CellField objects on the set of points of a CellPoint.\n",
    "\n",
    "CellField is an abstract type rooted at a hierarchy that plays a cornerstone role in the implementation of the finite element method in Gridap. At this point, the reader should keep in mind that the finite element method works with global spaces of functions which are defined piece-wise on each cell of the triangulation. In a nutshell (more in the sections below), a CellField, as it being a subtype of CellDatum, might be understood as a collection of Fields (or arrays made out them) per each triangulation cell. Field represents a field, e.g., a scalar, vector, or tensor field. Thus, the domain of a Field are points in the physical domain (represented by a type Point in Gridap, which is a VectorValue with a dimension matching that of the environment space) and the range is a scalar, vector (represented by VectorValue) or tensor (represented by TensorValue).\n",
    "\n",
    "Unlike a plain array of Fields, a CellField is associated to a triangulation and is specifically designed having in mind FEs. For example, a global finite element function, or the collection of shape basis functions in the local FE space of each cell are examples of CellField objects. As commented above, these fields can be defined in the physical or a reference space (combined with a geometrical map provided by the triangulation object for each cell). Thus, CellField (as a sub-type of CellDatum) has the DomainStyle metadata that is used, e.g., for point-wise evaluations (as indicated above) of the fields and their derivatives (by implementing the transformations when taking a differential operators, e.g., the pull-back of the gradients)."
   ]
  },
  {
   "cell_type": "markdown",
   "metadata": {},
   "source": [
    "### Exploring our first CellField objects\n",
    "Let us work with our first CellField objects, namely FEBasis objects, and its evaluation. In particular, let us extract out of the global test space, Vₕ, and trial space, Uₕ, a collection of local test and trial finite element shape basis functions, respectively."
   ]
  },
  {
   "cell_type": "code",
   "execution_count": 75,
   "metadata": {},
   "outputs": [
    {
     "data": {
      "text/plain": [
       "16-element Fill{Gridap.Fields.TransposeFieldIndices{Matrix{Float64}, Float64}}, with entries equal to [0.6220084679281461; 0.16666666666666669; 0.16666666666666663; 0.044658198738520505;;; 0.16666666666666663; 0.6220084679281462; 0.04465819873852045; 0.16666666666666663;;; 0.16666666666666663; 0.04465819873852045; 0.6220084679281462; 0.16666666666666663;;; 0.044658198738520435; 0.16666666666666663; 0.16666666666666663; 0.6220084679281462]"
      ]
     },
     "metadata": {},
     "output_type": "display_data"
    }
   ],
   "source": [
    "dv = get_fe_basis(Vₕ)\n",
    "du = get_trial_fe_basis(Uₕ)\n",
    "grad_dv = ∇(dv)\n",
    "@test isa(grad_dv, Gridap.FESpaces.FEBasis)\n",
    "grad_dv_array = get_data(grad_dv)\n",
    "aa=evaluate(grad_dv,Qₕ_cell_point)\n",
    "dv_at_Qₕ = evaluate(dv,Qₕ_cell_point)\n",
    "du_at_Qₕ = evaluate(du,Qₕ_cell_point)\n",
    "\n"
   ]
  },
  {
   "cell_type": "code",
   "execution_count": 76,
   "metadata": {},
   "outputs": [
    {
     "ename": "DimensionMismatch",
     "evalue": "DimensionMismatch: parent has 16 elements, which is incompatible with size (9, 4)",
     "output_type": "error",
     "traceback": [
      "DimensionMismatch: parent has 16 elements, which is incompatible with size (9, 4)\n",
      "\n",
      "Stacktrace:\n",
      " [1] _throw_dmrs(n::Int64, str::String, dims::Tuple{Int64, Int64})\n",
      "   @ Base .\\reshapedarray.jl:182\n",
      " [2] _reshape\n",
      "   @ .\\reshapedarray.jl:177 [inlined]\n",
      " [3] reshape\n",
      "   @ .\\reshapedarray.jl:112 [inlined]\n",
      " [4] reshape(::Gridap.Fields.TransposeFieldIndices{Matrix{Float64}, Float64}, ::Int64, ::Int64)\n",
      "   @ Base .\\reshapedarray.jl:117\n",
      " [5] top-level scope\n",
      "   @ c:\\Users\\snv22002\\Documents\\GitHub\\Finite-Element-Method-with-Gridap.jl\\jl_notebook_cell_df34fa98e69747e1a8f8a730347b8e2f_X30sZmlsZQ==.jl:4"
     ]
    }
   ],
   "source": [
    "shape_test  = evaluate(dv,Qₕ_cell_point)[1]\n",
    "du_at_Qₕ = evaluate(du,Qₕ_cell_point)[1]\n",
    "\n",
    "shape_trial = reshape(du_at_Qₕ, 9, 4)\n",
    "\n",
    "w = ones(9)  # Quadrature weights (simplified; replace with actual weights)\n",
    "detJK = 1.0  # Jacobian determinant (simplified; depends on element)\n",
    "num_test_functions = 4\n",
    "num_trial_functions = 4\n",
    "num_quadrature_points = 9\n",
    "M = zeros(4,4)\n",
    "# Loop-based computation\n",
    "for i in 1:num_quadrature_points\n",
    "    detJK_wi = detJK * w[i]\n",
    "    for j in 1:num_test_functions\n",
    "        for k in 1:num_trial_functions\n",
    "            M[j,k] += shape_test[i,j] * shape_trial[i,k] * detJK_wi\n",
    "        end\n",
    "    end\n",
    "end\n",
    "M"
   ]
  },
  {
   "cell_type": "code",
   "execution_count": 77,
   "metadata": {},
   "outputs": [
    {
     "ename": "ArgumentError",
     "evalue": "ArgumentError: indexed assignment with a single value to possibly many locations is not supported; perhaps use broadcasting `.=` instead?",
     "output_type": "error",
     "traceback": [
      "ArgumentError: indexed assignment with a single value to possibly many locations is not supported; perhaps use broadcasting `.=` instead?\n",
      "\n",
      "Stacktrace:\n",
      " [1] setindex_shape_check(::Float64, ::Int64, ::Int64)\n",
      "   @ Base .\\indices.jl:261\n",
      " [2] _unsafe_setindex!(::IndexLinear, ::Matrix{Float64}, ::Float64, ::Base.Slice{Base.OneTo{Int64}}, ::Base.Slice{Base.OneTo{Int64}})\n",
      "   @ Base .\\multidimensional.jl:953\n",
      " [3] _setindex!\n",
      "   @ .\\multidimensional.jl:944 [inlined]\n",
      " [4] setindex!(::Matrix{Float64}, ::Float64, ::Function, ::Function)\n",
      "   @ Base .\\abstractarray.jl:1396\n",
      " [5] top-level scope\n",
      "   @ c:\\Users\\snv22002\\Documents\\GitHub\\Finite-Element-Method-with-Gridap.jl\\jl_notebook_cell_df34fa98e69747e1a8f8a730347b8e2f_X31sZmlsZQ==.jl:2"
     ]
    }
   ],
   "source": [
    "dv_at_Qₕ[rand(1:num_cells(Tₕ))]\n",
    "M[:,:] = 0.0\n",
    "for i in 1:num_quadrature_points\n",
    "  detJK_wi = det(JK) * w[i]\n",
    "  for j in 1:num_test_functions\n",
    "    for k in 1:num_trial_functions\n",
    "      M[j,k] += shape_test[i,j] * shape_trial[i,k] * detJK_wi\n",
    "    end\n",
    "  end\n",
    "end"
   ]
  },
  {
   "cell_type": "code",
   "execution_count": 78,
   "metadata": {},
   "outputs": [
    {
     "data": {
      "text/plain": [
       "OperationCellField():\n",
       " num_cells: 16\n",
       " DomainStyle: ReferenceDomain()\n",
       " Triangulation: BodyFittedTriangulation()\n",
       " Triangulation id: 10857374271509949750"
      ]
     },
     "metadata": {},
     "output_type": "display_data"
    }
   ],
   "source": [
    "dv_mult_du = du*dv"
   ]
  },
  {
   "cell_type": "code",
   "execution_count": 79,
   "metadata": {},
   "outputs": [
    {
     "data": {
      "text/plain": [
       "16-element Fill{Array{Float64, 3}}, with entries equal to [0.38689453417431957 0.10366807798802433 0.10366807798802433 0.027777777777777762; 0.027777777777777783 0.10366807798802438 0.007443033123086742 0.027777777777777776; 0.027777777777777766 0.0074430331230867395 0.10366807798802435 0.027777777777777766; 0.0019943547145691944 0.007443033123086749 0.007443033123086749 0.02777777777777781;;; 0.10366807798802433 0.027777777777777766 0.027777777777777766 0.007443033123086738; 0.10366807798802438 0.38689453417431974 0.027777777777777776 0.10366807798802435; 0.0074430331230867395 0.0019943547145691892 0.027777777777777776 0.0074430331230867395; 0.007443033123086749 0.027777777777777766 0.027777777777777766 0.10366807798802435;;; 0.10366807798802433 0.027777777777777766 0.027777777777777766 0.007443033123086738; 0.007443033123086742 0.027777777777777776 0.0019943547145691892 0.0074430331230867395; 0.10366807798802435 0.027777777777777776 0.38689453417431974 0.10366807798802435; 0.007443033123086749 0.027777777777777766 0.027777777777777766 0.10366807798802435;;; 0.027777777777777762 0.007443033123086738 0.007443033123086738 0.0019943547145691884; 0.027777777777777776 0.10366807798802435 0.0074430331230867395 0.027777777777777766; 0.027777777777777766 0.0074430331230867395 0.10366807798802435 0.027777777777777766; 0.02777777777777781 0.10366807798802435 0.10366807798802435 0.38689453417431974]"
      ]
     },
     "metadata": {},
     "output_type": "display_data"
    }
   ],
   "source": [
    "dv_mult_du_at_Qₕ = evaluate(dv_mult_du,Qₕ_cell_point)\n"
   ]
  },
  {
   "cell_type": "code",
   "execution_count": 80,
   "metadata": {},
   "outputs": [
    {
     "data": {
      "text/plain": [
       "Broadcasting()"
      ]
     },
     "metadata": {},
     "output_type": "display_data"
    }
   ],
   "source": [
    "m=Broadcasting(*)"
   ]
  },
  {
   "cell_type": "code",
   "execution_count": 81,
   "metadata": {},
   "outputs": [
    {
     "data": {
      "text/plain": [
       "4×4 Matrix{Float64}:\n",
       " 0.103668    0.0277778   0.0277778   0.00744303\n",
       " 0.0277778   0.103668    0.00744303  0.0277778\n",
       " 0.0277778   0.00744303  0.103668    0.0277778\n",
       " 0.00744303  0.0277778   0.0277778   0.103668"
      ]
     },
     "metadata": {},
     "output_type": "display_data"
    }
   ],
   "source": [
    "A=evaluate(m,dv_at_Qₕ[rand(1:num_cells(Tₕ))],du_at_Qₕ[rand(1:num_cells(Tₕ))])\n"
   ]
  },
  {
   "cell_type": "code",
   "execution_count": 82,
   "metadata": {},
   "outputs": [
    {
     "data": {
      "text/plain": [
       "4×4 Matrix{Float64}:\n",
       " 0.0277778   0.00744303  0.00744303  0.00199435\n",
       " 0.00744303  0.0277778   0.00199435  0.00744303\n",
       " 0.00744303  0.00199435  0.0277778   0.00744303\n",
       " 0.00199435  0.00744303  0.00744303  0.0277778"
      ]
     },
     "metadata": {},
     "output_type": "display_data"
    }
   ],
   "source": [
    "B=broadcast(*,dv_at_Qₕ[rand(1:num_cells(Tₕ))],du_at_Qₕ[rand(1:num_cells(Tₕ))])\n"
   ]
  },
  {
   "cell_type": "code",
   "execution_count": 83,
   "metadata": {},
   "outputs": [
    {
     "data": {
      "text/plain": [
       "4-element Vector{Float64}:\n",
       " 0.0\n",
       " 0.0\n",
       " 1.0\n",
       " 0.0"
      ]
     },
     "metadata": {},
     "output_type": "display_data"
    }
   ],
   "source": [
    "dv_array = get_data(dv)\n",
    "ϕ₃ = dv_array[1][3]\n",
    "evaluate(ϕ₃,[Point(0,0),Point(1,0),Point(0,1),Point(1,1)])\n",
    "\n"
   ]
  },
  {
   "cell_type": "code",
   "execution_count": 84,
   "metadata": {},
   "outputs": [
    {
     "data": {
      "text/plain": [
       "4×4 Matrix{Float64}:\n",
       " 1.0  0.0  0.0  0.0\n",
       " 0.0  1.0  0.0  0.0\n",
       " 0.0  0.0  1.0  0.0\n",
       " 0.0  0.0  0.0  1.0"
      ]
     },
     "metadata": {},
     "output_type": "display_data"
    }
   ],
   "source": [
    "ϕ = dv_array[1]\n",
    "evaluate(ϕ,[Point(0,0),Point(1,0),Point(0,1),Point(1,1)])"
   ]
  },
  {
   "cell_type": "code",
   "execution_count": 86,
   "metadata": {},
   "outputs": [
    {
     "data": {
      "text/plain": [
       "16-element Fill{Vector{VectorValue{2, Float64}}}, with entries equal to VectorValue{2, Float64}[(0.21132486540518708, 0.21132486540518708), (0.7886751345948129, 0.21132486540518708), (0.21132486540518708, 0.7886751345948129), (0.7886751345948129, 0.7886751345948129)]"
      ]
     },
     "metadata": {},
     "output_type": "display_data"
    }
   ],
   "source": [
    "dv_array = get_data(dv)\n",
    "dv_array_at_qₖ = lazy_map(evaluate,dv_array,qₖ)\n",
    "dv_array_at_qₖ[1]\n",
    "qₖ"
   ]
  },
  {
   "cell_type": "markdown",
   "metadata": {},
   "source": [
    "---\n",
    "\n",
    "*This notebook was generated using [Literate.jl](https://github.com/fredrikekre/Literate.jl).*"
   ]
  }
 ],
 "metadata": {
  "kernelspec": {
   "display_name": "Julia 1.10.4",
   "language": "julia",
   "name": "julia-1.10"
  },
  "language_info": {
   "file_extension": ".jl",
   "mimetype": "application/julia",
   "name": "julia",
   "version": "1.10.4"
  }
 },
 "nbformat": 4,
 "nbformat_minor": 3
}
