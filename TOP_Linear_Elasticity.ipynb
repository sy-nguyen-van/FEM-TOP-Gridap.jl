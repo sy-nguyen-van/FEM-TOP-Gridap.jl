{
 "cells": [
  {
   "cell_type": "markdown",
   "id": "bdf6cfaf",
   "metadata": {},
   "source": [
    "# Topology optimization of 2D cantilever beam using SIMP method #"
   ]
  },
  {
   "cell_type": "code",
   "execution_count": 1,
   "id": "5af4ef94",
   "metadata": {},
   "outputs": [],
   "source": [
    "using Gridap, Gridap.CellData, SparseArrays\n",
    "using NearestNeighbors, Printf  # make sure this is at the top of your file\n",
    "using Makie, GLMakie, LaTeXStrings, Makie.GeometryBasics"
   ]
  },
  {
   "cell_type": "code",
   "execution_count": 2,
   "id": "c6734684",
   "metadata": {},
   "outputs": [
    {
     "data": {
      "text/plain": [
       "run_finite_difference_check (generic function with 1 method)"
      ]
     },
     "metadata": {},
     "output_type": "display_data"
    }
   ],
   "source": [
    "push!(LOAD_PATH, \"utilities\")\n",
    "include(\"utilities/plot_design.jl\")\n",
    "include(\"utilities/OC.jl\")\n",
    "include(\"utilities/SIMP_Inter.jl\")\n",
    "include(\"utilities/filters.jl\")\n",
    "push!(LOAD_PATH, \"FD_check\")\n",
    "include(\"FD_check/run_finite_difference_check.jl\")"
   ]
  },
  {
   "cell_type": "markdown",
   "id": "9c2120e9",
   "metadata": {},
   "source": [
    "## Inputs"
   ]
  },
  {
   "cell_type": "code",
   "execution_count": 3,
   "id": "4f76a4d7",
   "metadata": {},
   "outputs": [
    {
     "data": {
      "text/plain": [
       "σ (generic function with 1 method)"
      ]
     },
     "metadata": {},
     "output_type": "display_data"
    }
   ],
   "source": [
    "L = 60 # Length\n",
    "W = 20 # Height\n",
    "domain = (0, L, 0, W) # sizes along X, Y\n",
    "partition = (L*3, W*3) # mesh sizes\n",
    "model = CartesianDiscreteModel(domain, partition)\n",
    "# writevtk(model, \"Cantilever_Beam_2D\")\n",
    "# Tag the left face (x = 0); right face (x = L)\n",
    "labels = get_face_labeling(model)\n",
    "add_tag_from_tags!(labels, \"left\", [1, 3, 7]) # \n",
    "add_tag_from_tags!(labels, \"right\", [2, 4, 8]) # \n",
    "# Integrating on the domain Ω\n",
    "degree = 2\n",
    "Ω = Triangulation(model)\n",
    "dΩ = Measure(Ω, degree)\n",
    "# neumann boundaries\n",
    "Γ = BoundaryTriangulation(model, tags=\"right\")\n",
    "dΓ = Measure(Γ, degree)\n",
    "# Vector-valued FE space\n",
    "order = 1\n",
    "reffe = ReferenceFE(lagrangian, VectorValue{2,Float64}, order)\n",
    "Vₕ = TestFESpace(Ω, reffe; conformity=:H1, dirichlet_tags=\"left\")\n",
    "Uₕ = TrialFESpace(Vₕ)\n",
    "# Constitutive law for LINEAR ELASTICITY \n",
    "const E = 119e3 # Young's modulus\n",
    "const ν = 0.3   # Poisson's ratio\n",
    "const λ = (E * ν) / ((1 + ν) * (1 - 2 * ν)) # Lamé parameters\n",
    "const μ = E / (2 * (1 + ν)) # Lamé parameters\n",
    "ε₀(u) = 0.5 * (∇(u) + transpose(∇(u))) # Strain; In Gridap this can be automatically defined in Gridap.ε\n",
    "σ(ε₀) = λ * tr(ε₀) * one(ε₀) + 2μ * ε₀ # Stress"
   ]
  },
  {
   "cell_type": "markdown",
   "id": "ae9426b3",
   "metadata": {},
   "source": [
    "## Filters"
   ]
  },
  {
   "cell_type": "code",
   "execution_count": 4,
   "id": "05fff696",
   "metadata": {},
   "outputs": [
    {
     "ename": "BoundsError",
     "evalue": "BoundsError: attempt to access VectorValue{2, Float64} at index [3]",
     "output_type": "error",
     "traceback": [
      "BoundsError: attempt to access VectorValue{2, Float64} at index [3]\n",
      "\n",
      "Stacktrace:\n",
      " [1] checkbounds\n",
      "   @ C:\\Users\\snv22002\\.julia\\packages\\Gridap\\rN56R\\src\\TensorValues\\Indexing.jl:60 [inlined]\n",
      " [2] macro expansion\n",
      "   @ C:\\Users\\snv22002\\.julia\\packages\\Gridap\\rN56R\\src\\Helpers\\Macros.jl:61 [inlined]\n",
      " [3] getindex(arg::VectorValue{2, Float64}, i::Int64)\n",
      "   @ Gridap.TensorValues C:\\Users\\snv22002\\.julia\\packages\\Gridap\\rN56R\\src\\TensorValues\\Indexing.jl:29\n",
      " [4] filters(filter_radius::Int64, Ω::Gridap.Geometry.BodyFittedTriangulation{2, 2, CartesianDiscreteModel{2, Float64, typeof(identity)}, CartesianGrid{2, Float64, typeof(identity)}, Gridap.Arrays.IdentityVector{Int64}})\n",
      "   @ Main c:\\Users\\snv22002\\Documents\\GitHub\\Finite-Element-Method-with-Gridap.jl\\utilities\\filters.jl:10\n",
      " [5] top-level scope\n",
      "   @ c:\\Users\\snv22002\\Documents\\GitHub\\Finite-Element-Method-with-Gridap.jl\\jl_notebook_cell_df34fa98e69747e1a8f8a730347b8e2f_W6sZmlsZQ==.jl:6"
     ]
    }
   ],
   "source": [
    "\n",
    "num_ele = num_cells(Ω) # Number of elements\n",
    "volfrac = 0.4\n",
    "p = 3\n",
    "max_iter = 50\n",
    "filter_radius = 2\n",
    "H = filters(filter_radius, Ω);"
   ]
  },
  {
   "cell_type": "markdown",
   "id": "e5ded971",
   "metadata": {},
   "source": [
    "## Run topology optimization"
   ]
  },
  {
   "cell_type": "code",
   "execution_count": 5,
   "id": "7e6ddf42",
   "metadata": {},
   "outputs": [
    {
     "ename": "UndefVarError",
     "evalue": "UndefVarError: `H` not defined",
     "output_type": "error",
     "traceback": [
      "UndefVarError: `H` not defined\n",
      "\n",
      "Stacktrace:\n",
      " [1] top-level scope\n",
      "   @ c:\\Users\\snv22002\\Documents\\GitHub\\Finite-Element-Method-with-Gridap.jl\\jl_notebook_cell_df34fa98e69747e1a8f8a730347b8e2f_X11sZmlsZQ==.jl:7"
     ]
    }
   ],
   "source": [
    "\n",
    "for iter = 1:max_iter\n",
    "    if iter == 1\n",
    "        ρ_new = 0.5 * ones(num_ele)\n",
    "    end\n",
    "    ρ_old = copy(ρ_new)\n",
    "    ρ_new_fil = H * ρ_new # Filter\n",
    "    # SIMP\n",
    "    ρ_SIMP, dρ_dp = SIMP_Inter(ρ_new_fil, p, Ω)\n",
    "    # ===FE-ANALYSIS\n",
    "    F(x) = VectorValue(0.0, -1) # I want to apply a unit load along Y axis to each node on the right face\n",
    "    l(v) = ∫(F ⋅ v) * dΓ # Right-hand size\n",
    "    a(u, v) = ∫(ρ_SIMP * (σ ∘ ε₀(u)) ⊙ ε₀(v)) * dΩ # Left-hand size; (∘) Composite functions\n",
    "    # Solution of the FE problem\n",
    "    op = AffineFEOperator(a, l, Uₕ, Vₕ)\n",
    "    uh = solve(op)\n",
    "    C = sum(∫(ρ_SIMP * (σ ∘ ε₀(uh)) ⊙ ε₀(uh)) * dΩ) # Compliance\n",
    "    dC_fil = get_contribution(∫(-dρ_dp * (σ ∘ ε₀(uh)) ⊙ ε₀(uh)) * dΩ, Ω) # Sensitivity of compliance w.r.t rho\n",
    "    dC = transpose(H) * (dC_fil[:])\n",
    "\n",
    "    ρ_new = OC(ρ_new, volfrac, dC, num_ele)\n",
    "    change_obj = maximum(abs.(ρ_new .- ρ_old))\n",
    "    figs = plot_design(ρ_new, cell_coords, iter, L, W)\n",
    "\n",
    "    display(figs)\n",
    "\n",
    "    if iter % 10 == 0\n",
    "        println(\"It. \", iter, \", Obj = \", @sprintf(\"%.5e\", C), \", Vol.: \", @sprintf(\"%.5e\", sum(ρ_new) / num_ele), \", ch.: \", @sprintf(\"%.5e\", change_obj))\n",
    "    end\n",
    "\n",
    "    if iter == max_iter\n",
    "        writevtk(Ω, \"Cantilever_Beam_2D_TOP\", cellfields = [\"rho\" => ρ_SIMP])\n",
    "    end\n",
    "\n",
    "end"
   ]
  }
 ],
 "metadata": {
  "kernelspec": {
   "display_name": "Julia 1.10.4",
   "language": "julia",
   "name": "julia-1.10"
  },
  "language_info": {
   "file_extension": ".jl",
   "mimetype": "application/julia",
   "name": "julia",
   "version": "1.10.4"
  }
 },
 "nbformat": 4,
 "nbformat_minor": 5
}
