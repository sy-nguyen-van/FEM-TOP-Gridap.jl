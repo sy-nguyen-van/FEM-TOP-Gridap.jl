{
 "cells": [
  {
   "cell_type": "markdown",
   "id": "bdf6cfaf",
   "metadata": {},
   "source": [
    "## Linear Elasticity for Cantilever Beam"
   ]
  },
  {
   "cell_type": "code",
   "execution_count": 51,
   "id": "5af4ef94",
   "metadata": {},
   "outputs": [],
   "source": [
    "using Gridap, Gridap.CellData, SparseArrays, BenchmarkTools\n",
    "using NearestNeighbors, Printf  # make sure this is at the top of your file\n",
    "using Makie,GLMakie, LaTeXStrings"
   ]
  },
  {
   "cell_type": "code",
   "execution_count": 61,
   "id": "53128902",
   "metadata": {},
   "outputs": [
    {
     "data": {
      "text/plain": [
       "4-element LazyArray{Fill{typeof(transpose), 1, Tuple{Base.OneTo{Int64}}}, Transpose{Gridap.Fields.OperationField{typeof(dot), Tuple{Gridap.Fields.OperationField{typeof(inv), Tuple{Gridap.Fields.LinearCombinationField{Vector{VectorValue{2, Float64}}, Gridap.Fields.LinearCombinationFieldVector{Matrix{Float64}, FieldGradientArray{1, MonomialBasis{2, Float64}, FieldGradient{1, Gridap.Polynomials.Monomial}, 1}}}}}, Gridap.Fields.LinearCombinationField{Matrix{Float64}, FieldGradientArray{1, MonomialBasis{2, Float64}, FieldGradient{1, Gridap.Polynomials.Monomial}, 1}}}}, Gridap.Fields.BroadcastOpFieldArray{typeof(dot), Gridap.Fields.OperationField{typeof(dot), Tuple{Gridap.Fields.OperationField{typeof(inv), Tuple{Gridap.Fields.LinearCombinationField{Vector{VectorValue{2, Float64}}, Gridap.Fields.LinearCombinationFieldVector{Matrix{Float64}, FieldGradientArray{1, MonomialBasis{2, Float64}, FieldGradient{1, Gridap.Polynomials.Monomial}, 1}}}}}, Gridap.Fields.LinearCombinationField{Matrix{Float64}, FieldGradientArray{1, MonomialBasis{2, Float64}, FieldGradient{1, Gridap.Polynomials.Monomial}, 1}}}}, 1, Tuple{Gridap.Fields.OperationField{typeof(inv), Tuple{Gridap.Fields.LinearCombinationField{Vector{VectorValue{2, Float64}}, Gridap.Fields.LinearCombinationFieldVector{Matrix{Float64}, FieldGradientArray{1, MonomialBasis{2, Float64}, FieldGradient{1, Gridap.Polynomials.Monomial}, 1}}}}}, Gridap.Fields.LinearCombinationFieldVector{Matrix{Float64}, FieldGradientArray{1, MonomialBasis{2, Float64}, FieldGradient{1, Gridap.Polynomials.Monomial}, 1}}}}}, 1, Tuple{LazyArray{Fill{Broadcasting{Operation{typeof(dot)}}, 1, Tuple{Base.OneTo{Int64}}}, Gridap.Fields.BroadcastOpFieldArray{typeof(dot), Gridap.Fields.OperationField{typeof(dot), Tuple{Gridap.Fields.OperationField{typeof(inv), Tuple{Gridap.Fields.LinearCombinationField{Vector{VectorValue{2, Float64}}, Gridap.Fields.LinearCombinationFieldVector{Matrix{Float64}, FieldGradientArray{1, MonomialBasis{2, Float64}, FieldGradient{1, Gridap.Polynomials.Monomial}, 1}}}}}, Gridap.Fields.LinearCombinationField{Matrix{Float64}, FieldGradientArray{1, MonomialBasis{2, Float64}, FieldGradient{1, Gridap.Polynomials.Monomial}, 1}}}}, 1, Tuple{Gridap.Fields.OperationField{typeof(inv), Tuple{Gridap.Fields.LinearCombinationField{Vector{VectorValue{2, Float64}}, Gridap.Fields.LinearCombinationFieldVector{Matrix{Float64}, FieldGradientArray{1, MonomialBasis{2, Float64}, FieldGradient{1, Gridap.Polynomials.Monomial}, 1}}}}}, Gridap.Fields.LinearCombinationFieldVector{Matrix{Float64}, FieldGradientArray{1, MonomialBasis{2, Float64}, FieldGradient{1, Gridap.Polynomials.Monomial}, 1}}}}, 1, Tuple{LazyArray{Fill{Operation{typeof(inv)}, 1, Tuple{Base.OneTo{Int64}}}, Gridap.Fields.OperationField{typeof(inv), Tuple{Gridap.Fields.LinearCombinationField{Vector{VectorValue{2, Float64}}, Gridap.Fields.LinearCombinationFieldVector{Matrix{Float64}, FieldGradientArray{1, MonomialBasis{2, Float64}, FieldGradient{1, Gridap.Polynomials.Monomial}, 1}}}}}, 1, Tuple{LazyArray{Fill{typeof(linear_combination), 1, Tuple{Base.OneTo{Int64}}}, Gridap.Fields.LinearCombinationField{Vector{VectorValue{2, Float64}}, Gridap.Fields.LinearCombinationFieldVector{Matrix{Float64}, FieldGradientArray{1, MonomialBasis{2, Float64}, FieldGradient{1, Gridap.Polynomials.Monomial}, 1}}}, 1, Tuple{LazyArray{Fill{Broadcasting{Reindex{Vector{VectorValue{2, Float64}}}}, 1, Tuple{Base.OneTo{Int64}}}, Vector{VectorValue{2, Float64}}, 1, Tuple{Vector{Vector{Int64}}}}, Fill{Gridap.Fields.LinearCombinationFieldVector{Matrix{Float64}, FieldGradientArray{1, MonomialBasis{2, Float64}, FieldGradient{1, Gridap.Polynomials.Monomial}, 1}}, 1, Tuple{Base.OneTo{Int64}}}}}}}, Fill{Gridap.Fields.LinearCombinationFieldVector{Matrix{Float64}, FieldGradientArray{1, MonomialBasis{2, Float64}, FieldGradient{1, Gridap.Polynomials.Monomial}, 1}}, 1, Tuple{Base.OneTo{Int64}}}}}}}:\n",
       " [OperationField() OperationField() OperationField() OperationField()]\n",
       " [OperationField() OperationField() OperationField() OperationField()]\n",
       " [OperationField() OperationField() OperationField() OperationField()]\n",
       " [OperationField() OperationField() OperationField() OperationField()]"
      ]
     },
     "metadata": {},
     "output_type": "display_data"
    }
   ],
   "source": [
    "using Gridap.Fields\n",
    "using Gridap.Polynomials\n",
    "using Gridap.ReferenceFEs\n",
    "using LinearAlgebra\n",
    "using FillArrays\n",
    "using Gridap.Arrays\n",
    "# nodes = Point{2,Float64}[(0,0),(0,1),(0,2),(1,0),(1,1),(1,2),(2,0),(2,1),(2,2)] \n",
    "nodes = Fields.Point{2,Float64}[(0, 0), (1, 0), (2, 0), (0, 1), (1, 1), (2, 1), (0, 2), (1, 2), (2, 2)] # Avoi Point width point in Makie.Point\n",
    "conn = [[1, 2, 4, 5], [2, 3, 5, 6], [4, 5, 7, 8], [5, 6, 8, 9]]\n",
    "\n",
    "# Reference shape functions \n",
    "filter(e, p) = true\n",
    "ref_nodes = Point{2,Float64}[\n",
    "    (0, 0), (1, 0), (0, 1), (1, 1)]\n",
    "\n",
    "m = MonomialBasis{2}(Float64, 1, filter)\n",
    "l = LagrangianDofBasis(Float64, ref_nodes)\n",
    "change = inv(evaluate(l, m))\n",
    "s = linear_combination(change, m)\n",
    "q = Point{2,Float64}[(0.5, 0.5)]\n",
    "w = [1.]\n",
    "\n",
    "# Cell-wise shape functions \n",
    "ncells = length(conn)\n",
    "cell_s = Fill(s, ncells)\n",
    "# Cell-wise quadrature \n",
    "cell_q = Fill(q, ncells)\n",
    "cell_w = Fill(w, ncells)\n",
    "# Geometrical map and Jacobian \n",
    "cell_nodes = lazy_map(Broadcasting(Arrays.Reindex(nodes)), conn)\n",
    "\n",
    "cell_φ = lazy_map(\n",
    "    linear_combination, cell_nodes, cell_s)\n",
    "cell_Jt = lazy_map(∇, cell_φ)\n",
    "# Cell-wise shape function derivatives\n",
    "cell_∇ref_s = lazy_map(Broadcasting(∇), cell_s)\n",
    "cell_invJt = lazy_map(Operation(inv), cell_Jt)\n",
    "cell_∇s = lazy_map( Broadcasting(Operation(⋅)), cell_invJt, cell_∇ref_s)\n",
    "# Cell-wise stifness matrix 50 cell_∇st = lazy_map(transpose,cell_∇s) 51 cell_∇s∇st = lazy_map( 52\n",
    " cell_∇st = lazy_map(transpose, cell_∇s)\n",
    "# cell_∇s∇st = lazy_map(  Broadcasting(Operation(⋅)), cell_∇s, cell_∇st)\n",
    "# cell_mat = lazy_map( integrate, cell_∇s∇st, cell_q, cell_w, cell_Jt)\n",
    "# cell_mat[1]\n"
   ]
  },
  {
   "cell_type": "code",
   "execution_count": 62,
   "id": "fd22c626",
   "metadata": {},
   "outputs": [
    {
     "data": {
      "text/plain": [
       "4-element LazyArray{Fill{typeof(transpose), 1, Tuple{Base.OneTo{Int64}}}, Transpose{Gridap.Fields.OperationField{typeof(dot), Tuple{Gridap.Fields.OperationField{typeof(inv), Tuple{Gridap.Fields.LinearCombinationField{Vector{VectorValue{2, Float64}}, Gridap.Fields.LinearCombinationFieldVector{Matrix{Float64}, FieldGradientArray{1, MonomialBasis{2, Float64}, FieldGradient{1, Gridap.Polynomials.Monomial}, 1}}}}}, Gridap.Fields.LinearCombinationField{Matrix{Float64}, FieldGradientArray{1, MonomialBasis{2, Float64}, FieldGradient{1, Gridap.Polynomials.Monomial}, 1}}}}, Gridap.Fields.BroadcastOpFieldArray{typeof(dot), Gridap.Fields.OperationField{typeof(dot), Tuple{Gridap.Fields.OperationField{typeof(inv), Tuple{Gridap.Fields.LinearCombinationField{Vector{VectorValue{2, Float64}}, Gridap.Fields.LinearCombinationFieldVector{Matrix{Float64}, FieldGradientArray{1, MonomialBasis{2, Float64}, FieldGradient{1, Gridap.Polynomials.Monomial}, 1}}}}}, Gridap.Fields.LinearCombinationField{Matrix{Float64}, FieldGradientArray{1, MonomialBasis{2, Float64}, FieldGradient{1, Gridap.Polynomials.Monomial}, 1}}}}, 1, Tuple{Gridap.Fields.OperationField{typeof(inv), Tuple{Gridap.Fields.LinearCombinationField{Vector{VectorValue{2, Float64}}, Gridap.Fields.LinearCombinationFieldVector{Matrix{Float64}, FieldGradientArray{1, MonomialBasis{2, Float64}, FieldGradient{1, Gridap.Polynomials.Monomial}, 1}}}}}, Gridap.Fields.LinearCombinationFieldVector{Matrix{Float64}, FieldGradientArray{1, MonomialBasis{2, Float64}, FieldGradient{1, Gridap.Polynomials.Monomial}, 1}}}}}, 1, Tuple{LazyArray{Fill{Broadcasting{Operation{typeof(dot)}}, 1, Tuple{Base.OneTo{Int64}}}, Gridap.Fields.BroadcastOpFieldArray{typeof(dot), Gridap.Fields.OperationField{typeof(dot), Tuple{Gridap.Fields.OperationField{typeof(inv), Tuple{Gridap.Fields.LinearCombinationField{Vector{VectorValue{2, Float64}}, Gridap.Fields.LinearCombinationFieldVector{Matrix{Float64}, FieldGradientArray{1, MonomialBasis{2, Float64}, FieldGradient{1, Gridap.Polynomials.Monomial}, 1}}}}}, Gridap.Fields.LinearCombinationField{Matrix{Float64}, FieldGradientArray{1, MonomialBasis{2, Float64}, FieldGradient{1, Gridap.Polynomials.Monomial}, 1}}}}, 1, Tuple{Gridap.Fields.OperationField{typeof(inv), Tuple{Gridap.Fields.LinearCombinationField{Vector{VectorValue{2, Float64}}, Gridap.Fields.LinearCombinationFieldVector{Matrix{Float64}, FieldGradientArray{1, MonomialBasis{2, Float64}, FieldGradient{1, Gridap.Polynomials.Monomial}, 1}}}}}, Gridap.Fields.LinearCombinationFieldVector{Matrix{Float64}, FieldGradientArray{1, MonomialBasis{2, Float64}, FieldGradient{1, Gridap.Polynomials.Monomial}, 1}}}}, 1, Tuple{LazyArray{Fill{Operation{typeof(inv)}, 1, Tuple{Base.OneTo{Int64}}}, Gridap.Fields.OperationField{typeof(inv), Tuple{Gridap.Fields.LinearCombinationField{Vector{VectorValue{2, Float64}}, Gridap.Fields.LinearCombinationFieldVector{Matrix{Float64}, FieldGradientArray{1, MonomialBasis{2, Float64}, FieldGradient{1, Gridap.Polynomials.Monomial}, 1}}}}}, 1, Tuple{LazyArray{Fill{typeof(linear_combination), 1, Tuple{Base.OneTo{Int64}}}, Gridap.Fields.LinearCombinationField{Vector{VectorValue{2, Float64}}, Gridap.Fields.LinearCombinationFieldVector{Matrix{Float64}, FieldGradientArray{1, MonomialBasis{2, Float64}, FieldGradient{1, Gridap.Polynomials.Monomial}, 1}}}, 1, Tuple{LazyArray{Fill{Broadcasting{Reindex{Vector{VectorValue{2, Float64}}}}, 1, Tuple{Base.OneTo{Int64}}}, Vector{VectorValue{2, Float64}}, 1, Tuple{Vector{Vector{Int64}}}}, Fill{Gridap.Fields.LinearCombinationFieldVector{Matrix{Float64}, FieldGradientArray{1, MonomialBasis{2, Float64}, FieldGradient{1, Gridap.Polynomials.Monomial}, 1}}, 1, Tuple{Base.OneTo{Int64}}}}}}}, Fill{Gridap.Fields.LinearCombinationFieldVector{Matrix{Float64}, FieldGradientArray{1, MonomialBasis{2, Float64}, FieldGradient{1, Gridap.Polynomials.Monomial}, 1}}, 1, Tuple{Base.OneTo{Int64}}}}}}}:\n",
       " [OperationField() OperationField() OperationField() OperationField()]\n",
       " [OperationField() OperationField() OperationField() OperationField()]\n",
       " [OperationField() OperationField() OperationField() OperationField()]\n",
       " [OperationField() OperationField() OperationField() OperationField()]"
      ]
     },
     "metadata": {},
     "output_type": "display_data"
    }
   ],
   "source": [
    "cell_∇st"
   ]
  },
  {
   "cell_type": "code",
   "execution_count": 56,
   "id": "68353875",
   "metadata": {},
   "outputs": [
    {
     "ename": "ErrorException",
     "evalue": "\n\nFunction gradient (aka ∇) is not defined for arrays of Field objects.\nUse Broadcasting(∇) instead.\n",
     "output_type": "error",
     "traceback": [
      "\n",
      "\n",
      "Function gradient (aka ∇) is not defined for arrays of Field objects.\n",
      "Use Broadcasting(∇) instead.\n",
      "\n",
      "\n",
      "Stacktrace:\n",
      "  [1] error(s::String)\n",
      "    @ Base .\\error.jl:35\n",
      "  [2] macro expansion\n",
      "    @ C:\\Users\\snv22002\\.julia\\packages\\Gridap\\lRBm2\\src\\Helpers\\Macros.jl:47 [inlined]\n",
      "  [3] gradient(a::Gridap.Fields.BroadcastOpFieldArray{typeof(dot), Gridap.Fields.OperationField{typeof(dot), Tuple{Gridap.Fields.OperationField{typeof(inv), Tuple{Gridap.Fields.LinearCombinationField{Vector{VectorValue{2, Float64}}, Gridap.Fields.LinearCombinationFieldVector{Matrix{Float64}, FieldGradientArray{1, MonomialBasis{2, Float64}, FieldGradient{1, Gridap.Polynomials.Monomial}, 1}}}}}, Gridap.Fields.LinearCombinationField{Matrix{Float64}, FieldGradientArray{1, MonomialBasis{2, Float64}, FieldGradient{1, Gridap.Polynomials.Monomial}, 1}}}}, 1, Tuple{Gridap.Fields.OperationField{typeof(inv), Tuple{Gridap.Fields.LinearCombinationField{Vector{VectorValue{2, Float64}}, Gridap.Fields.LinearCombinationFieldVector{Matrix{Float64}, FieldGradientArray{1, MonomialBasis{2, Float64}, FieldGradient{1, Gridap.Polynomials.Monomial}, 1}}}}}, Gridap.Fields.LinearCombinationFieldVector{Matrix{Float64}, FieldGradientArray{1, MonomialBasis{2, Float64}, FieldGradient{1, Gridap.Polynomials.Monomial}, 1}}}})\n",
      "    @ Gridap.Fields C:\\Users\\snv22002\\.julia\\packages\\Gridap\\lRBm2\\src\\Fields\\FieldArrays.jl:136\n",
      "  [4] ε₀(u::Gridap.Fields.BroadcastOpFieldArray{typeof(dot), Gridap.Fields.OperationField{typeof(dot), Tuple{Gridap.Fields.OperationField{typeof(inv), Tuple{Gridap.Fields.LinearCombinationField{Vector{VectorValue{2, Float64}}, Gridap.Fields.LinearCombinationFieldVector{Matrix{Float64}, FieldGradientArray{1, MonomialBasis{2, Float64}, FieldGradient{1, Gridap.Polynomials.Monomial}, 1}}}}}, Gridap.Fields.LinearCombinationField{Matrix{Float64}, FieldGradientArray{1, MonomialBasis{2, Float64}, FieldGradient{1, Gridap.Polynomials.Monomial}, 1}}}}, 1, Tuple{Gridap.Fields.OperationField{typeof(inv), Tuple{Gridap.Fields.LinearCombinationField{Vector{VectorValue{2, Float64}}, Gridap.Fields.LinearCombinationFieldVector{Matrix{Float64}, FieldGradientArray{1, MonomialBasis{2, Float64}, FieldGradient{1, Gridap.Polynomials.Monomial}, 1}}}}}, Gridap.Fields.LinearCombinationFieldVector{Matrix{Float64}, FieldGradientArray{1, MonomialBasis{2, Float64}, FieldGradient{1, Gridap.Polynomials.Monomial}, 1}}}})\n",
      "    @ Main c:\\Users\\snv22002\\Documents\\GitHub\\Finite-Element-Method-with-Gridap.jl\\jl_notebook_cell_df34fa98e69747e1a8f8a730347b8e2f_X40sZmlsZQ==.jl:6\n",
      "  [5] evaluate!(cache::Nothing, f::Function, x::Gridap.Fields.BroadcastOpFieldArray{typeof(dot), Gridap.Fields.OperationField{typeof(dot), Tuple{Gridap.Fields.OperationField{typeof(inv), Tuple{Gridap.Fields.LinearCombinationField{Vector{VectorValue{2, Float64}}, Gridap.Fields.LinearCombinationFieldVector{Matrix{Float64}, FieldGradientArray{1, MonomialBasis{2, Float64}, FieldGradient{1, Gridap.Polynomials.Monomial}, 1}}}}}, Gridap.Fields.LinearCombinationField{Matrix{Float64}, FieldGradientArray{1, MonomialBasis{2, Float64}, FieldGradient{1, Gridap.Polynomials.Monomial}, 1}}}}, 1, Tuple{Gridap.Fields.OperationField{typeof(inv), Tuple{Gridap.Fields.LinearCombinationField{Vector{VectorValue{2, Float64}}, Gridap.Fields.LinearCombinationFieldVector{Matrix{Float64}, FieldGradientArray{1, MonomialBasis{2, Float64}, FieldGradient{1, Gridap.Polynomials.Monomial}, 1}}}}}, Gridap.Fields.LinearCombinationFieldVector{Matrix{Float64}, FieldGradientArray{1, MonomialBasis{2, Float64}, FieldGradient{1, Gridap.Polynomials.Monomial}, 1}}}})\n",
      "    @ Gridap.Arrays C:\\Users\\snv22002\\.julia\\packages\\Gridap\\lRBm2\\src\\Arrays\\Maps.jl:93\n",
      "  [6] evaluate\n",
      "    @ C:\\Users\\snv22002\\.julia\\packages\\Gridap\\lRBm2\\src\\Arrays\\Maps.jl:87 [inlined]\n",
      "  [7] return_value\n",
      "    @ C:\\Users\\snv22002\\.julia\\packages\\Gridap\\lRBm2\\src\\Arrays\\Maps.jl:64 [inlined]\n",
      "  [8] return_type\n",
      "    @ C:\\Users\\snv22002\\.julia\\packages\\Gridap\\lRBm2\\src\\Arrays\\Maps.jl:62 [inlined]\n",
      "  [9] lazy_map(k::Function, f::LazyArray{Fill{Broadcasting{Operation{typeof(dot)}}, 1, Tuple{Base.OneTo{Int64}}}, Gridap.Fields.BroadcastOpFieldArray{typeof(dot), Gridap.Fields.OperationField{typeof(dot), Tuple{Gridap.Fields.OperationField{typeof(inv), Tuple{Gridap.Fields.LinearCombinationField{Vector{VectorValue{2, Float64}}, Gridap.Fields.LinearCombinationFieldVector{Matrix{Float64}, FieldGradientArray{1, MonomialBasis{2, Float64}, FieldGradient{1, Gridap.Polynomials.Monomial}, 1}}}}}, Gridap.Fields.LinearCombinationField{Matrix{Float64}, FieldGradientArray{1, MonomialBasis{2, Float64}, FieldGradient{1, Gridap.Polynomials.Monomial}, 1}}}}, 1, Tuple{Gridap.Fields.OperationField{typeof(inv), Tuple{Gridap.Fields.LinearCombinationField{Vector{VectorValue{2, Float64}}, Gridap.Fields.LinearCombinationFieldVector{Matrix{Float64}, FieldGradientArray{1, MonomialBasis{2, Float64}, FieldGradient{1, Gridap.Polynomials.Monomial}, 1}}}}}, Gridap.Fields.LinearCombinationFieldVector{Matrix{Float64}, FieldGradientArray{1, MonomialBasis{2, Float64}, FieldGradient{1, Gridap.Polynomials.Monomial}, 1}}}}, 1, Tuple{LazyArray{Fill{Operation{typeof(inv)}, 1, Tuple{Base.OneTo{Int64}}}, Gridap.Fields.OperationField{typeof(inv), Tuple{Gridap.Fields.LinearCombinationField{Vector{VectorValue{2, Float64}}, Gridap.Fields.LinearCombinationFieldVector{Matrix{Float64}, FieldGradientArray{1, MonomialBasis{2, Float64}, FieldGradient{1, Gridap.Polynomials.Monomial}, 1}}}}}, 1, Tuple{LazyArray{Fill{typeof(linear_combination), 1, Tuple{Base.OneTo{Int64}}}, Gridap.Fields.LinearCombinationField{Vector{VectorValue{2, Float64}}, Gridap.Fields.LinearCombinationFieldVector{Matrix{Float64}, FieldGradientArray{1, MonomialBasis{2, Float64}, FieldGradient{1, Gridap.Polynomials.Monomial}, 1}}}, 1, Tuple{LazyArray{Fill{Broadcasting{Reindex{Vector{VectorValue{2, Float64}}}}, 1, Tuple{Base.OneTo{Int64}}}, Vector{VectorValue{2, Float64}}, 1, Tuple{Vector{Vector{Int64}}}}, Fill{Gridap.Fields.LinearCombinationFieldVector{Matrix{Float64}, FieldGradientArray{1, MonomialBasis{2, Float64}, FieldGradient{1, Gridap.Polynomials.Monomial}, 1}}, 1, Tuple{Base.OneTo{Int64}}}}}}}, Fill{Gridap.Fields.LinearCombinationFieldVector{Matrix{Float64}, FieldGradientArray{1, MonomialBasis{2, Float64}, FieldGradient{1, Gridap.Polynomials.Monomial}, 1}}, 1, Tuple{Base.OneTo{Int64}}}}})\n",
      "    @ Gridap.Arrays C:\\Users\\snv22002\\.julia\\packages\\Gridap\\lRBm2\\src\\Arrays\\LazyArrays.jl:57\n",
      " [10] top-level scope\n",
      "    @ c:\\Users\\snv22002\\Documents\\GitHub\\Finite-Element-Method-with-Gridap.jl\\jl_notebook_cell_df34fa98e69747e1a8f8a730347b8e2f_X40sZmlsZQ==.jl:10"
     ]
    }
   ],
   "source": [
    "# Constitutive law for LINEAR ELASTICITY\n",
    "const ν = 0.3   # Poisson's ratio\n",
    "const E = 119e3 # Young's modulus\n",
    "const λ = (E * ν) / ((1 + ν) * (1 - 2 * ν)) # Lame's first parameter\n",
    "const μ = E / (2 * (1 + ν)) # Shear modulus\n",
    "ε₀(u) = 0.5 * (∇(u) + transpose(∇(u))) # Small strain tensor\n",
    "σ(ε) = λ * tr(ε) * one(ε) + 2μ * ε # Stress tensor\n",
    "\n",
    "# Cell-wise strain and stress\n",
    "cell_ε₀ = lazy_map(ε₀, cell_∇s)\n",
    "# cell_σ = lazy_map(σ, cell_ε₀)\n",
    "\n",
    "# # Cell-wise bilinear form contribution\n",
    "# cell_ε₀v = lazy_map(ε₀, cell_∇s) # Strain of test function v\n",
    "# cell_integrand = lazy_map(Broadcasting(Operation(⊙)), cell_σ, cell_ε₀v)\n",
    "# cell_mat = lazy_map(integrate, cell_integrand, cell_q, cell_w, cell_Jt)"
   ]
  },
  {
   "cell_type": "code",
   "execution_count": 31,
   "id": "18b8bfb8",
   "metadata": {},
   "outputs": [
    {
     "data": {
      "text/plain": [
       "OperationField()"
      ]
     },
     "metadata": {},
     "output_type": "display_data"
    }
   ],
   "source": []
  },
  {
   "cell_type": "code",
   "execution_count": 18,
   "id": "640700ee",
   "metadata": {},
   "outputs": [
    {
     "data": {
      "text/plain": [
       "4-element LazyArray{Fill{Broadcasting{Operation{typeof(dot)}}, 1, Tuple{Base.OneTo{Int64}}}, Gridap.Fields.BroadcastOpFieldArray{typeof(dot), Gridap.Fields.OperationField{typeof(dot), Tuple{Gridap.Fields.OperationField{typeof(inv), Tuple{Gridap.Fields.LinearCombinationField{Vector{Gridap.TensorValues.VectorValue{2, Float64}}, Gridap.Fields.LinearCombinationFieldVector{Matrix{Float64}, FieldGradientArray{1, MonomialBasis{2, Float64}, FieldGradient{1, Gridap.Polynomials.Monomial}, 1}}}}}, Gridap.Fields.LinearCombinationField{Matrix{Float64}, FieldGradientArray{1, MonomialBasis{2, Float64}, FieldGradient{1, Gridap.Polynomials.Monomial}, 1}}}}, 1, Tuple{Gridap.Fields.OperationField{typeof(inv), Tuple{Gridap.Fields.LinearCombinationField{Vector{Gridap.TensorValues.VectorValue{2, Float64}}, Gridap.Fields.LinearCombinationFieldVector{Matrix{Float64}, FieldGradientArray{1, MonomialBasis{2, Float64}, FieldGradient{1, Gridap.Polynomials.Monomial}, 1}}}}}, Gridap.Fields.LinearCombinationFieldVector{Matrix{Float64}, FieldGradientArray{1, MonomialBasis{2, Float64}, FieldGradient{1, Gridap.Polynomials.Monomial}, 1}}}}, 1, Tuple{LazyArray{Fill{Operation{typeof(inv)}, 1, Tuple{Base.OneTo{Int64}}}, Gridap.Fields.OperationField{typeof(inv), Tuple{Gridap.Fields.LinearCombinationField{Vector{Gridap.TensorValues.VectorValue{2, Float64}}, Gridap.Fields.LinearCombinationFieldVector{Matrix{Float64}, FieldGradientArray{1, MonomialBasis{2, Float64}, FieldGradient{1, Gridap.Polynomials.Monomial}, 1}}}}}, 1, Tuple{LazyArray{Fill{typeof(linear_combination), 1, Tuple{Base.OneTo{Int64}}}, Gridap.Fields.LinearCombinationField{Vector{Gridap.TensorValues.VectorValue{2, Float64}}, Gridap.Fields.LinearCombinationFieldVector{Matrix{Float64}, FieldGradientArray{1, MonomialBasis{2, Float64}, FieldGradient{1, Gridap.Polynomials.Monomial}, 1}}}, 1, Tuple{LazyArray{Fill{Broadcasting{Reindex{Vector{Gridap.TensorValues.VectorValue{2, Float64}}}}, 1, Tuple{Base.OneTo{Int64}}}, Vector{Gridap.TensorValues.VectorValue{2, Float64}}, 1, Tuple{Vector{Vector{Int64}}}}, Fill{Gridap.Fields.LinearCombinationFieldVector{Matrix{Float64}, FieldGradientArray{1, MonomialBasis{2, Float64}, FieldGradient{1, Gridap.Polynomials.Monomial}, 1}}, 1, Tuple{Base.OneTo{Int64}}}}}}}, Fill{Gridap.Fields.LinearCombinationFieldVector{Matrix{Float64}, FieldGradientArray{1, MonomialBasis{2, Float64}, FieldGradient{1, Gridap.Polynomials.Monomial}, 1}}, 1, Tuple{Base.OneTo{Int64}}}}}:\n",
       " [OperationField(), OperationField(), OperationField(), OperationField()]\n",
       " [OperationField(), OperationField(), OperationField(), OperationField()]\n",
       " [OperationField(), OperationField(), OperationField(), OperationField()]\n",
       " [OperationField(), OperationField(), OperationField(), OperationField()]"
      ]
     },
     "metadata": {},
     "output_type": "display_data"
    }
   ],
   "source": []
  },
  {
   "cell_type": "code",
   "execution_count": 21,
   "id": "74e4ed09",
   "metadata": {},
   "outputs": [
    {
     "data": {
      "text/plain": [
       "4×4 Matrix{Float64}:\n",
       "  0.5   0.0   0.0  -0.5\n",
       "  0.0   0.5  -0.5   0.0\n",
       "  0.0  -0.5   0.5   0.0\n",
       " -0.5   0.0   0.0   0.5"
      ]
     },
     "metadata": {},
     "output_type": "display_data"
    }
   ],
   "source": []
  },
  {
   "cell_type": "markdown",
   "id": "9c2120e9",
   "metadata": {},
   "source": [
    "## Inputs"
   ]
  },
  {
   "cell_type": "code",
   "execution_count": null,
   "id": "4f76a4d7",
   "metadata": {},
   "outputs": [],
   "source": [
    "L = 20 # Length\n",
    "W = 10 # Width and Height\n",
    "domain = (0, L, 0, W, 0, W) # sizes along X, Y, Z\n",
    "partition = (20, 10, 10) # mesh sizes"
   ]
  },
  {
   "cell_type": "markdown",
   "id": "1631c20f",
   "metadata": {},
   "source": [
    "### Add labels to left and right faces for boundary conditions"
   ]
  },
  {
   "cell_type": "code",
   "execution_count": null,
   "id": "23042dba",
   "metadata": {},
   "outputs": [],
   "source": [
    "model = CartesianDiscreteModel(domain, partition);\n",
    "# Tag the left face (x = 0); right face (x = L)\n",
    "labels = get_face_labeling(model)\n",
    "add_tag_from_tags!(labels,\"left\", [1,3,5,7,13,15,17,19,25]); # left face: corners (1,3,5,7); edges (13,15,17,19); others (25) \n",
    "add_tag_from_tags!(labels, \"right\", [2,4,6,8,14,16,18,20,26]); # Right face: corners (2,4,6,8); edges (14,16,18,20); others (26) \n",
    "# writevtk(Ω,\"Cantilever_Beam_3D\")"
   ]
  },
  {
   "cell_type": "markdown",
   "id": "57d3da5b",
   "metadata": {},
   "source": [
    "### Construct weak form in Gridap.jl"
   ]
  },
  {
   "cell_type": "code",
   "execution_count": null,
   "id": "cda3eae2",
   "metadata": {},
   "outputs": [],
   "source": [
    "# Integrating on the domain Ω\n",
    "degree = 2\n",
    "Ω = Triangulation(model)\n",
    "dΩ = Measure(Ω, degree)\n",
    "# neumann boundaries\n",
    "Γ = BoundaryTriangulation(model,tags = \"right\")\n",
    "dΓ = Measure(Γ,degree)\n",
    "# Vector-valued FE space\n",
    "order = 1\n",
    "reffe = ReferenceFE(lagrangian, VectorValue{3,Float64}, order)\n",
    "\n",
    "V = TestFESpace(Ω, reffe; conformity=:H1, dirichlet_tags = \"left\")\n",
    "U = TrialFESpace(V)\n",
    "\n",
    "# Constitutive law for LINEAR ELASTICITY \n",
    "const ν = 0.3   # Poisson's ratio\n",
    "const E = 119e3 # Young's modulus\n",
    "\n",
    "const λ = (E*ν)/((1+ν)*(1-2*ν)) # C12\n",
    "const μ = E/(2*(1+ν)) # Shear modulus\n",
    "ε₀(u) = 0.5 * ( ∇(u) + transpose(∇(u))) # Strain; In Gridap this can be automatically defined in Gridap.ε\n",
    "σ(ε₀) = λ * tr(ε₀) * one(ε₀) + 2μ * ε₀; # Stress\n",
    "# The weak form\n",
    "F(x) = VectorValue(0.0, -1, 0.0) # A unit load along Y axis applies to each node on the right face\n",
    "a(u,v) = ∫((σ∘ε₀(u)) ⊙ ε₀(v)) *dΩ # Left-hand size; (∘) Composite functions\n",
    "l(v) = ∫(F ⋅ v) * dΓ # Right-hand size"
   ]
  },
  {
   "cell_type": "markdown",
   "id": "ae9426b3",
   "metadata": {},
   "source": [
    "## Run finite element analysis"
   ]
  },
  {
   "cell_type": "code",
   "execution_count": null,
   "id": "05fff696",
   "metadata": {},
   "outputs": [],
   "source": [
    "\n",
    "# Solution of the FE problem\n",
    "op = AffineFEOperator(a,l,U,V)\n",
    "uh = solve(op)\n",
    "# writevtk(Ω,\"Cantilever_Beam_3D_uh\",cellfields=[\"uh\"=>uh,\"epsi\"=>ε₀(uh),\"sigma\"=>σ∘ε₀(uh)])"
   ]
  },
  {
   "cell_type": "markdown",
   "id": "dff049c0",
   "metadata": {},
   "source": [
    "### Compute the compliance"
   ]
  },
  {
   "cell_type": "code",
   "execution_count": null,
   "id": "da87b7de",
   "metadata": {},
   "outputs": [],
   "source": [
    "# Method 1\n",
    "C1 = sum(∫((σ ∘ ε₀(uh)) ⊙ ε₀(uh)) * dΩ) # Compliance\n",
    "println(\"Compliance 1: \", C1)\n",
    "# Method 2\n",
    "C2 = sum(∫(F ⋅ uh) * dΓ) # Compliance\n",
    "println(\"Compliance 2: \", C2)\n",
    "# Method 3\n",
    "U = get_free_dof_values(uh) # displacement vector\n",
    "K = get_matrix(op) # stiffness matrix\n",
    "C3 = dot(U, K * U)\n",
    "println(\"Compliance 3: \", C3)\n",
    "# Method 4 using for loop to compute sum(ue^T*ke*ue)\n",
    "\n",
    "using Gridap.Arrays, Gridap.FESpaces\n",
    "\n",
    "U_e = get_cell_dof_values(uh)\n",
    "u = get_trial_fe_basis(V)\n",
    "v = get_fe_basis(V)\n",
    "K_e = get_array(∫((σ ∘ ε₀(u)) ⊙ ε₀(v)) * dΩ)\n",
    "# ==\n",
    "a1 = ∫((σ ∘ ε₀(u)) ⊙ ε₀(v)) * dΩ\n",
    "KK = a1[Ω]\n",
    "KK[1] .- K_e[1]\n",
    "assem = SparseMatrixAssembler(V,V)\n",
    "# Allocation global parametric stiffness\n",
    "cell_dofs = get_cell_dof_ids(V)\n",
    "data = ([KK],[cell_dofs],[cell_dofs])\n",
    "KK_Global = allocate_matrix(assem,data)\n",
    "# =========\n",
    "numele = num_cells(Ω) # Number of elements\n",
    "C4 = 0.0 # Comliance\n",
    "for e=1:numele\n",
    "    ue = U_e[e]    # element displacement\n",
    "    # ke = KK[e] # element stiffness matrix\n",
    "    ke = K_e[e] # element stiffness matrix\n",
    "    C4 = C4 + transpose(ue)*ke*ue\n",
    "end\n",
    "println(\"Compliance 4: \", C4)\n"
   ]
  },
  {
   "cell_type": "code",
   "execution_count": null,
   "id": "3cf549ba",
   "metadata": {},
   "outputs": [],
   "source": []
  },
  {
   "cell_type": "code",
   "execution_count": null,
   "id": "d079efd4",
   "metadata": {},
   "outputs": [],
   "source": [
    "# Function to compute the B matrix at a quadrature point\n",
    "function compute_B(ε_u)\n",
    "    num_dofs = length(ε_u)  # Number of degrees of freedom (DOFs) in the element\n",
    "    B = zeros(6, num_dofs)  # Initialize B matrix (6 strain components for 3D)\n",
    "    for j in 1:num_dofs\n",
    "        ε_j = ε_u[j]  # Symmetric tensor for the j-th basis function\n",
    "        B[1, j] = ε_j[1,1]  # ε_xx\n",
    "        B[2, j] = ε_j[2,2]  # ε_yy\n",
    "        B[3, j] = ε_j[3,3]  # ε_zz\n",
    "        B[4, j] = 2 * ε_j[1,2]  # 2ε_xy (shear strain γ_xy)\n",
    "        B[5, j] = 2 * ε_j[2,3]  # 2ε_yz (shear strain γ_yz)\n",
    "        B[6, j] = 2 * ε_j[3,1]  # 2ε_zx (shear strain γ_zx)\n",
    "    end\n",
    "    return B\n",
    "end\n",
    "\n",
    "# Compute B matrix for each cell\n",
    "u = get_trial_fe_basis(V)\n",
    "\n",
    "cell_values = get_array(∫(ε₀(u)) * dΩ)\n",
    "\n",
    "ε_u=cell_values[1]\n",
    "\n",
    "num_nodes = 8       # Linear tetrahedral elements have 4 nodes\n",
    "B1 = compute_B(ε_u)\n",
    "\n",
    "cell_values = get_array(∫(ε₀(uh)) * dΩ)\n",
    "ε_u=cell_values[1]\n",
    "\n",
    "ε_u\n",
    "\n",
    "\n",
    "# # # Example: Access the B matrix for the first cell\n",
    "# B_first_cell = cell_B_matrices[1]\n",
    "# println(\"Strain-displacement matrix for the first cell:\\n\", B_first_cell)\n"
   ]
  },
  {
   "cell_type": "code",
   "execution_count": null,
   "id": "67bd4a13",
   "metadata": {},
   "outputs": [],
   "source": [
    "B1"
   ]
  },
  {
   "cell_type": "code",
   "execution_count": null,
   "id": "432eec96",
   "metadata": {},
   "outputs": [],
   "source": []
  },
  {
   "cell_type": "code",
   "execution_count": null,
   "id": "be3361cf",
   "metadata": {},
   "outputs": [],
   "source": [
    "using Gridap\n",
    "\n",
    "# Assuming V is the finite element space and dΩ is the integration measure\n",
    "u = get_trial_fe_basis(V)  # Get the trial basis functions from the FE space\n",
    "q = get_cell_points(dΩ)    # Get the quadrature points for each cell\n",
    "\n",
    "# Evaluate the symmetric gradient of the basis functions at the quadrature points\n",
    "ε_u_at_q = evaluate(ε₀(u), q)\n",
    "\n",
    "# Function to compute the B matrix from symmetric gradients at a quadrature point\n",
    "function compute_B(ε_u)\n",
    "    num_dofs = length(ε_u)  # Number of degrees of freedom (DOFs) in the element\n",
    "    B = zeros(6, num_dofs)  # Initialize B matrix (6 strain components for 3D)\n",
    "    for j in 1:num_dofs\n",
    "        ε_j = ε_u[j]  # Symmetric tensor for the j-th basis function\n",
    "        B[1, j] = ε_j[1,1]  # ε_xx\n",
    "        B[2, j] = ε_j[2,2]  # ε_yy\n",
    "        B[3, j] = ε_j[3,3]  # ε_zz\n",
    "        B[4, j] = 2 * ε_j[1,2]  # 2ε_xy (shear strain γ_xy)\n",
    "        B[5, j] = 2 * ε_j[2,3]  # 2ε_yz (shear strain γ_yz)\n",
    "        B[6, j] = 2 * ε_j[3,1]  # 2ε_zx (shear strain γ_zx)\n",
    "    end\n",
    "    return B\n",
    "end\n",
    "\n",
    "# Compute the B matrix for each cell at each quadrature point\n",
    "cell_B = lazy_map(ε_u_q -> [compute_B(ε_u_q[qp, :]) for qp in 1:size(ε_u_q, 1)], ε_u_at_q)\n",
    "\n",
    "# Example: Access and display the B matrix for the first cell at the first quadrature point\n",
    "B_first_cell_first_qp = cell_B[1][1]\n",
    "println(\"B matrix for the first cell at the first quadrature point:\\n\", B_first_cell_first_qp)"
   ]
  },
  {
   "cell_type": "code",
   "execution_count": null,
   "id": "915a9172",
   "metadata": {},
   "outputs": [],
   "source": [
    "using Gridap\n",
    "\n",
    "# Define the 3D domain and mesh (example: Cartesian grid)\n",
    "domain = (0.0, 1.0, 0.0, 1.0, 0.0, 1.0)\n",
    "partition = (2, 2, 2)  # 2x2x2 elements (adjust as needed)\n",
    "model = CartesianDiscreteModel(domain, partition)\n",
    "\n",
    "# Triangulation and integration measure\n",
    "Ω = Triangulation(model)\n",
    "dΩ = Measure(Ω, 2)  # Quadrature degree 2 for linear hex elements\n",
    "\n",
    "# Define the finite element space for vector-valued displacements\n",
    "order = 1\n",
    "reffe = ReferenceFE(HEX, lagrangian, VectorValue{3,Float64}, order)\n",
    "V = TestFESpace(model, reffe; conformity=:H1)"
   ]
  },
  {
   "cell_type": "code",
   "execution_count": null,
   "id": "88d2d492",
   "metadata": {},
   "outputs": [],
   "source": [
    "# Material properties\n",
    "E = 119e3  # Young's modulus (Pa)\n",
    "ν = 0.3    # Poisson's ratio\n",
    "λ = (E * ν) / ((1 + ν) * (1 - 2ν))  # Lamé's first parameter\n",
    "μ = E / (2 * (1 + ν))               # Shear modulus\n",
    "\n",
    "# Constitutive matrix D for 3D (Voigt notation)\n",
    "D = [\n",
    "    λ + 2μ  λ     λ     0.0   0.0   0.0;\n",
    "    λ       λ + 2μ λ     0.0   0.0   0.0;\n",
    "    λ       λ     λ + 2μ 0.0   0.0   0.0;\n",
    "    0.0     0.0   0.0   μ     0.0   0.0;\n",
    "    0.0     0.0   0.0   0.0   μ     0.0;\n",
    "    0.0     0.0   0.0   0.0   0.0   μ\n",
    "]"
   ]
  },
  {
   "cell_type": "code",
   "execution_count": null,
   "id": "7b53c603",
   "metadata": {},
   "outputs": [],
   "source": [
    "# Get trial basis functions and quadrature points\n",
    "u = get_trial_fe_basis(V)\n",
    "q = get_cell_points(dΩ)\n",
    "ε_u_at_q = evaluate(ε₀(u), q)  # Shape: (num_quad_points, num_cells, num_dofs)\n",
    "\n",
    "# Function to compute B_e for a given quadrature point\n",
    "function compute_Be(ε_u)\n",
    "    num_nodes = 8\n",
    "    num_dofs = num_nodes * 3  # 24 DOFs\n",
    "    B = zeros(6, num_dofs)\n",
    "    for k in 1:num_nodes\n",
    "        for α in 1:3  # x, y, z components\n",
    "            j = (k-1)*3 + α\n",
    "            ε_j = ε_u[j]  # Access the tensor for the j-th DOF\n",
    "            if α == 1  # u_x at node k\n",
    "                B[1,j] = ε_j[1,1]  # ∂N_k/∂x for ε_xx\n",
    "                B[4,j] = 2 * ε_j[1,2]  # 2 * ∂N_k/∂y for γ_xy\n",
    "                B[6,j] = 2 * ε_j[1,3]  # 2 * ∂N_k/∂z for γ_zx\n",
    "            elseif α == 2  # u_y at node k\n",
    "                B[2,j] = ε_j[2,2]  # ∂N_k/∂y for ε_yy\n",
    "                B[4,j] = 2 * ε_j[2,1]  # 2 * ∂N_k/∂x for γ_xy\n",
    "                B[5,j] = 2 * ε_j[2,3]  # 2 * ∂N_k/∂z for γ_yz\n",
    "            elseif α == 3  # u_z at node k\n",
    "                B[3,j] = ε_j[3,3]  # ∂N_k/∂z for ε_zz\n",
    "                B[5,j] = 2 * ε_j[3,2]  # 2 * ∂N_k/∂y for γ_yz\n",
    "                B[6,j] = 2 * ε_j[3,1]  # 2 * ∂N_k/∂x for γ_zx\n",
    "            end\n",
    "        end\n",
    "    end\n",
    "    return B\n",
    "end\n",
    "\n",
    "# Compute B_e for each quadrature point in each cell\n",
    "cell_Be = lazy_map(ε_u_q -> begin\n",
    "    num_quad_points = size(ε_u_q, 1)  # Number of quadrature points\n",
    "    [compute_Be(view(ε_u_q, qp, :, :)) for qp in 1:num_quad_points]\n",
    "end, ε_u_at_q)\n",
    "\n",
    "# Function to compute B_e^T D B_e\n",
    "function compute_BTDBe(B, D)\n",
    "    return B' * D * B\n",
    "end\n",
    "cell_Be\n",
    "# # Compute the integrand B_e^T D B_e\n",
    "cell_BTDBe = lazy_map(Be_q -> [compute_BTDBe(Be, D) for Be in Be_q], cell_Be)\n",
    "\n",
    "# # Integrate to get the element stiffness matrix\n",
    "K_e = integrate(cell_BTDBe, dΩ)\n",
    "\n",
    "# # Display the result for the first element\n",
    "# println(\"Element stiffness matrix K_e for the first element:\\n\", K_e[1])"
   ]
  }
 ],
 "metadata": {
  "kernelspec": {
   "display_name": "Julia 1.10.4",
   "language": "julia",
   "name": "julia-1.10"
  },
  "language_info": {
   "file_extension": ".jl",
   "mimetype": "application/julia",
   "name": "julia",
   "version": "1.10.4"
  }
 },
 "nbformat": 4,
 "nbformat_minor": 5
}
