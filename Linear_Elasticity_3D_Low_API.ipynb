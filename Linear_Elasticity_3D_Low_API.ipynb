{
 "cells": [
  {
   "cell_type": "markdown",
   "id": "bdf6cfaf",
   "metadata": {},
   "source": [
    "## Linear Elasticity for Cantilever Beam"
   ]
  },
  {
   "cell_type": "code",
   "execution_count": 29,
   "id": "5af4ef94",
   "metadata": {},
   "outputs": [],
   "source": [
    "using Gridap, Gridap.CellData, SparseArrays, BenchmarkTools\n",
    "using NearestNeighbors, Printf  # make sure this is at the top of your file\n",
    "using Gridap\n",
    "using Gridap.FESpaces\n",
    "using Gridap.ReferenceFEs\n",
    "using Gridap.Arrays\n",
    "using Gridap.Geometry\n",
    "using Gridap.Fields\n",
    "using Gridap.CellData\n",
    "using FillArrays\n",
    "using InteractiveUtils\n",
    "using Gridap.Polynomials\n",
    "using LinearAlgebra\n"
   ]
  },
  {
   "cell_type": "markdown",
   "id": "9c2120e9",
   "metadata": {},
   "source": [
    "## Inputs"
   ]
  },
  {
   "cell_type": "markdown",
   "id": "1631c20f",
   "metadata": {},
   "source": [
    "### Add labels to left and right faces for boundary conditions"
   ]
  },
  {
   "cell_type": "code",
   "execution_count": null,
   "id": "c8ad42b5",
   "metadata": {},
   "outputs": [
    {
     "ename": "MethodError",
     "evalue": "MethodError: no method matching one(::Gridap.FESpaces.SingleFieldFEBasis{Gridap.FESpaces.TrialBasis, ReferenceDomain})\n\nClosest candidates are:\n  one(!Matched::Type{Union{}}, Any...)\n   @ Base number.jl:349\n  one(!Matched::Type{Missing})\n   @ Base missing.jl:104\n  one(!Matched::BitMatrix)\n   @ Base bitarray.jl:426\n  ...\n",
     "output_type": "error",
     "traceback": [
      "MethodError: no method matching one(::Gridap.FESpaces.SingleFieldFEBasis{Gridap.FESpaces.TrialBasis, ReferenceDomain})\n",
      "\n",
      "Closest candidates are:\n",
      "  one(!Matched::Type{Union{}}, Any...)\n",
      "   @ Base number.jl:349\n",
      "  one(!Matched::Type{Missing})\n",
      "   @ Base missing.jl:104\n",
      "  one(!Matched::BitMatrix)\n",
      "   @ Base bitarray.jl:426\n",
      "  ...\n",
      "\n",
      "\n",
      "Stacktrace:\n",
      " [1] Ce(ε::Gridap.FESpaces.SingleFieldFEBasis{Gridap.FESpaces.TrialBasis, ReferenceDomain})\n",
      "   @ Main c:\\Users\\snv22002\\Documents\\GitHub\\Finite-Element-Method-with-Gridap.jl\\jl_notebook_cell_df34fa98e69747e1a8f8a730347b8e2f_X40sZmlsZQ==.jl:40\n",
      " [2] top-level scope\n",
      "   @ c:\\Users\\snv22002\\Documents\\GitHub\\Finite-Element-Method-with-Gridap.jl\\jl_notebook_cell_df34fa98e69747e1a8f8a730347b8e2f_X40sZmlsZQ==.jl:48"
     ]
    }
   ],
   "source": [
    "\n",
    "L = 20 # Length\n",
    "W = 10 # Width and Height\n",
    "domain = (0, L, 0, W, 0, W) # sizes along X, Y, Z\n",
    "partition = (20, 10, 10) # mesh sizes\n",
    "model = CartesianDiscreteModel(domain, partition);\n",
    "# Tag the left face (x = 0); right face (x = L)\n",
    "labels = get_face_labeling(model);\n",
    "add_tag_from_tags!(labels,\"left\", [1,3,5,7,13,15,17,19,25]); # left face: corners (1,3,5,7); edges (13,15,17,19); others (25) \n",
    "add_tag_from_tags!(labels, \"right\", [2,4,6,8,14,16,18,20,26]); # Right face: corners (2,4,6,8); edges (14,16,18,20); others (26) \n",
    "# writevtk(Ω,\"Cantilever_Beam_3D\")\n",
    "order = 1\n",
    "reffe = LagrangianRefFE(VectorValue{3,Float64}, HEX, order)\n",
    "# Integrating on the domain Ω\n",
    "degree = 2\n",
    "Ωₕ = Triangulation(model)\n",
    "dΩₕ = Measure(Ωₕ, degree)\n",
    "# neumann boundaries\n",
    "Γ = BoundaryTriangulation(model,tags = \"right\")\n",
    "dΓ = Measure(Γ,degree)\n",
    "# Vector-valued FE space\n",
    "\n",
    "Vₕ = TestFESpace(Ωₕ, reffe; conformity=:H1, dirichlet_tags = \"left\")\n",
    "Uₕ = TrialFESpace(Vₕ)\n",
    "\n",
    "Qₕ = CellQuadrature(Ωₕ,degree)\n",
    "\n",
    "ν = 0.3   # Poisson's ratio\n",
    "E = 119e3 # Young's modulus\n",
    "# Lamé parameters\n",
    "μ = E / (2 * (1 + ν))\n",
    "λ = ν * E / ((1 + ν) * (1 - 2 * ν))\n",
    "\n",
    "# Constitutive matrix for 3D isotropic linear elasticity\n",
    "# Lamé parameters\n",
    "μ = E / (2 * (1 + ν))\n",
    "λ = ν * E / ((1 + ν) * (1 - 2 * ν))\n",
    "\n",
    "# Constitutive tensor for 3D isotropic linear elasticity\n",
    "Ce(ε) = λ * tr(ε) * one(ε) + 2 * μ * ε\n",
    "\n",
    "Qₕ_cell_data = get_data(Qₕ)\n",
    "Qₕ_cell_point = get_cell_points(Qₕ)\n",
    "\n",
    "dv = get_fe_basis(Vₕ)\n",
    "du = get_trial_fe_basis(Uₕ)\n",
    "\n",
    "Bilinear_form = evaluate(∇(du)  Ce(∇(du)), Qₕ_cell_point)\n",
    "\n"
   ]
  },
  {
   "cell_type": "code",
   "execution_count": 37,
   "id": "889b9dd4",
   "metadata": {},
   "outputs": [
    {
     "data": {
      "text/plain": [
       "4×4 Matrix{Float64}:\n",
       "  0.5   0.0   0.0  -0.5\n",
       "  0.0   0.5  -0.5   0.0\n",
       "  0.0  -0.5   0.5   0.0\n",
       " -0.5   0.0   0.0   0.5"
      ]
     },
     "metadata": {},
     "output_type": "display_data"
    }
   ],
   "source": [
    "\n",
    "# nodes = Point{2,Float64}[(0,0),(0,1),(0,2),(1,0),(1,1),(1,2),(2,0),(2,1),(2,2)] \n",
    "nodes = Fields.Point{2,Float64}[(0, 0), (1, 0), (2, 0), (0, 1), (1, 1), (2, 1), (0, 2), (1, 2), (2, 2)] # Avoi Point width point in Makie.Point\n",
    "conn = [[1, 2, 4, 5], [2, 3, 5, 6], [4, 5, 7, 8], [5, 6, 8, 9]]\n",
    "\n",
    "# Reference shape functions \n",
    "filter(e, p) = true\n",
    "ref_nodes = Point{2,Float64}[\n",
    "    (0, 0), (1, 0), (0, 1), (1, 1)]\n",
    "\n",
    "m = MonomialBasis{2}(Float64, 1, filter)\n",
    "l = LagrangianDofBasis(Float64, ref_nodes)\n",
    "change = inv(evaluate(l, m))\n",
    "s = linear_combination(change, m)\n",
    "q = Point{2,Float64}[(0.5, 0.5)]\n",
    "w = [1.]\n",
    "\n",
    "# Cell-wise shape functions \n",
    "ncells = length(conn)\n",
    "cell_s = Fill(s, ncells)\n",
    "# Cell-wise quadrature \n",
    "cell_q = Fill(q, ncells)\n",
    "cell_w = Fill(w, ncells)\n",
    "# Geometrical map and Jacobian \n",
    "cell_nodes = lazy_map(Broadcasting(Arrays.Reindex(nodes)), conn)\n",
    "\n",
    "cell_φ = lazy_map(\n",
    "    linear_combination, cell_nodes, cell_s)\n",
    "cell_Jt = lazy_map(∇, cell_φ)\n",
    "# Cell-wise shape function derivatives\n",
    "cell_∇ref_s = lazy_map(Broadcasting(∇), cell_s)\n",
    "cell_invJt = lazy_map(Operation(inv), cell_Jt)\n",
    "cell_∇s = lazy_map( Broadcasting(Operation(⋅)), cell_invJt, cell_∇ref_s)\n",
    "#Cell-wise stifness matrix 50 cell_∇st = lazy_map(transpose,cell_∇s) 51 cell_∇s∇st = lazy_map( 52\n",
    " cell_∇st = lazy_map(transpose, cell_∇s)\n",
    "cell_∇s∇st = lazy_map(  Broadcasting(Operation(⋅)), cell_∇s, cell_∇st)\n",
    "cell_mat = lazy_map( integrate, cell_∇s∇st, cell_q, cell_w, cell_Jt)\n",
    "cell_mat[1]"
   ]
  },
  {
   "cell_type": "markdown",
   "id": "ae9426b3",
   "metadata": {},
   "source": [
    "## Run finite element analysis"
   ]
  },
  {
   "cell_type": "code",
   "execution_count": 6,
   "id": "05fff696",
   "metadata": {},
   "outputs": [
    {
     "data": {
      "text/plain": [
       "SingleFieldFEFunction():\n",
       " num_cells: 2000\n",
       " DomainStyle: ReferenceDomain()\n",
       " Triangulation: BodyFittedTriangulation()\n",
       " Triangulation id: 12595192635354261362"
      ]
     },
     "metadata": {},
     "output_type": "display_data"
    }
   ],
   "source": [
    "# The weak form\n",
    "F(x) = VectorValue(0.0, -1, 0.0) # A unit load along Y axis applies to each node on the right face\n",
    "a(u,v) = ∫((σ∘ε₀(u)) ⊙ ε₀(v)) *dΩ # Left-hand size; (∘) Composite functions\n",
    "l(v) = ∫(F ⋅ v) * dΓ # Right-hand size\n",
    "# Solution of the FE problem\n",
    "op = AffineFEOperator(a,l,U,V)\n",
    "uh = solve(op)\n",
    "# writevtk(Ω,\"Cantilever_Beam_3D_uh\",cellfields=[\"uh\"=>uh,\"epsi\"=>ε₀(uh),\"sigma\"=>σ∘ε₀(uh)])"
   ]
  },
  {
   "cell_type": "markdown",
   "id": "dff049c0",
   "metadata": {},
   "source": [
    "### Compute the compliance"
   ]
  },
  {
   "cell_type": "code",
   "execution_count": 7,
   "id": "da87b7de",
   "metadata": {},
   "outputs": [
    {
     "name": "stdout",
     "output_type": "stream",
     "text": [
      "Compliance 1: 0.30855010386860376\n",
      "Compliance 2: 0.30855010386853077\n",
      "Compliance 3: 0.30855010386865317\n",
      "Compliance 4: 0.30855010386887693\n"
     ]
    }
   ],
   "source": [
    "# Method 1\n",
    "C1 = sum(∫((σ ∘ ε₀(uh)) ⊙ ε₀(uh)) * dΩ) # Compliance\n",
    "println(\"Compliance 1: \", C1)\n",
    "# Method 2\n",
    "C2 = sum(∫(F ⋅ uh) * dΓ) # Compliance\n",
    "println(\"Compliance 2: \", C2)\n",
    "# Method 3\n",
    "U = get_free_dof_values(uh) # displacement vector\n",
    "K = get_matrix(op) # stiffness matrix\n",
    "C3 = dot(U, K * U)\n",
    "println(\"Compliance 3: \", C3)\n",
    "# Method 4 using for loop to compute sum(ue^T*ke*ue)\n",
    "\n",
    "using Gridap.Arrays, Gridap.FESpaces\n",
    "\n",
    "cell_dofs_values = get_cell_dof_values(uh)\n",
    "u = get_trial_fe_basis(V)\n",
    "v = get_fe_basis(V)\n",
    "K_e = get_array(∫((σ ∘ ε₀(u)) ⊙ ε₀(v)) * dΩ)\n",
    "# ==\n",
    "\n",
    "a1 = ∫((σ ∘ ε₀(u)) ⊙ ε₀(v)) * dΩ\n",
    "KK = a1[Ω]\n",
    "KK[1] .- K_e[1]\n",
    "assem = SparseMatrixAssembler(V,V)\n",
    "# Allocation global parametric stiffness\n",
    "cell_dofs = get_cell_dof_ids(V)\n",
    "data = ([KK],[cell_dofs],[cell_dofs])\n",
    "KK_Global = allocate_matrix(assem,data)\n",
    "# =========\n",
    "numele = num_cells(Ω) # Number of elements\n",
    "C4 = 0.0 # Comliance\n",
    "for e=1:numele\n",
    "    ue = cell_dofs_values[e]    # element displacement\n",
    "    # ke = KK[e] # element stiffness matrix\n",
    "    ke = K_e[e] # element stiffness matrix\n",
    "    C4 = C4 + transpose(ue)*ke*ue\n",
    "end\n",
    "println(\"Compliance 4: \", C4)\n"
   ]
  },
  {
   "cell_type": "code",
   "execution_count": 11,
   "id": "441a1f0a",
   "metadata": {},
   "outputs": [
    {
     "data": {
      "text/plain": [
       "SingleFieldFEBasis():\n",
       " num_cells: 2000\n",
       " DomainStyle: ReferenceDomain()\n",
       " Triangulation: BodyFittedTriangulation()\n",
       " Triangulation id: 12595192635354261362"
      ]
     },
     "metadata": {},
     "output_type": "display_data"
    }
   ],
   "source": [
    "u = get_trial_fe_basis(V)\n",
    "u"
   ]
  },
  {
   "cell_type": "code",
   "execution_count": 8,
   "id": "d28a1856",
   "metadata": {},
   "outputs": [
    {
     "data": {
      "text/plain": [
       "SingleFieldFEFunction():\n",
       " num_cells: 40000\n",
       " DomainStyle: ReferenceDomain()\n",
       " Triangulation: BodyFittedTriangulation()\n",
       " Triangulation id: 648537071230102027"
      ]
     },
     "metadata": {},
     "output_type": "display_data"
    }
   ],
   "source": [
    "using Gridap\n",
    "L = 100 # Length\n",
    "W = 20 # Width and Height\n",
    "domain = (0, L, 0, W, 0, W) # sizes along X, Y, Z\n",
    "partition = (100, 20, 20) # mesh sizes\n",
    "model = CartesianDiscreteModel(domain, partition)\n",
    "# Tag the left face (x = 0); right face (x = L)\n",
    "labels = get_face_labeling(model)\n",
    "add_tag_from_tags!(labels,\"left\", [1,3,5,7,13,15,17,19,25]) # left face: corners (1,3,5,7); edges (13,15,17,19); others (25) \n",
    "add_tag_from_tags!(labels, \"right\", [2,4,6,8,14,16,18,20,26]) # Right face: corners (2,4,6,8); edges (14,16,18,20); others (26) \n",
    "# Integrating on the domain Ω\n",
    "degree = 2\n",
    "Ω = Triangulation(model)\n",
    "dΩ = Measure(Ω,degree)\n",
    "# neumann boundaries\n",
    "Γ = BoundaryTriangulation(model,tags = \"right\")\n",
    "dΓ = Measure(Γ,degree)\n",
    "# Vector-valued FE space\n",
    "order = 1\n",
    "reffe = ReferenceFE(lagrangian, VectorValue{3,Float64}, order)\n",
    "Vₕ = TestFESpace(Ω, reffe; conformity=:H1, dirichlet_tags = \"left\")\n",
    "Uₕ = TrialFESpace(Vₕ)\n",
    "# Constitutive law for LINEAR ELASTICITY \n",
    "const E = 119e3 # Young's modulus\n",
    "const ν = 0.3   # Poisson's ratio\n",
    "const λ = (E*ν)/((1+ν)*(1-2*ν)) # Lamé parameters\n",
    "const μ = E/(2*(1+ν)) # Lamé parameters\n",
    "ε₀(u) = 0.5 * ( ∇(u) + transpose(∇(u))) # Strain; In Gridap this can be automatically defined in Gridap.ε\n",
    "σ(ε₀) = λ * tr(ε₀) * one(ε₀) + 2μ * ε₀ # Stress\n",
    "# The weak form\n",
    "F(x) = VectorValue(0.0, -1, 0.0) # I want to apply a unit load along Y axis to each node on the right face\n",
    "a(u,v) = ∫((σ∘ε₀(u)) ⊙ ε₀(v)) *dΩ # Left-hand size; (∘) Composite functions\n",
    "l(v) = ∫(F ⋅ v) * dΓ # Right-hand size\n",
    "# Solution of the FE problem\n",
    "op = AffineFEOperator(a,l,Uₕ,Vₕ)\n",
    "uh = solve(op)\n",
    "# Export the displacement, strain, stress\n",
    "\n"
   ]
  },
  {
   "cell_type": "code",
   "execution_count": 9,
   "id": "e288c4ce",
   "metadata": {},
   "outputs": [
    {
     "data": {
      "text/plain": [
       "1-element Vector{TensorValue{3, 3, Float64, 9}}:\n",
       " TensorValue{3, 3, Float64, 9}(-0.25, -0.25, -0.25, 0.0, 0.0, 0.0, 0.0, 0.0, 0.0)"
      ]
     },
     "metadata": {},
     "output_type": "display_data"
    }
   ],
   "source": [
    "Qₕ = CellQuadrature(Ω,4*order)\n",
    "Qₕ_cell_point = get_cell_points(Qₕ)\n",
    "Qₕ_cell_data = get_data(Qₕ)\n",
    "dv = get_fe_basis(Vₕ)\n",
    "du = get_trial_fe_basis(Uₕ)\n",
    "grad_dv = ∇(dv)\n",
    "grad_dv_array = get_data(grad_dv)\n",
    "using Gridap.Fields\n",
    "\n",
    "aa=evaluate(grad_dv,Fields.Point{3,Float64}[(0.5, 0.5, 0.5)])\n"
   ]
  }
 ],
 "metadata": {
  "kernelspec": {
   "display_name": "Julia 1.10.4",
   "language": "julia",
   "name": "julia-1.10"
  },
  "language_info": {
   "file_extension": ".jl",
   "mimetype": "application/julia",
   "name": "julia",
   "version": "1.10.4"
  }
 },
 "nbformat": 4,
 "nbformat_minor": 5
}
