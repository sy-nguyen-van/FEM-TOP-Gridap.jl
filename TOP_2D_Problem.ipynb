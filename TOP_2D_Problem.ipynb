{
 "cells": [
  {
   "cell_type": "markdown",
   "id": "bdf6cfaf",
   "metadata": {},
   "source": [
    "# Topology optimization of 2D cantilever beam using SIMP method #"
   ]
  },
  {
   "cell_type": "code",
   "execution_count": null,
   "id": "5af4ef94",
   "metadata": {},
   "outputs": [],
   "source": [
    "using Gridap, Gridap.CellData, SparseArrays\n",
    "using NearestNeighbors, Printf  # make sure this is at the top of your file\n",
    "using Makie,GLMakie, LaTeXStrings, Makie.GeometryBasics"
   ]
  },
  {
   "cell_type": "code",
   "execution_count": 19,
   "id": "c6734684",
   "metadata": {},
   "outputs": [
    {
     "data": {
      "text/plain": [
       "SIMP_Inter (generic function with 1 method)"
      ]
     },
     "metadata": {},
     "output_type": "display_data"
    }
   ],
   "source": [
    "include(\"plot_design.jl\")\n",
    "include(\"OC.jl\")\n",
    "include(\"SIMP_Inter.jl\")"
   ]
  },
  {
   "cell_type": "markdown",
   "id": "9c2120e9",
   "metadata": {},
   "source": [
    "## Inputs"
   ]
  },
  {
   "cell_type": "code",
   "execution_count": 20,
   "id": "4f76a4d7",
   "metadata": {},
   "outputs": [
    {
     "data": {
      "text/plain": [
       "σ (generic function with 1 method)"
      ]
     },
     "metadata": {},
     "output_type": "display_data"
    }
   ],
   "source": [
    "# ==============================================\n",
    "L = 60 # Length\n",
    "W = 20 # Height\n",
    "domain = (0, L, 0, W) # sizes along X, Y\n",
    "partition = (L*2, W*2) # mesh sizes\n",
    "model = CartesianDiscreteModel(domain, partition)\n",
    "# writevtk(model, \"Cantilever_Beam_2D\")\n",
    "# Tag the left face (x = 0); right face (x = L)\n",
    "labels = get_face_labeling(model)\n",
    "add_tag_from_tags!(labels, \"left\", [1, 3, 7]) # \n",
    "add_tag_from_tags!(labels, \"right\", [2, 4, 8]) # \n",
    "# Integrating on the domain Ω\n",
    "degree = 2\n",
    "Ω = Triangulation(model)\n",
    "dΩ = Measure(Ω, degree)\n",
    "# neumann boundaries\n",
    "Γ = BoundaryTriangulation(model, tags=\"right\")\n",
    "dΓ = Measure(Γ, degree)\n",
    "# Vector-valued FE space\n",
    "order = 1\n",
    "reffe = ReferenceFE(lagrangian, VectorValue{2,Float64}, order)\n",
    "Vₕ = TestFESpace(Ω, reffe; conformity=:H1, dirichlet_tags=\"left\")\n",
    "Uₕ = TrialFESpace(Vₕ)\n",
    "# Constitutive law for LINEAR ELASTICITY \n",
    "const E = 119e3 # Young's modulus\n",
    "const ν = 0.3   # Poisson's ratio\n",
    "const λ = (E * ν) / ((1 + ν) * (1 - 2 * ν)) # Lamé parameters\n",
    "const μ = E / (2 * (1 + ν)) # Lamé parameters\n",
    "ε₀(u) = 0.5 * (∇(u) + transpose(∇(u))) # Strain; In Gridap this can be automatically defined in Gridap.ε\n",
    "σ(ε₀) = λ * tr(ε₀) * one(ε₀) + 2μ * ε₀ # Stress\n"
   ]
  },
  {
   "cell_type": "markdown",
   "id": "ae9426b3",
   "metadata": {},
   "source": [
    "## Filters"
   ]
  },
  {
   "cell_type": "code",
   "execution_count": 21,
   "id": "05fff696",
   "metadata": {},
   "outputs": [],
   "source": [
    "\n",
    "num_ele = num_cells(Ω) # Number of elements\n",
    "volfrac = 0.4\n",
    "p = 3\n",
    "max_iter = 50\n",
    "# Compute centroids of elements and store in a matrix\n",
    "cell_coords = get_cell_coordinates(Ω) # Get coordinates of vertices for each cell\n",
    "no_ele = length(cell_coords) # Number of elements\n",
    "centroid_matrix = zeros(2, no_ele) # Matrix to store centroids (no_ele × 2)\n",
    "\n",
    "for (cell_id, coords) in enumerate(cell_coords)\n",
    "    # Compute centroid by averaging vertex coordinates\n",
    "    centroid = sum(coords) / length(coords)\n",
    "    centroid_matrix[:, cell_id] = [centroid[1], centroid[2]] # Store x, y coordinates\n",
    "end\n",
    "\n",
    "# Number of neighbors for each element\n",
    "filter_radius = 2\n",
    "tol = 1e-3\n",
    "search_dist = filter_radius - tol\n",
    "balltree = BallTree(centroid_matrix)\n",
    "OPT_H = zeros(num_ele, num_ele)\n",
    "for iel in 1:num_ele\n",
    "    near_ele = inrange(balltree, centroid_matrix[:, iel], search_dist)\n",
    "    dist = sqrt.(sum((centroid_matrix[:, near_ele] .- centroid_matrix[:, iel]) .^ 2, dims=1))\n",
    "    num = 1 .- dist ./ filter_radius\n",
    "    den = sum(num)\n",
    "    OPT_H[iel, near_ele] = num / den\n",
    "end\n",
    "H = sparse(OPT_H);"
   ]
  },
  {
   "cell_type": "markdown",
   "id": "e5ded971",
   "metadata": {},
   "source": [
    "## Run topology optimization"
   ]
  },
  {
   "cell_type": "code",
   "execution_count": null,
   "id": "7e6ddf42",
   "metadata": {},
   "outputs": [
    {
     "name": "stdout",
     "output_type": "stream",
     "text": [
      "It. 1, Obj = 2.85971e+00, Vol.: 3.99111e-01, ch.: 2.00000e-01\n",
      "It. 2, Obj = 2.81498e+00, Vol.: 3.98604e-01, ch.: 2.00000e-01\n",
      "It. 3, Obj = 2.07860e+00, Vol.: 3.98868e-01, ch.: 2.00000e-01\n",
      "It. 4, Obj = 1.81223e+00, Vol.: 3.94438e-01, ch.: 2.00000e-01\n",
      "It. 5, Obj = 1.77706e+00, Vol.: 3.96162e-01, ch.: 1.53924e-01\n",
      "It. 6, Obj = 1.69991e+00, Vol.: 3.99636e-01, ch.: 2.00000e-01\n",
      "It. 7, Obj = 1.61728e+00, Vol.: 4.05582e-01, ch.: 1.61862e-01\n",
      "It. 8, Obj = 1.51750e+00, Vol.: 3.94681e-01, ch.: 1.67441e-01\n",
      "It. 9, Obj = 1.57371e+00, Vol.: 3.97803e-01, ch.: 1.84900e-01\n",
      "It. 10, Obj = 1.49022e+00, Vol.: 3.98835e-01, ch.: 2.00000e-01\n",
      "It. 11, Obj = 1.42476e+00, Vol.: 4.06180e-01, ch.: 2.00000e-01\n",
      "It. 12, Obj = 1.31420e+00, Vol.: 4.07061e-01, ch.: 2.00000e-01\n",
      "It. 13, Obj = 1.25996e+00, Vol.: 4.01453e-01, ch.: 1.85996e-01\n",
      "It. 14, Obj = 1.25609e+00, Vol.: 3.96870e-01, ch.: 1.77233e-01\n",
      "It. 15, Obj = 1.25219e+00, Vol.: 3.95256e-01, ch.: 1.72834e-01\n",
      "It. 16, Obj = 1.23316e+00, Vol.: 4.05438e-01, ch.: 1.84131e-01\n",
      "It. 17, Obj = 1.14687e+00, Vol.: 3.96181e-01, ch.: 1.30955e-01\n",
      "It. 18, Obj = 1.17541e+00, Vol.: 3.99380e-01, ch.: 1.23790e-01\n",
      "It. 19, Obj = 1.13300e+00, Vol.: 4.05831e-01, ch.: 1.91767e-01\n",
      "It. 20, Obj = 1.07533e+00, Vol.: 3.99082e-01, ch.: 2.00000e-01\n",
      "It. 21, Obj = 1.08098e+00, Vol.: 3.98549e-01, ch.: 1.61151e-01\n",
      "It. 22, Obj = 1.05798e+00, Vol.: 4.06891e-01, ch.: 1.75305e-01\n",
      "It. 23, Obj = 1.00404e+00, Vol.: 4.00643e-01, ch.: 1.90539e-01\n",
      "It. 24, Obj = 1.01418e+00, Vol.: 4.02749e-01, ch.: 2.00000e-01\n",
      "It. 25, Obj = 9.95566e-01, Vol.: 4.00059e-01, ch.: 1.44571e-01\n",
      "It. 26, Obj = 9.98552e-01, Vol.: 4.00331e-01, ch.: 1.03517e-01\n",
      "It. 27, Obj = 9.91821e-01, Vol.: 3.99413e-01, ch.: 1.20404e-01\n",
      "It. 28, Obj = 9.90944e-01, Vol.: 3.99195e-01, ch.: 1.46830e-01\n",
      "It. 29, Obj = 9.88125e-01, Vol.: 3.98876e-01, ch.: 1.78310e-01\n",
      "It. 30, Obj = 9.86321e-01, Vol.: 3.98744e-01, ch.: 1.68635e-01\n",
      "It. 31, Obj = 9.84375e-01, Vol.: 3.98761e-01, ch.: 2.00000e-01\n",
      "It. 32, Obj = 9.82174e-01, Vol.: 3.98856e-01, ch.: 6.35766e-02\n",
      "It. 33, Obj = 9.80030e-01, Vol.: 3.98992e-01, ch.: 6.55169e-02\n",
      "It. 34, Obj = 9.77958e-01, Vol.: 3.99081e-01, ch.: 6.88743e-02\n",
      "It. 35, Obj = 9.76257e-01, Vol.: 3.99185e-01, ch.: 7.14577e-02\n",
      "It. 36, Obj = 9.74637e-01, Vol.: 3.99366e-01, ch.: 6.60724e-02\n",
      "It. 37, Obj = 9.72813e-01, Vol.: 3.99587e-01, ch.: 6.73558e-02\n",
      "It. 38, Obj = 9.70900e-01, Vol.: 3.99884e-01, ch.: 6.79349e-02\n",
      "It. 39, Obj = 9.68731e-01, Vol.: 4.00201e-01, ch.: 7.27967e-02\n",
      "It. 40, Obj = 9.66540e-01, Vol.: 4.00531e-01, ch.: 8.76533e-02\n",
      "It. 41, Obj = 9.64347e-01, Vol.: 4.00854e-01, ch.: 1.04963e-01\n",
      "It. 42, Obj = 9.62241e-01, Vol.: 4.01194e-01, ch.: 1.24787e-01\n",
      "It. 43, Obj = 9.60118e-01, Vol.: 4.01549e-01, ch.: 1.47219e-01\n",
      "It. 44, Obj = 9.57981e-01, Vol.: 4.01879e-01, ch.: 1.09893e-01\n",
      "It. 45, Obj = 9.56035e-01, Vol.: 4.02163e-01, ch.: 7.10368e-02\n",
      "It. 46, Obj = 9.54421e-01, Vol.: 4.02396e-01, ch.: 5.80806e-02\n",
      "It. 47, Obj = 9.53092e-01, Vol.: 3.95334e-01, ch.: 1.02179e-01\n",
      "It. 48, Obj = 9.84916e-01, Vol.: 4.00985e-01, ch.: 1.41206e-01\n",
      "It. 49, Obj = 9.58390e-01, Vol.: 4.01320e-01, ch.: 4.94004e-02\n",
      "It. 50, Obj = 9.56729e-01, Vol.: 4.01530e-01, ch.: 4.51475e-02\n"
     ]
    }
   ],
   "source": [
    "\n",
    "for iter = 1:max_iter\n",
    "    if iter == 1\n",
    "        ρ_new = 0.5 * ones(num_ele)\n",
    "    end\n",
    "    ρ_old = copy(ρ_new)\n",
    "    ρ_new_fil = H * ρ_new # Filter\n",
    "    # SIMP\n",
    "    ρ_SIMP, dρ_dp = SIMP_Inter(ρ_new_fil, p, Ω)\n",
    "    # ===FE-ANALYSIS\n",
    "    F(x) = VectorValue(0.0, -1) # I want to apply a unit load along Y axis to each node on the right face\n",
    "    l(v) = ∫(F ⋅ v) * dΓ # Right-hand size\n",
    "    a(u, v) = ∫(ρ_SIMP * (σ ∘ ε₀(u)) ⊙ ε₀(v)) * dΩ # Left-hand size; (∘) Composite functions\n",
    "\n",
    "    # Solution of the FE problem\n",
    "    op = AffineFEOperator(a, l, Uₕ, Vₕ)\n",
    "    uh = solve(op)\n",
    "    C = sum(∫(ρ_SIMP * (σ ∘ ε₀(uh)) ⊙ ε₀(uh)) * dΩ) # Compliance\n",
    "    dC_fil = get_contribution(∫(-dρ_dp * (σ ∘ ε₀(uh)) ⊙ ε₀(uh)) * dΩ, Ω) # Sensitivity of compliance w.r.t rho\n",
    "    dC = transpose(H) * (dC_fil[:])\n",
    "\n",
    "    ρ_new = OC(ρ_new, volfrac, dC, num_ele)\n",
    "    change_obj = maximum(abs.(ρ_new .- ρ_old))\n",
    "    figs = plot_design(ρ_new, cell_coords, iter, L, W)\n",
    "\n",
    "    display(figs)\n",
    "\n",
    "    if iter % 10 == 0\n",
    "        println(\"It. \", iter, \", Obj = \", @sprintf(\"%.5e\", C), \", Vol.: \", @sprintf(\"%.5e\", sum(ρ_new) / num_ele), \", ch.: \", @sprintf(\"%.5e\", change_obj))\n",
    "    end\n",
    "\n",
    "    if iter == max_iter\n",
    "        writevtk(Ω, \"Cantilever_Beam_2D_TOP\", cellfields = [\"rho\" => ρ_SIMP])\n",
    "    end\n",
    "\n",
    "end"
   ]
  },
  {
   "cell_type": "code",
   "execution_count": 23,
   "id": "9b929356",
   "metadata": {},
   "outputs": [],
   "source": []
  }
 ],
 "metadata": {
  "kernelspec": {
   "display_name": "Julia 1.10.4",
   "language": "julia",
   "name": "julia-1.10"
  },
  "language_info": {
   "file_extension": ".jl",
   "mimetype": "application/julia",
   "name": "julia",
   "version": "1.10.4"
  }
 },
 "nbformat": 4,
 "nbformat_minor": 5
}
