{
 "cells": [
  {
   "cell_type": "markdown",
   "id": "bdf6cfaf",
   "metadata": {},
   "source": [
    "## Linear Elasticity for Cantilever Beam"
   ]
  },
  {
   "cell_type": "code",
   "execution_count": null,
   "id": "5af4ef94",
   "metadata": {},
   "outputs": [],
   "source": [
    "using Gridap, Gridap.CellData, SparseArrays\n",
    "using NearestNeighbors, Printf  # make sure this is at the top of your file\n",
    "using Makie,GLMakie, LaTeXStrings, Makie.GeometryBasics"
   ]
  },
  {
   "cell_type": "markdown",
   "id": "e83be394",
   "metadata": {},
   "source": [
    "## 1. Problem\n",
    "### Let's consider the 3D cantilever beam as follows:\n",
    "<img src=\"imagines/3D_Cantilever.png\" style=\"width:400px;height:250px\"/>"
   ]
  },
  {
   "cell_type": "markdown",
   "id": "77c9588f",
   "metadata": {},
   "source": [
    "The dimensions of beam are $L$ and $W$. \n",
    "\n",
    "This beam is fixed at $x=0$ and is applied a uniformly distributed load at $x=L$. The magnitude of the distributed load is $\\mathbf{F} = [0, -1, 0]^T$. "
   ]
  },
  {
   "cell_type": "markdown",
   "id": "808c9209",
   "metadata": {},
   "source": [
    "## Strong Form\n",
    "\n",
    "**Equilibrium equation:**\n",
    "$$\n",
    "\\nabla \\cdot \\boldsymbol{\\sigma} + \\mathbf{b} = \\mathbf{0} \\text{ in } \\Omega,\n",
    "$$\n",
    "\n",
    "**Kinematics equation (strain–displacement relation):**\n",
    "$$\n",
    "\\boldsymbol{\\varepsilon} = \\nabla_S \\mathbf{u} = \\frac{1}{2} \\Big[ \\nabla \\mathbf{u} + (\\nabla \\mathbf{u})^T \\Big].\n",
    "$$\n",
    "\n",
    "**Constitutive equation (stress–strain relation):**\n",
    "$$\n",
    "\\boldsymbol{\\sigma} = \\mathbf{C} \\boldsymbol{\\varepsilon} \n",
    "\\quad \\text{or} \\quad \n",
    "\\boldsymbol{\\sigma} = \\lambda \\, \\text{tr}(\\boldsymbol{\\varepsilon})\\, \\mathbf{I} + 2\\mu\\, \\boldsymbol{\\varepsilon}.\n",
    "$$\n",
    "\n",
    "At the face with $x=L$ which is a boundary condition denoted by $\\Gamma$, we have:\n",
    "\n",
    "$$\n",
    "\\boldsymbol{\\sigma} \\cdot \\mathbf{n} = \\mathbf{F} = \\begin{bmatrix}\n",
    "0 & -1 & 0\n",
    "\\end{bmatrix}^T\n",
    " \\text{ on } \\Gamma,\n",
    "$$\n",
    "\n",
    "where $\\boldsymbol{\\sigma}$ is the stress tensor, $\\mathbf{b}$ is the body force, $\\mathbf{F}$ is the applied traction, and $\\mathbf{n}$ is the outward unit normal.\n"
   ]
  },
  {
   "cell_type": "markdown",
   "id": "dab67038",
   "metadata": {},
   "source": [
    "## Derivation of the Weak Form from the Strong Form\n",
    "\n",
    "### Step 1: Multiply by a Test Function\n",
    "To derive the weak form, multiply the strong form by a test function $\\mathbf{v} \\in H^1(\\Omega)$ (with $\\mathbf{v} = \\mathbf{0}$ on Dirichlet boundaries) and integrate over the domain $\\Omega$:\n",
    "\n",
    "$$\n",
    "\\int_{\\Omega} (\\nabla \\cdot \\boldsymbol{\\sigma}) \\cdot \\mathbf{v} \\, d\\Omega = -\\int_{\\Omega} \\mathbf{b} \\cdot \\mathbf{v} \\, d\\Omega.\n",
    "$$\n",
    "In this example, we assume that $\\mathbf{b} = \\mathbf{0}$, the we have:\n",
    "\n",
    "$$\n",
    "\\int_{\\Omega} (\\nabla \\cdot \\boldsymbol{\\sigma}) \\cdot \\mathbf{v} \\, d\\Omega = 0.\n",
    "$$"
   ]
  },
  {
   "cell_type": "markdown",
   "id": "e005f994",
   "metadata": {},
   "source": [
    "\n",
    "### Step 2: Apply the Divergence Theorem\n",
    "We have the equivalent form of $(\\nabla \\cdot \\boldsymbol{\\sigma}) \\cdot \\mathbf{v} $ as follows:\n",
    "\n",
    "$$\n",
    "(\\nabla \\cdot \\boldsymbol{\\sigma}) \\cdot \\mathbf{v} = \\nabla \\cdot (\\boldsymbol{\\sigma} \\cdot \\mathbf{v}) - \\boldsymbol{\\sigma} : \\nabla \\mathbf{v}.\n",
    "$$\n",
    "Then we have,\n",
    "$$\n",
    "\\int_{\\Omega} (\\nabla_S^T \\boldsymbol{\\sigma}) \\cdot \\mathbf{v} \\, d\\Omega = \\int_{\\Omega} \\left[ \\nabla \\cdot (\\boldsymbol{\\sigma} \\cdot \\mathbf{v}) - \\boldsymbol{\\sigma} : \\nabla \\mathbf{v} \\right] \\, d\\Omega.\n",
    "$$\n",
    "\n",
    "Note that $\\{\\cdot\\}$ is the dot product and $\\{:\\}$ is the inner product.\n",
    "\n",
    "Apply the divergence theorem to $ \\int_{\\Omega} \\nabla \\cdot (\\boldsymbol{\\sigma} \\cdot \\mathbf{v}) \\, d\\Omega$:\n",
    "\n",
    "$$\n",
    "\\int_{\\Omega} \\nabla \\cdot (\\boldsymbol{\\sigma} \\cdot \\mathbf{v}) \\, d\\Omega = \\int_{\\partial \\Omega} (\\boldsymbol{\\sigma} \\cdot \\mathbf{v}) \\cdot \\mathbf{n} \\, d\\Gamma = \\int_{\\partial \\Omega} (\\boldsymbol{\\sigma} \\cdot \\mathbf{n}) \\cdot \\mathbf{v} \\, d\\Gamma.\n",
    "$$\n",
    "\n",
    "Because, we set the boundary condition $\\boldsymbol{\\sigma} \\cdot \\mathbf{n} = \\mathbf{F}$ on $\\Gamma$, then we have:\n",
    "\n",
    "$$\n",
    "\\int_{\\partial \\Omega} (\\boldsymbol{\\sigma} \\cdot \\mathbf{n}) \\cdot \\mathbf{v} \\, d\\Gamma = \\int_{\\Gamma} \\mathbf{F} \\cdot \\mathbf{v} \\, d\\Gamma.\n",
    "$$\n",
    "\n",
    "Thus:\n",
    "\n",
    "$$\n",
    "\\int_{\\Omega} (\\nabla_S^T \\boldsymbol{\\sigma}) \\cdot \\mathbf{v} \\, d\\Omega = \\int_{\\Gamma} \\mathbf{F} \\cdot \\mathbf{v} \\, d\\Gamma - \\int_{\\Omega} \\boldsymbol{\\sigma} : \\nabla \\mathbf{v} \\, d\\Omega = 0.\n",
    "$$\n"
   ]
  },
  {
   "cell_type": "markdown",
   "id": "a3787de3",
   "metadata": {},
   "source": [
    "#### Important notes\n",
    "It should be noted that the very crucial step here is applying \"DIVERGENCE THEOREM\" to remove Gradient of Stress Tensor, there by reducing thef order of the partial differential equation. Readers interested in a deeper understanding are encourged to read Chapter 6 of the book: \"Fish, Jacob, and Ted Belytschko. A first course in finite elements. Vol. 1. New York: Wiley, 2007.\". Here is a screenshot of the \"DIVERGENCE THEOREM\" from Chapter 6 of that book.\n",
    "\n",
    "<img src=\"imagines/divergence_theorem.png\" />"
   ]
  },
  {
   "cell_type": "markdown",
   "id": "b7c19832",
   "metadata": {},
   "source": [
    "\n",
    "### Step 3: Relation between Stress and Strain\n",
    "The stress $\\boldsymbol{\\sigma}$ depends on the strain $\\boldsymbol{\\varepsilon}(\\mathbf{u})$, where the strain tensor is:\n",
    "\n",
    "$$\n",
    "\\boldsymbol{\\varepsilon}(\\mathbf{u}) = \\frac{1}{2} \\left( \\nabla \\mathbf{u} + (\\nabla \\mathbf{u})^T \\right).\n",
    "$$\n",
    "\n",
    "Similarly, for the test function:\n",
    "\n",
    "$$\n",
    "\\boldsymbol{\\varepsilon}(\\mathbf{v}) = \\frac{1}{2} \\left( \\nabla \\mathbf{v} + (\\nabla \\mathbf{v})^T \\right).\n",
    "$$\n",
    "\n",
    "$$\n",
    "\\nabla \\mathbf{v} = \\boldsymbol{\\varepsilon}(\\mathbf{v}) + \\frac{1}{2} \\left( \\nabla \\mathbf{v} - (\\nabla \\mathbf{v})^T \\right).\n",
    "$$\n",
    "\n",
    "$$\\nabla \\mathbf{v} = \\boldsymbol{\\varepsilon}(\\mathbf{v}) + \\boldsymbol{\\omega}(\\mathbf{v})$$\n",
    "\n",
    "where $\\boldsymbol{\\omega}(\\mathbf{v}) = \\frac{1}{2} \\left( \\nabla \\mathbf{v} - (\\nabla \\mathbf{v})^T \\right)$, then we have:\n",
    "\n",
    "$$\n",
    "\\boldsymbol{\\sigma} : \\nabla \\mathbf{v} = \\boldsymbol{\\sigma} : \\boldsymbol{\\varepsilon}(\\mathbf{v}) + \\boldsymbol{\\sigma} : \\boldsymbol{\\omega}(\\mathbf{v}),\n",
    "$$\n",
    "because $\\boldsymbol{\\omega}(\\mathbf{v}) $ is skew-symmetric and $\\boldsymbol{\\sigma}$ is symmetric, then $\\boldsymbol{\\sigma} : \\boldsymbol{\\omega}(\\mathbf{v}) = 0$ (you can verify by yoursefl). Thus:\n",
    "\n",
    "$$\n",
    "\\int_{\\Omega} \\boldsymbol{\\sigma} : \\nabla \\mathbf{v} \\, d\\Omega = \\int_{\\Omega} \\boldsymbol{\\sigma} : \\boldsymbol{\\varepsilon}(\\mathbf{v}) \\, d\\Omega.\n",
    "$$\n"
   ]
  },
  {
   "cell_type": "markdown",
   "id": "158e0964",
   "metadata": {},
   "source": [
    "#### Julia code to verify that: $\\mathbf{A} : \\mathbf{B} = \\text{tr}\\left( \\mathbf{A}^T \\mathbf{B} \\right)=0$. Where $\\mathbf{A}$ is symmetric and $\\mathbf{B}$ is  skew-symmetric."
   ]
  },
  {
   "cell_type": "code",
   "execution_count": null,
   "id": "1b8d4362",
   "metadata": {},
   "outputs": [],
   "source": [
    "using LinearAlgebra\n",
    "# Define the parameters\n",
    "a1 = 1;b1 = 2;c1 = 3;d1 = 4;e1 = 5;f1 = 6;\n",
    "# Build the symmetric matrix\n",
    "A = [a1 d1 e1;\n",
    "      d1 b1 f1;\n",
    "      e1 f1 c1]\n",
    "# Build the skew-symmetric matrix\n",
    "B = [0 -a1 -b1;\n",
    "      a1 0 -c1;\n",
    "      b1 c1 0]\n",
    "# Compute sum of dot product of B' and A\n",
    "inner_product = tr(transpose(A) * B)\n",
    "println(inner_product)"
   ]
  },
  {
   "cell_type": "markdown",
   "id": "ea36e6a5",
   "metadata": {},
   "source": [
    "\n",
    "### Step 4: Formulate the Weak Form\n",
    "Now, we have the weak form as follows:\n",
    "$$\n",
    "\\int_{\\Omega} \\boldsymbol{\\sigma}(\\boldsymbol{\\varepsilon}(\\mathbf{u})) : \\boldsymbol{\\varepsilon}(\\mathbf{v}) \\, d\\Omega = \\int_{\\Gamma} \\mathbf{F} \\cdot \\mathbf{v} \\, d\\Gamma.\n",
    "$$"
   ]
  },
  {
   "cell_type": "markdown",
   "id": "5b788af1",
   "metadata": {},
   "source": [
    "\n",
    "### Final Weak Form to be used in Gridap.jl\n",
    "Then, before using Gridap.jl, we define the bilinear form. Find $\\mathbf{u}$ such that for all test functions $\\mathbf{v}$:\n",
    "\n",
    "$$\n",
    "a(\\mathbf{u}, \\mathbf{v}) = l(\\mathbf{v}),\n",
    "$$\n",
    "\n",
    "where:\n",
    "\n",
    "$$\n",
    "a(\\mathbf{u}, \\mathbf{v}) = \\int_{\\Omega} \\big[ \\boldsymbol{\\sigma}(\\boldsymbol{\\varepsilon}(\\mathbf{u})) : \\boldsymbol{\\varepsilon}(\\mathbf{v}) \\big] \\, d\\Omega,\n",
    "\\quad\n",
    "l(\\mathbf{v}) = \\int_{\\Gamma} \\mathbf{F} \\cdot \\mathbf{v} \\, d\\Gamma.\n",
    "$$"
   ]
  },
  {
   "cell_type": "markdown",
   "id": "9c2120e9",
   "metadata": {},
   "source": [
    "## Inputs"
   ]
  },
  {
   "cell_type": "code",
   "execution_count": null,
   "id": "4f76a4d7",
   "metadata": {},
   "outputs": [],
   "source": [
    "L = 50 # Length\n",
    "W = 10 # Width and Height\n",
    "domain = (0, L, 0, W, 0, W) # sizes along X, Y, Z\n",
    "partition = (50, 10, 10) # mesh sizes\n"
   ]
  },
  {
   "cell_type": "markdown",
   "id": "1631c20f",
   "metadata": {},
   "source": [
    "### Add labels to left and right faces for boundary conditions"
   ]
  },
  {
   "cell_type": "code",
   "execution_count": null,
   "id": "23042dba",
   "metadata": {},
   "outputs": [],
   "source": [
    "model = CartesianDiscreteModel(domain, partition);\n",
    "# Tag the left face (x = 0); right face (x = L)\n",
    "labels = get_face_labeling(model)\n",
    "add_tag_from_tags!(labels,\"left\", [1,3,5,7,13,15,17,19,25]); # left face: corners (1,3,5,7); edges (13,15,17,19); others (25) \n",
    "add_tag_from_tags!(labels, \"right\", [2,4,6,8,14,16,18,20,26]); # Right face: corners (2,4,6,8); edges (14,16,18,20); others (26) \n",
    "# writevtk(Ω,\"Cantilever_Beam_3D\")"
   ]
  },
  {
   "cell_type": "markdown",
   "id": "57d3da5b",
   "metadata": {},
   "source": [
    "### Construct weak form in Gridap.jl"
   ]
  },
  {
   "cell_type": "code",
   "execution_count": null,
   "id": "cda3eae2",
   "metadata": {},
   "outputs": [],
   "source": [
    "# Integrating on the domain Ω\n",
    "degree = 2\n",
    "Ω = Triangulation(model)\n",
    "dΩ = Measure(Ω,degree)\n",
    "# neumann boundaries\n",
    "Γ = BoundaryTriangulation(model,tags = \"right\")\n",
    "dΓ = Measure(Γ,degree)\n",
    "# Vector-valued FE space\n",
    "order = 1\n",
    "reffe = ReferenceFE(lagrangian, VectorValue{3,Float64}, order)\n",
    "Vₕ = TestFESpace(Ω, reffe; conformity=:H1, dirichlet_tags = \"left\")\n",
    "Uₕ = TrialFESpace(Vₕ)\n",
    "# Constitutive law for LINEAR ELASTICITY \n",
    "const E = 119e3 # Young's modulus\n",
    "const ν = 0.3   # Poisson's ratio\n",
    "const λ = (E*ν)/((1+ν)*(1-2*ν)) # Lamé parameters\n",
    "const μ = E/(2*(1+ν)) # Lamé parameters\n",
    "ε₀(u) = 0.5 * ( ∇(u) + transpose(∇(u))) # Strain; In Gridap this can be automatically defined in Gridap.ε\n",
    "σ(ε₀) = λ * tr(ε₀) * one(ε₀) + 2μ * ε₀; # Stress"
   ]
  },
  {
   "cell_type": "markdown",
   "id": "ae9426b3",
   "metadata": {},
   "source": [
    "## Run finite element analysis"
   ]
  },
  {
   "cell_type": "code",
   "execution_count": null,
   "id": "05fff696",
   "metadata": {},
   "outputs": [],
   "source": [
    "# The weak form\n",
    "F(x) = VectorValue(0.0, -1, 0.0) # A unit load along Y axis applies to each node on the right face\n",
    "a(u,v) = ∫((σ∘ε₀(u)) ⊙ ε₀(v)) *dΩ # Left-hand size; (∘) Composite functions\n",
    "l(v) = ∫(F ⋅ v) * dΓ # Right-hand size\n",
    "# Solution of the FE problem\n",
    "op = AffineFEOperator(a,l,Uₕ,Vₕ)\n",
    "uh = solve(op); # Solve the problem\n",
    "# writevtk(Ω,\"Cantilever_Beam_3D_uh\",cellfields=[\"uh\"=>uh,\"epsi\"=>ε₀(uh),\"sigma\"=>σ∘ε₀(uh)])\n"
   ]
  },
  {
   "cell_type": "markdown",
   "id": "dff049c0",
   "metadata": {},
   "source": [
    "### Compute the compliance"
   ]
  },
  {
   "cell_type": "code",
   "execution_count": null,
   "id": "9ed14e2a",
   "metadata": {},
   "outputs": [],
   "source": [
    "# Method 1\n",
    "C1 = sum(∫((σ ∘ ε₀(uh)) ⊙ ε₀(uh)) * dΩ) # Compliance\n",
    "println(\"Compliance 1: \", C1)\n",
    "# Method 2\n",
    "C2 = sum(∫(F ⋅ uh) * dΓ) # Compliance\n",
    "println(\"Compliance 2: \", C2)\n",
    "# Method 3\n",
    "u = get_free_dof_values(uh) # displacement vector\n",
    "K = get_matrix(op) # stiffness matrix\n",
    "C3 = dot(u, K * u)\n",
    "println(\"Compliance 3: \", C3)"
   ]
  },
  {
   "cell_type": "code",
   "execution_count": null,
   "id": "cff28e7a",
   "metadata": {},
   "outputs": [],
   "source": []
  }
 ],
 "metadata": {
  "kernelspec": {
   "display_name": "Julia 1.10.4",
   "language": "julia",
   "name": "julia-1.10"
  },
  "language_info": {
   "file_extension": ".jl",
   "mimetype": "application/julia",
   "name": "julia",
   "version": "1.10.4"
  }
 },
 "nbformat": 4,
 "nbformat_minor": 5
}
