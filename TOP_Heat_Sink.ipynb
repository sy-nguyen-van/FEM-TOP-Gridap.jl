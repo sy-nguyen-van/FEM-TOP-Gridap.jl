{
 "cells": [
  {
   "cell_type": "markdown",
   "id": "bdf6cfaf",
   "metadata": {},
   "source": [
    "## Heat transfer for heat sink"
   ]
  },
  {
   "cell_type": "code",
   "execution_count": 9,
   "id": "5af4ef94",
   "metadata": {},
   "outputs": [],
   "source": [
    "using Gridap, Gridap.CellData, SparseArrays\n",
    "using NearestNeighbors, Printf  # make sure this is at the top of your file\n",
    "using Makie, GLMakie, LaTeXStrings, Makie.GeometryBasics"
   ]
  },
  {
   "cell_type": "code",
   "execution_count": 10,
   "id": "ff6260ce",
   "metadata": {},
   "outputs": [
    {
     "data": {
      "text/plain": [
       "run_finite_difference_check (generic function with 1 method)"
      ]
     },
     "metadata": {},
     "output_type": "display_data"
    }
   ],
   "source": [
    "push!(LOAD_PATH, \"utilities\")\n",
    "include(\"utilities/plot_design.jl\")\n",
    "include(\"utilities/OC.jl\")\n",
    "include(\"utilities/SIMP_Inter.jl\")\n",
    "include(\"utilities/filters.jl\")\n",
    "push!(LOAD_PATH, \"FD_check\")\n",
    "include(\"FD_check/run_finite_difference_check.jl\")"
   ]
  },
  {
   "cell_type": "markdown",
   "id": "e83be394",
   "metadata": {},
   "source": [
    "## 1. Problem\n",
    "### Let's consider the heat sink as follows:\n",
    "<img src=\"imagines/heat_sink.png\" style=\"width:400px;height:350px\"/>"
   ]
  },
  {
   "cell_type": "markdown",
   "id": "77c9588f",
   "metadata": {},
   "source": [
    "The dimensions of the cubic heat sink are $L \\times L \\times L$ . \n",
    "\n",
    "This sink is under a heat flux ($q_{in}$) at the bottom face with $y=0$. The top face is prescribed a temperature of $T = 0 \\ ^\\circ\\mathrm{C}$\n",
    " load at $y=L$. The body heat sourse is $s$."
   ]
  },
  {
   "cell_type": "markdown",
   "id": "5b788af1",
   "metadata": {},
   "source": [
    "\n",
    "The weak form of this problem is given as follows:\n",
    "\n",
    "Find $\\mathbf{u}$ such that for all test functions $\\mathbf{v}$:\n",
    "\n",
    "$$\n",
    "a(\\mathbf{u}, \\mathbf{v}) = l(\\mathbf{v}),\n",
    "$$\n",
    "\n",
    "where:\n",
    "\n",
    "$$\n",
    "a(u,v) = \\int_{\\Omega} k \\nabla v \\cdot \\nabla u \\, d\\Omega, \n",
    "\\quad \n",
    "l(v) = -\\int_{\\Gamma_q} q_{\\text{in}} v\\, d\\Gamma + \\int_{\\Omega} s v\\, d\\Omega.\n",
    "$$"
   ]
  },
  {
   "cell_type": "markdown",
   "id": "9c2120e9",
   "metadata": {},
   "source": [
    "## 2. Inputs"
   ]
  },
  {
   "cell_type": "code",
   "execution_count": 17,
   "id": "4f76a4d7",
   "metadata": {},
   "outputs": [
    {
     "data": {
      "text/plain": [
       "TrialFESpace()"
      ]
     },
     "metadata": {},
     "output_type": "display_data"
    }
   ],
   "source": [
    "# === Geometry ===\n",
    "L = 20  # Length of heat sink base\n",
    "W = 20  # Width and Height\n",
    "domain = (0, L, 0, W, 0, W)\n",
    "partition = (L*2, W*2, W*2)\n",
    "model = CartesianDiscreteModel(domain, partition)\n",
    "\n",
    "Bottom = [1, 2, 5, 6, 9, 11, 17, 18, 23]\n",
    "Top = [3,4,7,8,10,12,19,20,24]\n",
    "diff_ = setdiff(1:26, Bottom)\n",
    "\n",
    "# === Tags for boundary conditions ===\n",
    "labels = get_face_labeling(model)\n",
    "add_tag_from_tags!(labels, \"bottom\", Bottom) # example indices for corners/edges\n",
    "add_tag_from_tags!(labels, \"top\", Top) # Top\n",
    "# === Tag elements at the center of the left face ===\n",
    "# writevtk(model, \"HeatSink\")\n",
    "# === Integration ===\n",
    "degree = 2\n",
    "Ω = Triangulation(model)\n",
    "dΩ = Measure(Ω, degree)\n",
    "Γ_flux = BoundaryTriangulation(model, tags = \"bottom\")\n",
    "dΓ_flux = Measure(Γ_flux, degree)\n",
    "\n",
    "# === FE space ===\n",
    "order = 1\n",
    "reffe = ReferenceFE(lagrangian, Float64, order)\n",
    "\n",
    "Vₕ = TestFESpace(Ω, reffe; conformity=:H1, dirichlet_tags=[\"top\"])\n",
    "T₀(x) = VectorValue(0)  # Celsius\n",
    "Uₕ = TrialFESpace(Vₕ, [T₀])  # Essential BC: T = 0°C on the Dirichlet face\n",
    "\n"
   ]
  },
  {
   "cell_type": "code",
   "execution_count": 18,
   "id": "f1516ace",
   "metadata": {},
   "outputs": [
    {
     "data": {
      "text/plain": [
       "SingleFieldFEFunction():\n",
       " num_cells: 64000\n",
       " DomainStyle: ReferenceDomain()\n",
       " Triangulation: BodyFittedTriangulation()\n",
       " Triangulation id: 17365237469657869124"
      ]
     },
     "metadata": {},
     "output_type": "display_data"
    }
   ],
   "source": [
    "# === Problem data ===\n",
    "k = 5.0             # W/C\n",
    "q_in = 20.0          # W/m (heat flux)\n",
    "s = 6               # W/m^2 Body source term (set to non-zero if needed)\n",
    "\n",
    "# === Weak form ===\n",
    "a(u,v) = ∫( k * ∇(v) ⋅ ∇(u) ) * dΩ\n",
    "l(v) = ∫( -1*q_in * v ) * dΓ_flux + ∫( s * v ) * dΩ\n",
    "\n",
    "# === Solve ===\n",
    "op = AffineFEOperator(a, l, Uₕ, Vₕ)\n",
    "Th = solve(op)\n",
    "\n",
    "# writevtk(Ω, \"HeatSink_T\", cellfields = [\"T\" => Th])"
   ]
  },
  {
   "cell_type": "markdown",
   "id": "0905657c",
   "metadata": {},
   "source": [
    "### Thermal compliance"
   ]
  },
  {
   "cell_type": "code",
   "execution_count": 19,
   "id": "41c54322",
   "metadata": {},
   "outputs": [
    {
     "name": "stdout",
     "output_type": "stream",
     "text": [
      "Compliance 1: 4.4788e6\n",
      "Compliance 2: 4.478799999997243e6\n",
      "Compliance 3: 4.478800000000481e6\n"
     ]
    }
   ],
   "source": [
    "T = get_free_dof_values(Th) # displacement vector\n",
    "# Method 1\n",
    "C1 = sum(∫( k * ∇(Th) ⋅ ∇(Th) ) * dΩ) # Compliance\n",
    "println(\"Compliance 1: \", C1)\n",
    "# Method 2\n",
    "C2 = sum(∫( -1*q_in * Th ) * dΓ_flux + ∫( s * Th ) * dΩ) # Compliance\n",
    "println(\"Compliance 2: \", C2)\n",
    "# Method 3\n",
    "u = get_free_dof_values(Th) # displacement vector\n",
    "K = get_matrix(op) # stiffness matrix\n",
    "C3 = dot(u, K * u)\n",
    "println(\"Compliance 3: \", C3)"
   ]
  },
  {
   "cell_type": "markdown",
   "id": "2c8ba3d4",
   "metadata": {},
   "source": [
    "## 3. Run Topology Optimization"
   ]
  },
  {
   "cell_type": "code",
   "execution_count": null,
   "id": "f9f60194",
   "metadata": {},
   "outputs": [
    {
     "name": "stdout",
     "output_type": "stream",
     "text": [
      "It. 10, Obj = 5.56053e+06, Vol.: 7.80000e-01, ch.: 1.86465e-01\n",
      "It. 20, Obj = 5.56053e+06, Vol.: 7.80000e-01, ch.: 1.86465e-01\n",
      "It. 30, Obj = 5.56053e+06, Vol.: 7.80000e-01, ch.: 1.86465e-01\n",
      "It. 40, Obj = 5.56053e+06, Vol.: 7.80000e-01, ch.: 1.86505e-01\n",
      "It. 50, Obj = 5.55934e+06, Vol.: 7.79430e-01, ch.: 2.00000e-01\n"
     ]
    }
   ],
   "source": [
    "volfrac = 0.4\n",
    "p = 3\n",
    "max_iter = 100\n",
    "filter_radius = 2.5\n",
    "num_ele = num_cells(Ω) # Number of elements\n",
    "H = filters(filter_radius, Ω);\n",
    "for iter = 1:max_iter\n",
    "    if iter == 1\n",
    "        ρ_new = 0.5 * ones(num_ele)\n",
    "    end\n",
    "    ρ_old = copy(ρ_new)\n",
    "    ρ_new_fil = H * ρ_new # Filter\n",
    "    # SIMP\n",
    "    ρ_SIMP, dρ_dp = SIMP_Inter(ρ_new_fil, p, Ω)\n",
    "    # ===FE-ANALYSIS\n",
    "    a(u,v) = ∫(ρ_SIMP * k * ∇(v) ⋅ ∇(u) ) * dΩ\n",
    "    l(v) = ∫( -1*q_in * v ) * dΓ_flux + ∫( s * v ) * dΩ\n",
    "    # Solution of the FE problem\n",
    "    op = AffineFEOperator(a, l, Uₕ, Vₕ)\n",
    "    Th = solve(op)\n",
    "    C = sum(∫( ρ_SIMP *k * ∇(Th) ⋅ ∇(Th) ) * dΩ) # Compliance\n",
    "    dC_fil = get_contribution(∫( -dρ_dp*k * ∇(Th) ⋅ ∇(Th) ) * dΩ, Ω) # Sensitivity of compliance w.r.t rho\n",
    "    dC = transpose(H) * (dC_fil[:])\n",
    "\n",
    "    ρ_new = OC(ρ_new, volfrac, dC, num_ele)\n",
    "    change_obj = maximum(abs.(ρ_new .- ρ_old))\n",
    "    # figs = plot_design(ρ_new, cell_coords, iter, L, W)\n",
    "\n",
    "    # display(figs)\n",
    "\n",
    "    if iter % 10 == 0\n",
    "        println(\"It. \", iter, \", Obj = \", @sprintf(\"%.5e\", C), \", Vol.: \", @sprintf(\"%.5e\", sum(ρ_new) / num_ele), \", ch.: \", @sprintf(\"%.5e\", change_obj))\n",
    "    end\n",
    "\n",
    "    if iter == max_iter\n",
    "        writevtk(Ω, \"Heat_Sink_TOP\", cellfields = [\"rho\" => ρ_SIMP])\n",
    "    end\n",
    "\n",
    "end"
   ]
  },
  {
   "cell_type": "markdown",
   "id": "f879d57d",
   "metadata": {},
   "source": [
    "## Finite difference check"
   ]
  },
  {
   "cell_type": "code",
   "execution_count": 15,
   "id": "aa2ac1b5",
   "metadata": {},
   "outputs": [
    {
     "data": {
      "text/plain": [
       "6"
      ]
     },
     "metadata": {},
     "output_type": "display_data"
    }
   ],
   "source": [
    "# === Geometry ===\n",
    "L = 20  # Length of heat sink base\n",
    "W = 20  # Width and Height\n",
    "domain = (0, L, 0, W, 0, W)\n",
    "partition = (5, 5, 5)\n",
    "model = CartesianDiscreteModel(domain, partition)\n",
    "Bottom = [1, 2, 5, 6, 9, 11, 17, 18, 23]\n",
    "Top = [3,4,7,8,10,12,19,20,24]\n",
    "diff_ = setdiff(1:26, Bottom)\n",
    "# === Tags for boundary conditions ===\n",
    "labels = get_face_labeling(model)\n",
    "add_tag_from_tags!(labels, \"bottom\", Bottom) # example indices for corners/edges\n",
    "add_tag_from_tags!(labels, \"top\", Top) # Top\n",
    "# === Tag elements at the center of the left face ===\n",
    "# writevtk(model, \"HeatSink\")\n",
    "# === Integration ===\n",
    "degree = 2\n",
    "Ω = Triangulation(model)\n",
    "dΩ = Measure(Ω, degree)\n",
    "Γ_flux = BoundaryTriangulation(model, tags = \"bottom\")\n",
    "dΓ_flux = Measure(Γ_flux, degree)\n",
    "# === FE space ===\n",
    "order = 1\n",
    "reffe = ReferenceFE(lagrangian, Float64, order)\n",
    "\n",
    "Vₕ = TestFESpace(Ω, reffe; conformity=:H1, dirichlet_tags=[\"top\"])\n",
    "T₀(x) = VectorValue(0)  # Celsius\n",
    "Uₕ = TrialFESpace(Vₕ, [T₀])  # Essential BC: T = 0°C on the Dirichlet face\n",
    "# ------------\n",
    "k = 5.0             # W/C\n",
    "q_in = 20.0          # W/m (heat flux)\n",
    "s = 6               # W/m^2 Body source term (set to non-zero if needed)"
   ]
  },
  {
   "cell_type": "code",
   "execution_count": null,
   "id": "58ac6d93",
   "metadata": {},
   "outputs": [
    {
     "name": "stdout",
     "output_type": "stream",
     "text": [
      "Computing finite difference sensitivities of cost...\n",
      "Max. ABSOLUTE error is:  -2.23519e+02\n",
      "It occurs at variable of  5\n",
      "Max. RELATIVE error is:  -7.99542e-06\n",
      "It occurs at variable of  5\n"
     ]
    },
    {
     "data": {
      "text/plain": [
       "GLMakie.Screen(...)"
      ]
     },
     "metadata": {},
     "output_type": "display_data"
    }
   ],
   "source": [
    "num_ele = num_cells(Ω) # Number of elements\n",
    "H = filters(filter_radius, Ω);\n",
    "# ------------------------\n",
    "fd_step_size = 1e-6\n",
    "dv = rand(num_ele)\n",
    "type_FEA = \"Thermal\"\n",
    "figs = run_finite_difference_check(type_FEA, dv, fd_step_size, H, p, k, q_in, s, Ω, dΩ, dΓ_flux, Uₕ, Vₕ)\n",
    "display(figs)"
   ]
  }
 ],
 "metadata": {
  "kernelspec": {
   "display_name": "Julia 1.10.4",
   "language": "julia",
   "name": "julia-1.10"
  },
  "language_info": {
   "file_extension": ".jl",
   "mimetype": "application/julia",
   "name": "julia",
   "version": "1.10.4"
  }
 },
 "nbformat": 4,
 "nbformat_minor": 5
}
