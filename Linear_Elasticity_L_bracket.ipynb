{
 "cells": [
  {
   "cell_type": "markdown",
   "id": "bdf6cfaf",
   "metadata": {},
   "source": [
    "## Linear Elasticity for Cantilever Beam"
   ]
  },
  {
   "cell_type": "code",
   "execution_count": 5,
   "id": "5af4ef94",
   "metadata": {},
   "outputs": [],
   "source": [
    "using Gridap, Gridap.CellData, SparseArrays, BenchmarkTools\n",
    "using NearestNeighbors, Printf  # make sure this is at the top of your file\n",
    "using Makie,GLMakie, LaTeXStrings, Makie.GeometryBasics\n",
    "using Gridap\n",
    "using GridapGmsh"
   ]
  },
  {
   "cell_type": "markdown",
   "id": "1631c20f",
   "metadata": {},
   "source": [
    "### Add labels to left and right faces for boundary conditions"
   ]
  },
  {
   "cell_type": "code",
   "execution_count": 6,
   "id": "23042dba",
   "metadata": {},
   "outputs": [
    {
     "name": "stdout",
     "output_type": "stream",
     "text": [
      "Info    : Reading 'Lbracket2d_Sy.msh'...\n",
      "Info    : 15 entities\n",
      "Info    : 36229 nodes\n",
      "Info    : 36635 elements\n",
      "Info    : Done reading 'Lbracket2d_Sy.msh'\n"
     ]
    },
    {
     "name": "stderr",
     "output_type": "stream",
     "text": [
      "Warning : Gmsh has aleady been initialized\n"
     ]
    },
    {
     "ename": "ErrorException",
     "evalue": "",
     "output_type": "error",
     "traceback": [
      "\n",
      "\n",
      "Stacktrace:\n",
      " [1] error(s::String)\n",
      "   @ Base .\\error.jl:35\n",
      " [2] renumberNodes\n",
      "   @ C:\\Users\\snv22002\\.julia\\artifacts\\5cff37c5ecc16844bf4dd3a6ac574b4e15c913c4\\lib\\gmsh.jl:3008 [inlined]\n",
      " [3] GmshDiscreteModel(mshfile::String; renumber::Bool, has_affine_map::Nothing, orient_if_simplex::Nothing)\n",
      "   @ GridapGmsh C:\\Users\\snv22002\\.julia\\packages\\GridapGmsh\\Iih5l\\src\\GmshDiscreteModels.jl:23\n",
      " [4] GmshDiscreteModel(mshfile::String)\n",
      "   @ GridapGmsh C:\\Users\\snv22002\\.julia\\packages\\GridapGmsh\\Iih5l\\src\\GmshDiscreteModels.jl:12\n",
      " [5] top-level scope\n",
      "   @ c:\\Users\\snv22002\\Documents\\GitHub\\Finite-Element-Method-with-Gridap.jl\\jl_notebook_cell_df34fa98e69747e1a8f8a730347b8e2f_W3sZmlsZQ==.jl:1"
     ]
    }
   ],
   "source": [
    "model = GmshDiscreteModel(\"Lbracket2d_Sy.msh\")\n"
   ]
  },
  {
   "cell_type": "code",
   "execution_count": 25,
   "id": "788ed275",
   "metadata": {},
   "outputs": [],
   "source": []
  },
  {
   "cell_type": "markdown",
   "id": "57d3da5b",
   "metadata": {},
   "source": [
    "### Construct weak form in Gridap.jl"
   ]
  },
  {
   "cell_type": "code",
   "execution_count": 26,
   "id": "cda3eae2",
   "metadata": {},
   "outputs": [],
   "source": [
    "# Integrating on the domain Ω\n",
    "degree = 2\n",
    "Ω = Triangulation(model)\n",
    "dΩ = Measure(Ω, degree)\n",
    "# neumann boundaries\n",
    "Γ = BoundaryTriangulation(model,tags = \"Load\")\n",
    "dΓ = Measure(Γ,degree)\n",
    "# Vector-valued FE space\n",
    "order = 1\n",
    "reffe = ReferenceFE(lagrangian, VectorValue{2,Float64}, order)\n",
    "\n",
    "V = TestFESpace(Ω, reffe; conformity=:H1, dirichlet_tags = \"Top\")\n",
    "U = TrialFESpace(V)\n",
    "\n",
    "# Constitutive law for LINEAR ELASTICITY \n",
    "const ν = 0.3   # Poisson's ratio\n",
    "const E = 119e3 # Young's modulus\n",
    "\n",
    "const λ = (E*ν)/((1+ν)*(1-2*ν)) # C12\n",
    "const μ = E/(2*(1+ν)) # Shear modulus\n",
    "ε₀(u) = 0.5 * ( ∇(u) + transpose(∇(u))) # Strain; In Gridap this can be automatically defined in Gridap.ε\n",
    "σ(ε₀) = λ * tr(ε₀) * one(ε₀) + 2μ * ε₀; # Stress"
   ]
  },
  {
   "cell_type": "markdown",
   "id": "ae9426b3",
   "metadata": {},
   "source": [
    "## Run finite element analysis"
   ]
  },
  {
   "cell_type": "code",
   "execution_count": 27,
   "id": "05fff696",
   "metadata": {},
   "outputs": [
    {
     "data": {
      "text/plain": [
       "SingleFieldFEFunction():\n",
       " num_cells: 35828\n",
       " DomainStyle: ReferenceDomain()\n",
       " Triangulation: BodyFittedTriangulation()\n",
       " Triangulation id: 10711105065389535731"
      ]
     },
     "metadata": {},
     "output_type": "display_data"
    }
   ],
   "source": [
    "# The weak form\n",
    "F(x) = VectorValue(0.0, -50) # A unit load along Y axis applies to each node on the right face\n",
    "a(u,v) = ∫((σ∘ε₀(u)) ⊙ ε₀(v)) *dΩ # Left-hand size; (∘) Composite functions\n",
    "l(v) = ∫(F ⋅ v) * dΓ # Right-hand size\n",
    "# Solution of the FE problem\n",
    "op = AffineFEOperator(a,l,U,V)\n",
    "uh = solve(op)\n",
    "# writevtk(Ω,\"L_bracket_uh\",cellfields=[\"uh\"=>uh,\"epsi\"=>ε₀(uh),\"sigma\"=>σ∘ε₀(uh)])"
   ]
  },
  {
   "cell_type": "markdown",
   "id": "dff049c0",
   "metadata": {},
   "source": [
    "### Compute the compliance"
   ]
  },
  {
   "cell_type": "code",
   "execution_count": 28,
   "id": "da87b7de",
   "metadata": {},
   "outputs": [
    {
     "name": "stdout",
     "output_type": "stream",
     "text": [
      "Compliance 1: 57.8758596405091\n",
      "Compliance 2: 57.875859640437945\n",
      "Compliance 3: 57.87585964028993\n",
      "Compliance 4: 57.87585964045955\n"
     ]
    }
   ],
   "source": [
    "# Method 1\n",
    "C1 = sum(∫((σ ∘ ε₀(uh)) ⊙ ε₀(uh)) * dΩ) # Compliance\n",
    "println(\"Compliance 1: \", C1)\n",
    "# Method 2\n",
    "C2 = sum(∫(F ⋅ uh) * dΓ) # Compliance\n",
    "println(\"Compliance 2: \", C2)\n",
    "# Method 3\n",
    "U = get_free_dof_values(uh) # displacement vector\n",
    "K = get_matrix(op) # stiffness matrix\n",
    "C3 = dot(U, K * U)\n",
    "println(\"Compliance 3: \", C3)\n",
    "# Method 4 using for loop to compute sum(ue^T*ke*ue)\n",
    "\n",
    "using Gridap.Arrays, Gridap.FESpaces\n",
    "\n",
    "cell_dofs = get_cell_dof_values(uh)\n",
    "u = get_trial_fe_basis(V)\n",
    "v = get_fe_basis(V)\n",
    "K_e = get_array(∫((σ ∘ ε₀(u)) ⊙ ε₀(v)) * dΩ)\n",
    "numele = num_cells(Ω) # Number of elements\n",
    "C4 = 0.0 # Comliance\n",
    "for e=1:numele\n",
    "    ue = cell_dofs[e]    # element displacement\n",
    "    ke = K_e[e] # element stiffness matrix\n",
    "    C4 = C4 + transpose(ue)*ke*ue\n",
    "end\n",
    "println(\"Compliance 4: \", C4)"
   ]
  }
 ],
 "metadata": {
  "kernelspec": {
   "display_name": "Julia 1.10.4",
   "language": "julia",
   "name": "julia-1.10"
  },
  "language_info": {
   "file_extension": ".jl",
   "mimetype": "application/julia",
   "name": "julia",
   "version": "1.10.4"
  }
 },
 "nbformat": 4,
 "nbformat_minor": 5
}
