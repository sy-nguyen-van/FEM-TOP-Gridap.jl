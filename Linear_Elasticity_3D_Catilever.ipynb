{
 "cells": [
  {
   "cell_type": "markdown",
   "id": "bdf6cfaf",
   "metadata": {},
   "source": [
    "## Linear Elasticity for Cantilever Beam"
   ]
  },
  {
   "cell_type": "code",
   "execution_count": null,
   "id": "5af4ef94",
   "metadata": {},
   "outputs": [],
   "source": [
    "using Gridap, Gridap.CellData, SparseArrays\n",
    "using NearestNeighbors, Printf  # make sure this is at the top of your file\n",
    "using Makie,GLMakie, LaTeXStrings, Makie.GeometryBasics"
   ]
  },
  {
   "cell_type": "code",
   "execution_count": null,
   "id": "c6734684",
   "metadata": {},
   "outputs": [],
   "source": [
    "include(\"plot_design.jl\")\n",
    "include(\"OC.jl\")\n",
    "include(\"SIMP_Inter.jl\")"
   ]
  },
  {
   "cell_type": "markdown",
   "id": "e83be394",
   "metadata": {},
   "source": [
    "## 1. Problem\n",
    "### Let's consider the 3D cantilever beam as follows:\n",
    "<img src=\"imagines/3D_Cantilever.png\" style=\"width:400px;height:250px\"/>"
   ]
  },
  {
   "cell_type": "markdown",
   "id": "77c9588f",
   "metadata": {},
   "source": [
    "The dimensions of beam are $L$ and $W$. \n",
    "\n",
    "This beam is fixed at $x=0$ and is applied a uniformly distributed load at $x=L$. The magnitude of the distributed load is $\\mathbf{F} = [0, -1, 0]^T$. "
   ]
  },
  {
   "cell_type": "markdown",
   "id": "808c9209",
   "metadata": {},
   "source": [
    "## Strong Form\n",
    "\n",
    "**Equilibrium equation:**\n",
    "$$\n",
    "\\nabla \\cdot \\boldsymbol{\\sigma} + \\mathbf{b} = \\mathbf{0} \\text{ in } \\Omega,\n",
    "$$\n",
    "\n",
    "**Kinematics equation (strain–displacement relation):**\n",
    "$$\n",
    "\\boldsymbol{\\varepsilon} = \\nabla_S \\mathbf{u} = \\frac{1}{2} \\Big[ \\nabla \\mathbf{u} + (\\nabla \\mathbf{u})^T \\Big].\n",
    "$$\n",
    "\n",
    "**Constitutive equation (stress–strain relation):**\n",
    "$$\n",
    "\\boldsymbol{\\sigma} = \\mathbf{C} \\boldsymbol{\\varepsilon} \n",
    "\\quad \\text{or} \\quad \n",
    "\\boldsymbol{\\sigma} = \\lambda \\, \\text{tr}(\\boldsymbol{\\varepsilon})\\, \\mathbf{I} + 2\\mu\\, \\boldsymbol{\\varepsilon}.\n",
    "$$\n",
    "\n",
    "At the face with $x=L$ which is a boundary condition denoted by $\\Gamma$, we have:\n",
    "\n",
    "$$\n",
    "\\boldsymbol{\\sigma} \\cdot \\mathbf{n} = \\mathbf{F} = \\begin{bmatrix}\n",
    "0 & -1 & 0\n",
    "\\end{bmatrix}^T\n",
    " \\text{ on } \\Gamma,\n",
    "$$\n",
    "\n",
    "where $\\boldsymbol{\\sigma}$ is the stress tensor, $\\mathbf{b}$ is the body force, $\\mathbf{F}$ is the applied traction, and $\\mathbf{n}$ is the outward unit normal.\n"
   ]
  },
  {
   "cell_type": "markdown",
   "id": "dab67038",
   "metadata": {},
   "source": [
    "## Derivation of the Weak Form from the Strong Form\n",
    "\n",
    "### Step 1: Multiply by a Test Function\n",
    "To derive the weak form, multiply the strong form by a test function $\\mathbf{v} \\in H^1(\\Omega)$ (with $\\mathbf{v} = \\mathbf{0}$ on Dirichlet boundaries) and integrate over the domain $\\Omega$:\n",
    "\n",
    "$$\n",
    "\\int_{\\Omega} (\\nabla \\cdot \\boldsymbol{\\sigma}) \\cdot \\mathbf{v} \\, d\\Omega = -\\int_{\\Omega} \\mathbf{b} \\cdot \\mathbf{v} \\, d\\Omega.\n",
    "$$\n",
    "In this example, we assume that $\\mathbf{b} = \\mathbf{0}$, the we have:\n",
    "\n",
    "$$\n",
    "\\int_{\\Omega} (\\nabla \\cdot \\boldsymbol{\\sigma}) \\cdot \\mathbf{v} \\, d\\Omega = 0.\n",
    "$$"
   ]
  },
  {
   "cell_type": "markdown",
   "id": "e005f994",
   "metadata": {},
   "source": [
    "\n",
    "### Step 2: Apply the Divergence Theorem\n",
    "We have the equivalent form of $(\\nabla \\cdot \\boldsymbol{\\sigma}) \\cdot \\mathbf{v} $ as follows:\n",
    "\n",
    "$$\n",
    "(\\nabla \\cdot \\boldsymbol{\\sigma}) \\cdot \\mathbf{v} = \\nabla \\cdot (\\boldsymbol{\\sigma} \\cdot \\mathbf{v}) - \\boldsymbol{\\sigma} : \\nabla \\mathbf{v}.\n",
    "$$\n",
    "Then we have,\n",
    "$$\n",
    "\\int_{\\Omega} (\\nabla_S^T \\boldsymbol{\\sigma}) \\cdot \\mathbf{v} \\, d\\Omega = \\int_{\\Omega} \\left[ \\nabla \\cdot (\\boldsymbol{\\sigma} \\cdot \\mathbf{v}) - \\boldsymbol{\\sigma} : \\nabla \\mathbf{v} \\right] \\, d\\Omega.\n",
    "$$\n",
    "\n",
    "Apply the divergence theorem to $ \\int_{\\Omega} \\nabla \\cdot (\\boldsymbol{\\sigma} \\cdot \\mathbf{v}) \\, d\\Omega$:\n",
    "\n",
    "$$\n",
    "\\int_{\\Omega} \\nabla \\cdot (\\boldsymbol{\\sigma} \\cdot \\mathbf{v}) \\, d\\Omega = \\int_{\\partial \\Omega} (\\boldsymbol{\\sigma} \\cdot \\mathbf{v}) \\cdot \\mathbf{n} \\, d\\Gamma = \\int_{\\partial \\Omega} (\\boldsymbol{\\sigma} \\cdot \\mathbf{n}) \\cdot \\mathbf{v} \\, d\\Gamma.\n",
    "$$\n",
    "\n",
    "Because, we set the boundary condition $\\boldsymbol{\\sigma} \\cdot \\mathbf{n} = \\mathbf{F}$ on $\\Gamma$, then we have:\n",
    "\n",
    "$$\n",
    "\\int_{\\partial \\Omega} (\\boldsymbol{\\sigma} \\cdot \\mathbf{n}) \\cdot \\mathbf{v} \\, d\\Gamma = \\int_{\\Gamma} \\mathbf{F} \\cdot \\mathbf{v} \\, d\\Gamma.\n",
    "$$\n",
    "\n",
    "Thus:\n",
    "\n",
    "$$\n",
    "\\int_{\\Omega} (\\nabla_S^T \\boldsymbol{\\sigma}) \\cdot \\mathbf{v} \\, d\\Omega = \\int_{\\Gamma} \\mathbf{F} \\cdot \\mathbf{v} \\, d\\Gamma - \\int_{\\Omega} \\boldsymbol{\\sigma} : \\nabla \\mathbf{v} \\, d\\Omega = 0.\n",
    "$$\n"
   ]
  },
  {
   "cell_type": "markdown",
   "id": "b7c19832",
   "metadata": {},
   "source": [
    "\n",
    "### Step 3: Relate Stress to Strain\n",
    "The stress $\\boldsymbol{\\sigma}$ depends on the strain $\\boldsymbol{\\varepsilon}(\\mathbf{u})$, where the strain tensor is:\n",
    "\n",
    "$$\n",
    "\\boldsymbol{\\varepsilon}(\\mathbf{u}) = \\frac{1}{2} \\left( \\nabla \\mathbf{u} + (\\nabla \\mathbf{u})^T \\right).\n",
    "$$\n",
    "\n",
    "Similarly, for the test function:\n",
    "\n",
    "$$\n",
    "\\boldsymbol{\\varepsilon}(\\mathbf{v}) = \\frac{1}{2} \\left( \\nabla \\mathbf{v} + (\\nabla \\mathbf{v})^T \\right).\n",
    "$$\n",
    "\n",
    "$$\n",
    "\\nabla \\mathbf{v} = \\boldsymbol{\\varepsilon}(\\mathbf{v}) + \\frac{1}{2} \\left( \\nabla \\mathbf{v} - (\\nabla \\mathbf{v})^T \\right).\n",
    "$$\n",
    "\n",
    "$$\\nabla \\mathbf{v} = \\boldsymbol{\\varepsilon}(\\mathbf{v}) + \\boldsymbol{\\omega}(\\mathbf{v})$$\n",
    "\n",
    "where $\\boldsymbol{\\omega}(\\mathbf{v}) = \\frac{1}{2} \\left( \\nabla \\mathbf{v} - (\\nabla \\mathbf{v})^T \\right)$, then we have:\n",
    "\n",
    "$$\n",
    "\\boldsymbol{\\sigma} : \\nabla \\mathbf{v} = \\boldsymbol{\\sigma} : \\boldsymbol{\\varepsilon}(\\mathbf{v}) + \\boldsymbol{\\sigma} : \\boldsymbol{\\omega}(\\mathbf{v}),\n",
    "$$\n",
    "because $\\boldsymbol{\\omega}(\\mathbf{v}) $ is skew-symmetric and $\\boldsymbol{\\sigma}$ is symmetric, then $\\boldsymbol{\\sigma} : \\boldsymbol{\\omega}(\\mathbf{v}) = 0$. Thus:\n",
    "\n",
    "$$\n",
    "\\int_{\\Omega} \\boldsymbol{\\sigma} : \\nabla \\mathbf{v} \\, d\\Omega = \\int_{\\Omega} \\boldsymbol{\\sigma} : \\boldsymbol{\\varepsilon}(\\mathbf{v}) \\, d\\Omega.\n",
    "$$\n"
   ]
  },
  {
   "cell_type": "markdown",
   "id": "ea36e6a5",
   "metadata": {},
   "source": [
    "\n",
    "### Step 4: Formulate the Weak Form\n",
    "Now, we have the weak form as follows:\n",
    "$$\n",
    "\\int_{\\Omega} \\boldsymbol{\\sigma}(\\boldsymbol{\\varepsilon}(\\mathbf{u})) : \\boldsymbol{\\varepsilon}(\\mathbf{v}) \\, d\\Omega = \\int_{\\Gamma} \\mathbf{F} \\cdot \\mathbf{v} \\, d\\Gamma.\n",
    "$$"
   ]
  },
  {
   "cell_type": "markdown",
   "id": "5b788af1",
   "metadata": {},
   "source": [
    "\n",
    "### Final Weak Form to be used in Gridap.jl\n",
    "Then, before using Gridap.jl, we define the bilinear form. Find $\\mathbf{u}$ such that for all test functions $\\mathbf{v}$:\n",
    "\n",
    "$$\n",
    "a(\\mathbf{u}, \\mathbf{v}) = l(\\mathbf{v}),\n",
    "$$\n",
    "\n",
    "where:\n",
    "\n",
    "$$\n",
    "a(\\mathbf{u}, \\mathbf{v}) = \\int_{\\Omega} \\big[ \\boldsymbol{\\sigma}(\\boldsymbol{\\varepsilon}(\\mathbf{u})) : \\boldsymbol{\\varepsilon}(\\mathbf{v}) \\big] \\, d\\Omega,\n",
    "\\quad\n",
    "l(\\mathbf{v}) = \\int_{\\Gamma} \\mathbf{F} \\cdot \\mathbf{v} \\, d\\Gamma.\n",
    "$$"
   ]
  },
  {
   "cell_type": "markdown",
   "id": "9c2120e9",
   "metadata": {},
   "source": [
    "## Inputs"
   ]
  },
  {
   "cell_type": "code",
   "execution_count": null,
   "id": "4f76a4d7",
   "metadata": {},
   "outputs": [],
   "source": [
    "# ==============================================\n",
    "L = 60 # Length\n",
    "W = 20 # Height\n",
    "domain = (0, L, 0, W) # sizes along X, Y\n",
    "partition = (L*2, W*2) # mesh sizes\n",
    "model = CartesianDiscreteModel(domain, partition)\n",
    "# writevtk(model, \"Cantilever_Beam_2D\")\n",
    "# Tag the left face (x = 0); right face (x = L)\n",
    "labels = get_face_labeling(model)\n",
    "add_tag_from_tags!(labels, \"left\", [1, 3, 7]) # \n",
    "add_tag_from_tags!(labels, \"right\", [2, 4, 8]) # \n",
    "# Integrating on the domain Ω\n",
    "degree = 2\n",
    "Ω = Triangulation(model)\n",
    "dΩ = Measure(Ω, degree)\n",
    "# neumann boundaries\n",
    "Γ = BoundaryTriangulation(model, tags=\"right\")\n",
    "dΓ = Measure(Γ, degree)\n",
    "# Vector-valued FE space\n",
    "order = 1\n",
    "reffe = ReferenceFE(lagrangian, VectorValue{2,Float64}, order)\n",
    "Vₕ = TestFESpace(Ω, reffe; conformity=:H1, dirichlet_tags=\"left\")\n",
    "Uₕ = TrialFESpace(Vₕ)\n",
    "# Constitutive law for LINEAR ELASTICITY \n",
    "const E = 119e3 # Young's modulus\n",
    "const ν = 0.3   # Poisson's ratio\n",
    "const λ = (E * ν) / ((1 + ν) * (1 - 2 * ν)) # Lamé parameters\n",
    "const μ = E / (2 * (1 + ν)) # Lamé parameters\n",
    "ε₀(u) = 0.5 * (∇(u) + transpose(∇(u))) # Strain; In Gridap this can be automatically defined in Gridap.ε\n",
    "σ(ε₀) = λ * tr(ε₀) * one(ε₀) + 2μ * ε₀ # Stress\n"
   ]
  },
  {
   "cell_type": "markdown",
   "id": "ae9426b3",
   "metadata": {},
   "source": [
    "## Filters"
   ]
  },
  {
   "cell_type": "code",
   "execution_count": null,
   "id": "05fff696",
   "metadata": {},
   "outputs": [],
   "source": [
    "\n",
    "num_ele = num_cells(Ω) # Number of elements\n",
    "volfrac = 0.4\n",
    "p = 3\n",
    "max_iter = 50\n",
    "# Compute centroids of elements and store in a matrix\n",
    "cell_coords = get_cell_coordinates(Ω) # Get coordinates of vertices for each cell\n",
    "no_ele = length(cell_coords) # Number of elements\n",
    "centroid_matrix = zeros(2, no_ele) # Matrix to store centroids (no_ele × 2)\n",
    "\n",
    "for (cell_id, coords) in enumerate(cell_coords)\n",
    "    # Compute centroid by averaging vertex coordinates\n",
    "    centroid = sum(coords) / length(coords)\n",
    "    centroid_matrix[:, cell_id] = [centroid[1], centroid[2]] # Store x, y coordinates\n",
    "end\n",
    "\n",
    "# Number of neighbors for each element\n",
    "filter_radius = 2\n",
    "tol = 1e-3\n",
    "search_dist = filter_radius - tol\n",
    "balltree = BallTree(centroid_matrix)\n",
    "OPT_H = zeros(num_ele, num_ele)\n",
    "for iel in 1:num_ele\n",
    "    near_ele = inrange(balltree, centroid_matrix[:, iel], search_dist)\n",
    "    dist = sqrt.(sum((centroid_matrix[:, near_ele] .- centroid_matrix[:, iel]) .^ 2, dims=1))\n",
    "    num = 1 .- dist ./ filter_radius\n",
    "    den = sum(num)\n",
    "    OPT_H[iel, near_ele] = num / den\n",
    "end\n",
    "H = sparse(OPT_H);"
   ]
  },
  {
   "cell_type": "markdown",
   "id": "e5ded971",
   "metadata": {},
   "source": [
    "## Run topology optimization"
   ]
  },
  {
   "cell_type": "code",
   "execution_count": null,
   "id": "7e6ddf42",
   "metadata": {},
   "outputs": [],
   "source": [
    "\n",
    "for iter = 1:max_iter\n",
    "    if iter == 1\n",
    "        ρ_new = 0.5 * ones(num_ele)\n",
    "    end\n",
    "    ρ_old = copy(ρ_new)\n",
    "    ρ_new_fil = H * ρ_new # Filter\n",
    "    # SIMP\n",
    "    ρ_SIMP, dρ_dp = SIMP_Inter(ρ_new_fil, p, Ω)\n",
    "    # ===FE-ANALYSIS\n",
    "    F(x) = VectorValue(0.0, -1) # I want to apply a unit load along Y axis to each node on the right face\n",
    "    l(v) = ∫(F ⋅ v) * dΓ # Right-hand size\n",
    "    a(u, v) = ∫(ρ_SIMP * (σ ∘ ε₀(u)) ⊙ ε₀(v)) * dΩ # Left-hand size; (∘) Composite functions\n",
    "\n",
    "    # Solution of the FE problem\n",
    "    op = AffineFEOperator(a, l, Uₕ, Vₕ)\n",
    "    uh = solve(op)\n",
    "    C = sum(∫(ρ_SIMP * (σ ∘ ε₀(uh)) ⊙ ε₀(uh)) * dΩ) # Compliance\n",
    "    dC_fil = get_contribution(∫(-dρ_dp * (σ ∘ ε₀(uh)) ⊙ ε₀(uh)) * dΩ, Ω) # Sensitivity of compliance w.r.t rho\n",
    "    dC = transpose(H) * (dC_fil[:])\n",
    "\n",
    "    ρ_new = OC(ρ_new, volfrac, dC, num_ele)\n",
    "    change_obj = maximum(abs.(ρ_new .- ρ_old))\n",
    "    figs = plot_design(ρ_new, cell_coords, iter, L, W)\n",
    "\n",
    "    display(figs)\n",
    "\n",
    "    println(\"It. \", iter, \", Obj = \", @sprintf(\"%.5e\", C), \", Vol.: \", @sprintf(\"%.5e\", sum(ρ_new) / num_ele), \", ch.: \", @sprintf(\"%.5e\", change_obj))\n",
    "    if iter == max_iter\n",
    "        writevtk(Ω, \"Cantilever_Beam_2D_TOP\", cellfields=[\"rho\" => ρ_SIMP])\n",
    "    end\n",
    "end"
   ]
  },
  {
   "cell_type": "code",
   "execution_count": null,
   "id": "9b929356",
   "metadata": {},
   "outputs": [],
   "source": []
  }
 ],
 "metadata": {
  "kernelspec": {
   "display_name": "Julia 1.10.4",
   "language": "julia",
   "name": "julia-1.10"
  },
  "language_info": {
   "file_extension": ".jl",
   "mimetype": "application/julia",
   "name": "julia",
   "version": "1.10.4"
  }
 },
 "nbformat": 4,
 "nbformat_minor": 5
}
